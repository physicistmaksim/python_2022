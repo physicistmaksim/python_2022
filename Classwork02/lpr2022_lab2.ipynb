{
 "cells": [
  {
   "cell_type": "markdown",
   "id": "5e2169fa",
   "metadata": {
    "pycharm": {
     "name": "#%% md\n"
    }
   },
   "source": [
    "## Двумерные списки"
   ]
  },
  {
   "cell_type": "markdown",
   "id": "24411da1",
   "metadata": {
    "pycharm": {
     "name": "#%% md\n"
    }
   },
   "source": [
    "\"Двумерный список\" — это обычный список, элементами которого являются списки. Такой термин удобен для нас, но для Python нет разницы между одномерными и двумерными списками. В частности, нечто такое вообще будет являться промежуточным: `[1, [2, 3, 4], 5]`\n",
    "\n",
    "Создадим список и рассмотрим обращение к элементам."
   ]
  },
  {
   "cell_type": "code",
   "execution_count": 5,
   "id": "bdba992b",
   "metadata": {
    "pycharm": {
     "name": "#%%\n"
    }
   },
   "outputs": [
    {
     "name": "stdout",
     "output_type": "stream",
     "text": [
      "[1, 2, 3] [4, 5, 6]\n",
      "[[1, 2, 3], [4, 5, 6]]\n",
      "4 5 6\n",
      "4\n",
      "6\n"
     ]
    }
   ],
   "source": [
    "a = [[1, 2, 3], [4, 5, 6]]\n",
    "print(*a)\n",
    "print(a)\n",
    "print(*a[1])\n",
    "print(a[1][0])\n",
    "print(a[-1][-1])"
   ]
  },
  {
   "cell_type": "code",
   "execution_count": 6,
   "id": "29994282",
   "metadata": {
    "pycharm": {
     "name": "#%%\n"
    }
   },
   "outputs": [
    {
     "name": "stdout",
     "output_type": "stream",
     "text": [
      "1 2 3\n",
      "4 5 6\n"
     ]
    }
   ],
   "source": [
    "for i in range(len(a)):\n",
    "    print(*a[i])"
   ]
  },
  {
   "cell_type": "markdown",
   "id": "b88a9954",
   "metadata": {
    "pycharm": {
     "name": "#%% md\n"
    }
   },
   "source": [
    "Для создания списка можем использовать генераторы:"
   ]
  },
  {
   "cell_type": "code",
   "execution_count": 1,
   "id": "4a2fb96f",
   "metadata": {
    "pycharm": {
     "name": "#%%\n"
    }
   },
   "outputs": [
    {
     "name": "stdout",
     "output_type": "stream",
     "text": [
      "[[1, 2, 3], [1, 2, 3], [1, 2, 3], [1, 2, 3]]\n",
      "1 2 3\n",
      "1 2 3\n",
      "1 2 3\n",
      "1 2 3\n"
     ]
    }
   ],
   "source": [
    "a = [[1, 2, 3] for i in range(4)]\n",
    "print(a)\n",
    "for i in range(len(a)):\n",
    "    print(*a[i])"
   ]
  },
  {
   "cell_type": "code",
   "execution_count": 2,
   "id": "4f287c52",
   "metadata": {
    "pycharm": {
     "name": "#%%\n"
    }
   },
   "outputs": [
    {
     "name": "stdout",
     "output_type": "stream",
     "text": [
      "0 1 2\n",
      "1 2 3\n",
      "2 3 4\n",
      "3 4 5\n"
     ]
    }
   ],
   "source": [
    "a = [[i, i+1, i+2] for i in range(4)]\n",
    "for i in range(len(a)):\n",
    "    print(*a[i])"
   ]
  },
  {
   "cell_type": "code",
   "execution_count": 10,
   "id": "f739ed7d",
   "metadata": {
    "pycharm": {
     "name": "#%%\n"
    }
   },
   "outputs": [
    {
     "name": "stdout",
     "output_type": "stream",
     "text": [
      "0 1 2\n",
      "1 2 3\n",
      "2 3 4\n",
      "3 4 5\n"
     ]
    }
   ],
   "source": [
    "for x in a:\n",
    "    print(*x)"
   ]
  },
  {
   "cell_type": "code",
   "execution_count": 11,
   "id": "9a48cf74",
   "metadata": {
    "pycharm": {
     "name": "#%%\n"
    }
   },
   "outputs": [
    {
     "name": "stdout",
     "output_type": "stream",
     "text": [
      "[[0, 1, 2], [1, 2, 3], [2, 3, 4], [3, 4, 5]]\n"
     ]
    }
   ],
   "source": [
    "print(a)"
   ]
  },
  {
   "cell_type": "markdown",
   "id": "11dad1dc",
   "metadata": {
    "pycharm": {
     "name": "#%% md\n"
    }
   },
   "source": [
    "Вот пример создания списка списков при помощи генератора списка, *вложенного* в генератор списка:"
   ]
  },
  {
   "cell_type": "code",
   "execution_count": 12,
   "id": "dead9401",
   "metadata": {
    "pycharm": {
     "name": "#%%\n"
    }
   },
   "outputs": [
    {
     "name": "stdout",
     "output_type": "stream",
     "text": [
      "0 1 2 3 4\n",
      "0 1 2 3 4\n",
      "0 1 2 3 4\n",
      "0 1 2 3 4\n",
      "0 1 2 3 4\n"
     ]
    }
   ],
   "source": [
    "a = [[j for j in range(5)] for i in range(5)]\n",
    "for x in a:\n",
    "    print(*x)"
   ]
  },
  {
   "cell_type": "markdown",
   "id": "02e09442",
   "metadata": {
    "pycharm": {
     "name": "#%% md\n"
    }
   },
   "source": [
    "**Упражнение:** создайте двумерный список. Заполните его следующим образом: значение элемента - номер его строки."
   ]
  },
  {
   "cell_type": "code",
   "execution_count": 13,
   "id": "18ede4a8",
   "metadata": {
    "pycharm": {
     "name": "#%%\n"
    }
   },
   "outputs": [
    {
     "name": "stdout",
     "output_type": "stream",
     "text": [
      "1 1 1\n",
      "2 2 2\n",
      "3 3 3\n",
      "4 4 4\n",
      "5 5 5\n"
     ]
    }
   ],
   "source": [
    "a = [[i+1, i+1 ,i+1] for i in range(5)]\n",
    "for p in range(len(a)):\n",
    "    print(*a[p])"
   ]
  },
  {
   "cell_type": "markdown",
   "id": "16ce173d",
   "metadata": {
    "pycharm": {
     "name": "#%% md\n"
    }
   },
   "source": [
    "**Пример.** Напечатаем таблицу умножения $10*10$:"
   ]
  },
  {
   "cell_type": "code",
   "execution_count": 14,
   "id": "9b197df4",
   "metadata": {
    "pycharm": {
     "name": "#%%\n"
    }
   },
   "outputs": [
    {
     "name": "stdout",
     "output_type": "stream",
     "text": [
      "1 2 3 4 5 6 7 8 9 10\n",
      "2 4 6 8 10 12 14 16 18 20\n",
      "3 6 9 12 15 18 21 24 27 30\n",
      "4 8 12 16 20 24 28 32 36 40\n",
      "5 10 15 20 25 30 35 40 45 50\n",
      "6 12 18 24 30 36 42 48 54 60\n",
      "7 14 21 28 35 42 49 56 63 70\n",
      "8 16 24 32 40 48 56 64 72 80\n",
      "9 18 27 36 45 54 63 72 81 90\n",
      "10 20 30 40 50 60 70 80 90 100\n"
     ]
    }
   ],
   "source": [
    "n, m = 10, 10\n",
    "a = [[i * j for j in range(1, m + 1)] for i in range(1, n + 1)]\n",
    "for x in a:\n",
    "    print(*x)"
   ]
  },
  {
   "cell_type": "markdown",
   "id": "7b1d9a77",
   "metadata": {
    "pycharm": {
     "name": "#%% md\n"
    }
   },
   "source": [
    "## Тип bool. Оператор in. Еще раз про if."
   ]
  },
  {
   "cell_type": "markdown",
   "id": "e683d3d8",
   "metadata": {
    "pycharm": {
     "name": "#%% md\n"
    }
   },
   "source": [
    "Еще один базовый тип данных — это `bool`. Переменные такого типа могут принимать только 2 значения: `True` и `False`."
   ]
  },
  {
   "cell_type": "code",
   "execution_count": 15,
   "id": "655cb743",
   "metadata": {
    "pycharm": {
     "name": "#%%\n"
    }
   },
   "outputs": [
    {
     "name": "stdout",
     "output_type": "stream",
     "text": [
      "True\n"
     ]
    }
   ],
   "source": [
    "print(1 > 0)"
   ]
  },
  {
   "cell_type": "code",
   "execution_count": 16,
   "id": "949f364b",
   "metadata": {
    "pycharm": {
     "name": "#%%\n"
    }
   },
   "outputs": [
    {
     "name": "stdout",
     "output_type": "stream",
     "text": [
      "True\n"
     ]
    }
   ],
   "source": [
    "a = 1 > 0\n",
    "print(a)"
   ]
  },
  {
   "cell_type": "code",
   "execution_count": 17,
   "id": "a9d556fc",
   "metadata": {
    "pycharm": {
     "name": "#%%\n"
    }
   },
   "outputs": [
    {
     "name": "stdout",
     "output_type": "stream",
     "text": [
      "False\n"
     ]
    }
   ],
   "source": [
    "b = 1 < 0\n",
    "print(b)"
   ]
  },
  {
   "cell_type": "code",
   "execution_count": 18,
   "id": "62ffde28",
   "metadata": {
    "pycharm": {
     "name": "#%%\n"
    }
   },
   "outputs": [
    {
     "name": "stdout",
     "output_type": "stream",
     "text": [
      "5\n",
      "0\n"
     ]
    }
   ],
   "source": [
    "print(a * 5)\n",
    "print(b * 3)"
   ]
  },
  {
   "cell_type": "markdown",
   "id": "d33283e9",
   "metadata": {
    "pycharm": {
     "name": "#%% md\n"
    }
   },
   "source": [
    "Именно тип `bool` используется в каскадной конструкции `if elif ... else`:"
   ]
  },
  {
   "cell_type": "code",
   "execution_count": 19,
   "id": "44b85637",
   "metadata": {
    "pycharm": {
     "name": "#%%\n"
    }
   },
   "outputs": [
    {
     "name": "stdout",
     "output_type": "stream",
     "text": [
      "2\n"
     ]
    }
   ],
   "source": [
    "if 1 > 0:\n",
    "    print(2)"
   ]
  },
  {
   "cell_type": "markdown",
   "id": "ec682419",
   "metadata": {
    "pycharm": {
     "name": "#%% md\n"
    }
   },
   "source": [
    "Существует приведение типов. Любое число, отличное от нуля с логической точки зрения — `True`, нуль воспринимается как `False`"
   ]
  },
  {
   "cell_type": "code",
   "execution_count": 21,
   "id": "e34f6f82",
   "metadata": {
    "pycharm": {
     "name": "#%%\n"
    }
   },
   "outputs": [
    {
     "name": "stdout",
     "output_type": "stream",
     "text": [
      "!\n"
     ]
    }
   ],
   "source": [
    "if 0:\n",
    "    print(2)\n",
    "else:\n",
    "    print(\"!\")"
   ]
  },
  {
   "cell_type": "code",
   "execution_count": 22,
   "id": "5ca698d5",
   "metadata": {
    "pycharm": {
     "name": "#%%\n"
    }
   },
   "outputs": [
    {
     "name": "stdout",
     "output_type": "stream",
     "text": [
      "!\n"
     ]
    }
   ],
   "source": [
    "if 0:\n",
    "    print(4)\n",
    "else:\n",
    "    print(\"!\")"
   ]
  },
  {
   "cell_type": "code",
   "execution_count": 23,
   "id": "c655994b",
   "metadata": {
    "pycharm": {
     "name": "#%%\n"
    }
   },
   "outputs": [
    {
     "name": "stdout",
     "output_type": "stream",
     "text": [
      "1\n",
      "2\n",
      "3\n",
      "4\n",
      "5\n"
     ]
    }
   ],
   "source": [
    "for i in [1, 2, 3, 4, 5]:\n",
    "    print(i)"
   ]
  },
  {
   "cell_type": "markdown",
   "id": "b92e2643",
   "metadata": {
    "pycharm": {
     "name": "#%% md\n"
    }
   },
   "source": [
    "### Оператор `in`\n",
    "Лексема `in` может быть использована не только как часть синтаксической конструкции цикла `for`, но и как *оператор* для проверки принадлежности элемента итерируемому объекту:"
   ]
  },
  {
   "cell_type": "code",
   "execution_count": 24,
   "id": "27cce21b",
   "metadata": {
    "pycharm": {
     "name": "#%%\n"
    }
   },
   "outputs": [
    {
     "name": "stdout",
     "output_type": "stream",
     "text": [
      "True\n",
      "False\n"
     ]
    }
   ],
   "source": [
    "print(4 in [1, 2, 3, 4, 5])\n",
    "print(6 in [1, 2, 3, 4, 5])"
   ]
  },
  {
   "cell_type": "code",
   "execution_count": 25,
   "id": "6c1545be",
   "metadata": {
    "pycharm": {
     "name": "#%%\n"
    }
   },
   "outputs": [
    {
     "name": "stdout",
     "output_type": "stream",
     "text": [
      "True\n",
      "False\n"
     ]
    }
   ],
   "source": [
    "print(4 in range(1, 6))\n",
    "print(6 in range(1, 6))"
   ]
  },
  {
   "cell_type": "code",
   "execution_count": 26,
   "id": "256067bf",
   "metadata": {
    "pycharm": {
     "name": "#%%\n"
    }
   },
   "outputs": [
    {
     "name": "stdout",
     "output_type": "stream",
     "text": [
      "True\n",
      "False\n"
     ]
    }
   ],
   "source": [
    "print(\"b\" in \"abc\")\n",
    "print(\"B\" in \"abc\")"
   ]
  },
  {
   "cell_type": "markdown",
   "id": "5fb27cad",
   "metadata": {
    "pycharm": {
     "name": "#%% md\n"
    }
   },
   "source": [
    "## Функции, возвращающие значение\n",
    "Функции — это вспомогательные алгоритмы. "
   ]
  },
  {
   "cell_type": "markdown",
   "id": "57f88b90",
   "metadata": {
    "pycharm": {
     "name": "#%% md\n"
    }
   },
   "source": [
    "###  Логическое значение как результат работы функции\n",
    "Ниже описаны три аналогичных функции. Прочитайте их тела и объясните почему они работают одинаково.\n",
    "Какая из них вам больше нравится?"
   ]
  },
  {
   "cell_type": "code",
   "execution_count": 28,
   "id": "ef4f059c",
   "metadata": {
    "pycharm": {
     "name": "#%%\n"
    }
   },
   "outputs": [
    {
     "name": "stdout",
     "output_type": "stream",
     "text": [
      "True\n",
      "False\n"
     ]
    }
   ],
   "source": [
    "def is_positive(x):\n",
    "    if x > 0:\n",
    "        return True\n",
    "    else:\n",
    "        return False\n",
    "    \n",
    "print(is_positive(5))\n",
    "print(is_positive(0))"
   ]
  },
  {
   "cell_type": "code",
   "execution_count": 29,
   "id": "dcdef58f",
   "metadata": {
    "pycharm": {
     "name": "#%%\n"
    }
   },
   "outputs": [
    {
     "name": "stdout",
     "output_type": "stream",
     "text": [
      "True\n",
      "False\n"
     ]
    }
   ],
   "source": [
    "def is_positive(x):\n",
    "    if x > 0:\n",
    "        return True\n",
    "    return False\n",
    "\n",
    "print(is_positive(5))\n",
    "print(is_positive(-5))"
   ]
  },
  {
   "cell_type": "code",
   "execution_count": 30,
   "id": "b0431287",
   "metadata": {
    "pycharm": {
     "name": "#%%\n"
    }
   },
   "outputs": [
    {
     "name": "stdout",
     "output_type": "stream",
     "text": [
      "True\n",
      "False\n"
     ]
    }
   ],
   "source": [
    "def is_positive(x):\n",
    "    return x > 0\n",
    "\n",
    "print(is_positive(5))\n",
    "print(is_positive(-5))"
   ]
  },
  {
   "cell_type": "markdown",
   "id": "2c47bf96",
   "metadata": {
    "pycharm": {
     "name": "#%% md\n"
    }
   },
   "source": [
    "## Функции как аргументы функций map и filter\n",
    "Для поэлементной обработки любого итерируемого объекта можно использовать функции `map` и `filter`:"
   ]
  },
  {
   "cell_type": "code",
   "execution_count": 31,
   "id": "f8670a5b",
   "metadata": {
    "pycharm": {
     "name": "#%%\n"
    }
   },
   "outputs": [
    {
     "name": "stdout",
     "output_type": "stream",
     "text": [
      "['1', '2', '-3', '4', '-5']\n",
      "[1, 2, -3, 4, -5]\n"
     ]
    }
   ],
   "source": [
    "a = \"1 2 -3 4 -5\".split()\n",
    "print(a)\n",
    "a = list(map(int, a))\n",
    "print(a)"
   ]
  },
  {
   "cell_type": "code",
   "execution_count": 32,
   "id": "84d9f84c",
   "metadata": {
    "pycharm": {
     "name": "#%%\n"
    }
   },
   "outputs": [
    {
     "name": "stdout",
     "output_type": "stream",
     "text": [
      "['1', '2', '-3', '4', '-5']\n",
      "[1.0, 2.0, -3.0, 4.0, -5.0]\n"
     ]
    }
   ],
   "source": [
    "a = \"1 2 -3 4 -5\".split()\n",
    "print(a)\n",
    "a = list(map(float, a))\n",
    "print(a)"
   ]
  },
  {
   "cell_type": "code",
   "execution_count": 33,
   "id": "1bcae2a6",
   "metadata": {
    "pycharm": {
     "name": "#%%\n"
    }
   },
   "outputs": [
    {
     "name": "stdout",
     "output_type": "stream",
     "text": [
      "['1', '2', '-3', '4', '-5', '0']\n",
      "[True, True, True, True, True, True]\n"
     ]
    }
   ],
   "source": [
    "a = \"1 2 -3 4 -5 0\".split()\n",
    "print(a)\n",
    "a = list(map(bool, a))\n",
    "print(a)"
   ]
  },
  {
   "cell_type": "code",
   "execution_count": 34,
   "id": "13a826c6",
   "metadata": {
    "pycharm": {
     "name": "#%%\n"
    }
   },
   "outputs": [
    {
     "name": "stdout",
     "output_type": "stream",
     "text": [
      "['1', '2', '-3', '4', '-5', '0']\n",
      "[1, 2, -3, 4, -5, 0]\n",
      "[True, True, True, True, True, False]\n"
     ]
    }
   ],
   "source": [
    "a = \"1 2 -3 4 -5 0\".split()\n",
    "print(a)\n",
    "a = list(map(int, a))\n",
    "print(a)\n",
    "a = list(map(bool, a))\n",
    "print(a)"
   ]
  },
  {
   "cell_type": "markdown",
   "id": "8c28c10b",
   "metadata": {
    "pycharm": {
     "name": "#%% md\n"
    }
   },
   "source": [
    "Как параметр для `map` можно передавать не только стандартные функции, но и свои собственные:"
   ]
  },
  {
   "cell_type": "code",
   "execution_count": 35,
   "id": "80527cdc",
   "metadata": {
    "pycharm": {
     "name": "#%%\n"
    }
   },
   "outputs": [
    {
     "name": "stdout",
     "output_type": "stream",
     "text": [
      "['1', '2', '-3', '4', '-5']\n",
      "['11', '22', '-3-3', '44', '-5-5']\n"
     ]
    }
   ],
   "source": [
    "def my_function(x):\n",
    "    return x * 2\n",
    "\n",
    "a = \"1 2 -3 4 -5\".split()\n",
    "print(a)\n",
    "a = list(map(my_function, a))\n",
    "print(a)"
   ]
  },
  {
   "cell_type": "markdown",
   "id": "7d192c9d",
   "metadata": {
    "pycharm": {
     "name": "#%% md\n"
    }
   },
   "source": [
    "Такие \"одноразовые функции\" загрязняют пространство имён, поэтому есть возможность создать **безымянную функцию** при помощи слова `lambda`. Вычисляясь, лямбда-выражение \"изготавливает\" новую функцию и передаёт её как объект туда, где она нужна — в функцию `map`. Затем она сразу забывается."
   ]
  },
  {
   "cell_type": "code",
   "execution_count": 36,
   "id": "ce922e96",
   "metadata": {
    "pycharm": {
     "name": "#%%\n"
    }
   },
   "outputs": [
    {
     "name": "stdout",
     "output_type": "stream",
     "text": [
      "['1', '2', '-3', '4', '-5']\n",
      "['11', '22', '-3-3', '44', '-5-5']\n"
     ]
    }
   ],
   "source": [
    "a = \"1 2 -3 4 -5\".split()\n",
    "print(a)\n",
    "a = list(map(lambda x: x * 2, a))\n",
    "print(a)"
   ]
  },
  {
   "cell_type": "code",
   "execution_count": 37,
   "id": "959c6572",
   "metadata": {
    "pycharm": {
     "name": "#%%\n"
    }
   },
   "outputs": [
    {
     "name": "stdout",
     "output_type": "stream",
     "text": [
      "[True, True, False, True, False]\n",
      "[1, 2, 4]\n"
     ]
    }
   ],
   "source": [
    "a = [1, 2, -3, 4, -5]\n",
    "b = list(map(is_positive, a))\n",
    "c = list(filter(is_positive, a))\n",
    "print(b)\n",
    "print(c)"
   ]
  },
  {
   "cell_type": "code",
   "execution_count": 38,
   "id": "fd2a87e6",
   "metadata": {
    "pycharm": {
     "name": "#%%\n"
    }
   },
   "outputs": [
    {
     "name": "stdout",
     "output_type": "stream",
     "text": [
      "[True, True, False, True, False]\n",
      "[1, 2, 4]\n"
     ]
    }
   ],
   "source": [
    "a = [1, 2, -3, 4, -5]\n",
    "b = list(map(lambda x: x > 0, a))\n",
    "c = list(filter(lambda x: x > 0, a))\n",
    "print(b)\n",
    "print(c)"
   ]
  },
  {
   "cell_type": "markdown",
   "id": "7313cf30",
   "metadata": {
    "pycharm": {
     "name": "#%% md\n"
    }
   },
   "source": [
    "Можем делать \"сложную\" лямбда-функцию:"
   ]
  },
  {
   "cell_type": "code",
   "execution_count": 39,
   "id": "bf6a53b0",
   "metadata": {
    "pycharm": {
     "name": "#%%\n"
    }
   },
   "outputs": [
    {
     "name": "stdout",
     "output_type": "stream",
     "text": [
      "['1', '2', '-3', '4', '-5']\n",
      "[1, 2, 3, 4, 5]\n"
     ]
    }
   ],
   "source": [
    "a = \"1 2 -3 4 -5\".split()\n",
    "print(a)\n",
    "a = list(map(lambda x: abs(int(x)), a))\n",
    "print(a)"
   ]
  },
  {
   "cell_type": "markdown",
   "id": "cced2f0d",
   "metadata": {
    "pycharm": {
     "name": "#%% md\n"
    }
   },
   "source": [
    "**Упражнение:** считайте список с клавиатуры. С помощью функции `filter` удалите из него те элементы, которые *не* являются квадратами однозначных натуральных чисел."
   ]
  },
  {
   "cell_type": "code",
   "execution_count": 40,
   "id": "470b80f3",
   "metadata": {
    "pycharm": {
     "name": "#%%\n"
    }
   },
   "outputs": [],
   "source": [
    "s = list(map(int, input().split()))\n",
    "def ok(x):\n",
    "    return not x in [0, 1, 4, 9, 16, 25, 36, 49, 64, 81]\n",
    "s = list(filter(ok, s))\n",
    "print(*s)\n"
   ]
  },
  {
   "cell_type": "markdown",
   "id": "07f6cc31",
   "metadata": {
    "pycharm": {
     "name": "#%% md\n"
    }
   },
   "source": [
    "Можно использовать `map` для обработки считанного списка. Считываем с помощью функции `input()` объект типа `str`, к нему применяем метод `split()` и получаем `list`, ко всем его элементам функция `map` применяет функцию `int`, а конструктор списка `list` сохраняет результат в список:"
   ]
  },
  {
   "cell_type": "code",
   "execution_count": 41,
   "id": "5880334d",
   "metadata": {
    "pycharm": {
     "name": "#%%\n"
    }
   },
   "outputs": [],
   "source": [
    "a = list(map(int, input().split()))\n",
    "print(a)"
   ]
  },
  {
   "cell_type": "code",
   "execution_count": null,
   "id": "513e32ed",
   "metadata": {
    "scrolled": true,
    "pycharm": {
     "name": "#%%\n"
    }
   },
   "outputs": [],
   "source": [
    "a = [list(map(int, input().split())) for i in range(5)]"
   ]
  },
  {
   "cell_type": "code",
   "execution_count": 42,
   "id": "2a2fa26e",
   "metadata": {
    "pycharm": {
     "name": "#%%\n"
    }
   },
   "outputs": [
    {
     "ename": "TypeError",
     "evalue": "print() argument after * must be an iterable, not int",
     "output_type": "error",
     "traceback": [
      "\u001B[1;31m---------------------------------------------------------------------------\u001B[0m",
      "\u001B[1;31mTypeError\u001B[0m                                 Traceback (most recent call last)",
      "\u001B[1;32md:\\Downloads\\lpr2022_lab2.ipynb Ячейка 55\u001B[0m in \u001B[0;36m<cell line: 1>\u001B[1;34m()\u001B[0m\n\u001B[0;32m      <a href='vscode-notebook-cell:/d%3A/Downloads/lpr2022_lab2.ipynb#Y105sZmlsZQ%3D%3D?line=0'>1</a>\u001B[0m \u001B[39mfor\u001B[39;00m x \u001B[39min\u001B[39;00m a:\n\u001B[1;32m----> <a href='vscode-notebook-cell:/d%3A/Downloads/lpr2022_lab2.ipynb#Y105sZmlsZQ%3D%3D?line=1'>2</a>\u001B[0m     \u001B[39mprint\u001B[39;49m(\u001B[39m*\u001B[39;49mx)\n",
      "\u001B[1;31mTypeError\u001B[0m: print() argument after * must be an iterable, not int"
     ]
    }
   ],
   "source": [
    "for x in a:\n",
    "    print(*x)"
   ]
  },
  {
   "cell_type": "markdown",
   "id": "8be0994e",
   "metadata": {
    "pycharm": {
     "name": "#%% md\n"
    }
   },
   "source": [
    "Пример: удалить из матрицы строки с отрицательной суммой"
   ]
  },
  {
   "cell_type": "code",
   "execution_count": 43,
   "id": "4b7291f3",
   "metadata": {
    "pycharm": {
     "name": "#%%\n"
    }
   },
   "outputs": [
    {
     "name": "stdout",
     "output_type": "stream",
     "text": [
      "5 -2 3\n",
      "-1 2 -3\n",
      "-8 4 5\n"
     ]
    }
   ],
   "source": [
    "a = [[5, -2, 3], [-1, 2, -3], [-8, 4, 5]]\n",
    "for x in a:\n",
    "    print(*x)"
   ]
  },
  {
   "cell_type": "code",
   "execution_count": 44,
   "id": "107988bd",
   "metadata": {
    "pycharm": {
     "name": "#%%\n"
    }
   },
   "outputs": [
    {
     "name": "stdout",
     "output_type": "stream",
     "text": [
      "[[5, -2, 3], [-8, 4, 5]]\n"
     ]
    }
   ],
   "source": [
    "a = list(filter(lambda x: sum(x) >= 0, a))\n",
    "print(a)"
   ]
  },
  {
   "cell_type": "code",
   "execution_count": 45,
   "id": "af8eb227",
   "metadata": {
    "pycharm": {
     "name": "#%%\n"
    }
   },
   "outputs": [
    {
     "name": "stdout",
     "output_type": "stream",
     "text": [
      "6 1\n"
     ]
    }
   ],
   "source": [
    "print(sum(a[0]), sum(a[1]))"
   ]
  },
  {
   "cell_type": "markdown",
   "id": "9687cb48",
   "metadata": {
    "pycharm": {
     "name": "#%% md\n"
    }
   },
   "source": [
    "И еще примеры:"
   ]
  },
  {
   "cell_type": "code",
   "execution_count": 46,
   "id": "a25dae6f",
   "metadata": {
    "pycharm": {
     "name": "#%%\n"
    }
   },
   "outputs": [
    {
     "name": "stdout",
     "output_type": "stream",
     "text": [
      "[1, 4, 9, 16, 25]\n"
     ]
    }
   ],
   "source": [
    "a = [1, 2, 3, 4, 5]\n",
    "print(list(map(lambda x: x ** 2, a)))"
   ]
  },
  {
   "cell_type": "code",
   "execution_count": 47,
   "id": "7615424a",
   "metadata": {
    "pycharm": {
     "name": "#%%\n"
    }
   },
   "outputs": [
    {
     "name": "stdout",
     "output_type": "stream",
     "text": [
      "[1, 2, 0, 4, 0]\n"
     ]
    }
   ],
   "source": [
    "a = [1, 2, -3, 4, -5]\n",
    "print(list(map(lambda x: x if x >= 0 else 0, a)))"
   ]
  },
  {
   "cell_type": "markdown",
   "id": "3f3d2d44",
   "metadata": {
    "pycharm": {
     "name": "#%% md\n"
    }
   },
   "source": [
    "## Цикл while. Целочисленная арифметика"
   ]
  },
  {
   "cell_type": "markdown",
   "id": "7feb1357",
   "metadata": {
    "pycharm": {
     "name": "#%% md\n"
    }
   },
   "source": [
    "Кроме цикла `for` в Python используется цикл `while`. Например, он удобен, если нужно указать условие выхода через условие типа `bool`"
   ]
  },
  {
   "cell_type": "code",
   "execution_count": 48,
   "id": "123b28fb",
   "metadata": {
    "pycharm": {
     "name": "#%%\n"
    }
   },
   "outputs": [
    {
     "name": "stdout",
     "output_type": "stream",
     "text": [
      "0\n",
      "1\n",
      "4\n",
      "9\n",
      "16\n"
     ]
    }
   ],
   "source": [
    "i = 0\n",
    "while i < 5:\n",
    "    print(i ** 2)\n",
    "    i += 1"
   ]
  },
  {
   "cell_type": "code",
   "execution_count": 49,
   "id": "5ee7473f",
   "metadata": {
    "pycharm": {
     "name": "#%%\n"
    }
   },
   "outputs": [
    {
     "name": "stdout",
     "output_type": "stream",
     "text": [
      "0\n",
      "1\n",
      "4\n",
      "9\n",
      "16\n"
     ]
    }
   ],
   "source": [
    "for i in range(5):\n",
    "    print(i ** 2)"
   ]
  },
  {
   "cell_type": "markdown",
   "id": "3aa86ea4",
   "metadata": {
    "pycharm": {
     "name": "#%% md\n"
    }
   },
   "source": [
    "Еще две арифметические операции, которые потребуются в примере ниже: деление с остатком и целочисленное деление."
   ]
  },
  {
   "cell_type": "code",
   "execution_count": 50,
   "id": "69f54375",
   "metadata": {
    "pycharm": {
     "name": "#%%\n"
    }
   },
   "outputs": [
    {
     "name": "stdout",
     "output_type": "stream",
     "text": [
      "1\n",
      "5\n"
     ]
    }
   ],
   "source": [
    "print(16 % 3)\n",
    "print(16 // 3)"
   ]
  },
  {
   "cell_type": "markdown",
   "id": "85197c8d",
   "metadata": {
    "pycharm": {
     "name": "#%% md\n"
    }
   },
   "source": [
    "С помощью цикла `while` удобно обращаться к отдельным цифрам числа. Например, можно сохранить их в массив:"
   ]
  },
  {
   "cell_type": "code",
   "execution_count": 51,
   "id": "6488a45d",
   "metadata": {
    "pycharm": {
     "name": "#%%\n"
    }
   },
   "outputs": [
    {
     "name": "stdout",
     "output_type": "stream",
     "text": [
      "[5, 4, 3, 2]\n"
     ]
    }
   ],
   "source": [
    "a = []\n",
    "n = 2345\n",
    "while n > 0:\n",
    "    a.append(n % 10)\n",
    "    n = n // 10\n",
    "print(a)"
   ]
  },
  {
   "cell_type": "markdown",
   "id": "73cfba6a",
   "metadata": {
    "pycharm": {
     "name": "#%% md\n"
    }
   },
   "source": [
    "**Упражнение:** напишите функцию, которая вычисляет сумму цифр числа, считайте число с клавиатуры и примените эту функцию."
   ]
  },
  {
   "cell_type": "code",
   "execution_count": null,
   "id": "91628376",
   "metadata": {
    "pycharm": {
     "name": "#%%\n"
    }
   },
   "outputs": [],
   "source": [
    "a = int(input())\n",
    "b = []\n",
    "while a > 0:\n",
    "    b.append(a % 10)\n",
    "    a = a // 10\n",
    "print(sum(b))"
   ]
  },
  {
   "cell_type": "markdown",
   "id": "7c9dc0fd",
   "metadata": {
    "pycharm": {
     "name": "#%% md\n"
    }
   },
   "source": [
    "Можно запустить \"бесконечный цикл\" (он ничем не отличается от обычного). Внутри циклов можно использовать конструкции `break` и `continue`:"
   ]
  },
  {
   "cell_type": "code",
   "execution_count": 52,
   "id": "8794783c",
   "metadata": {
    "pycharm": {
     "name": "#%%\n"
    }
   },
   "outputs": [],
   "source": [
    "while True:\n",
    "    a = int(input())\n",
    "    print(a)"
   ]
  },
  {
   "cell_type": "markdown",
   "id": "254a4a65",
   "metadata": {
    "pycharm": {
     "name": "#%% md\n"
    }
   },
   "source": [
    "Для прерывания работы ячейки можно нажать на квадратик."
   ]
  },
  {
   "cell_type": "code",
   "execution_count": null,
   "id": "46735686",
   "metadata": {
    "pycharm": {
     "name": "#%%\n"
    }
   },
   "outputs": [],
   "source": [
    "while True:\n",
    "    a = int(input())\n",
    "    if a > 0:\n",
    "        print(a)\n",
    "    else:\n",
    "        break"
   ]
  },
  {
   "cell_type": "code",
   "execution_count": null,
   "id": "e41787fb",
   "metadata": {
    "pycharm": {
     "name": "#%%\n"
    }
   },
   "outputs": [],
   "source": [
    "while True:\n",
    "    a = int(input())\n",
    "    if a > 0:\n",
    "        continue\n",
    "    else:\n",
    "        break"
   ]
  },
  {
   "cell_type": "markdown",
   "id": "5da20e2f",
   "metadata": {
    "pycharm": {
     "name": "#%% md\n"
    }
   },
   "source": [
    "## Работа с файлами"
   ]
  },
  {
   "cell_type": "markdown",
   "id": "84e27eb5",
   "metadata": {
    "pycharm": {
     "name": "#%% md\n"
    }
   },
   "source": [
    "Пример: создайте файл input.txt, скопируйте туда таблицу с числами ниже:\n",
    "\n",
    "    1 2 3\n",
    "    4 5 6"
   ]
  },
  {
   "cell_type": "code",
   "execution_count": null,
   "id": "1ade4721",
   "metadata": {
    "pycharm": {
     "name": "#%%\n"
    }
   },
   "outputs": [],
   "source": [
    "with open(\"input.txt\", \"r\") as f:\n",
    "    print(f.read())"
   ]
  },
  {
   "cell_type": "code",
   "execution_count": null,
   "id": "17a0572d",
   "metadata": {
    "pycharm": {
     "name": "#%%\n"
    }
   },
   "outputs": [],
   "source": [
    "with open(\"input.txt\", \"r\") as f:\n",
    "    s = f.read()\n",
    "    print(s)\n",
    "    "
   ]
  },
  {
   "cell_type": "code",
   "execution_count": null,
   "id": "7cb5784c",
   "metadata": {
    "pycharm": {
     "name": "#%%\n"
    }
   },
   "outputs": [],
   "source": [
    "s, type(s)"
   ]
  },
  {
   "cell_type": "markdown",
   "id": "7e855b29",
   "metadata": {
    "pycharm": {
     "name": "#%% md\n"
    }
   },
   "source": [
    "Так выглядит внутреннее представление строки `s`. Когда мы вызываем функцию `print` символ переноса строки `\\n` переводит курсор на новую строку:"
   ]
  },
  {
   "cell_type": "code",
   "execution_count": 53,
   "id": "4a95cf02",
   "metadata": {
    "pycharm": {
     "name": "#%%\n"
    }
   },
   "outputs": [
    {
     "name": "stdout",
     "output_type": "stream",
     "text": [
      "1\n",
      "2\n"
     ]
    }
   ],
   "source": [
    "print(\"1\\n2\")"
   ]
  },
  {
   "cell_type": "code",
   "execution_count": null,
   "id": "248a5e4f",
   "metadata": {
    "pycharm": {
     "name": "#%%\n"
    }
   },
   "outputs": [],
   "source": [
    "with open(\"input.txt\", \"r\") as f:\n",
    "    a = f.readlines()\n",
    "print(a)"
   ]
  },
  {
   "cell_type": "markdown",
   "id": "45273c92",
   "metadata": {
    "pycharm": {
     "name": "#%% md\n"
    }
   },
   "source": [
    "Напомним, что `rstrip()` удаляет пробельные элементы из конца строки, в частности, символ переноса строки"
   ]
  },
  {
   "cell_type": "code",
   "execution_count": null,
   "id": "5fcc6108",
   "metadata": {
    "pycharm": {
     "name": "#%%\n"
    }
   },
   "outputs": [],
   "source": [
    "with open(\"input.txt\", \"r\") as f:\n",
    "    a = f.readlines()\n",
    "    a = list(map(lambda x: x.rstrip(), a))\n",
    "print(a)"
   ]
  },
  {
   "cell_type": "code",
   "execution_count": null,
   "id": "ee6bbeb0",
   "metadata": {
    "pycharm": {
     "name": "#%%\n"
    }
   },
   "outputs": [],
   "source": [
    "with open(\"input.txt\", \"r\") as f:\n",
    "    a = f.readlines()\n",
    "    a = list(map(lambda x: x.rstrip().split(), a))\n",
    "print(a)"
   ]
  },
  {
   "cell_type": "code",
   "execution_count": null,
   "id": "c2625d49",
   "metadata": {
    "pycharm": {
     "name": "#%%\n"
    }
   },
   "outputs": [],
   "source": [
    "with open(\"input.txt\", \"r\") as f:\n",
    "    a = f.readlines()\n",
    "    a = list(map(lambda x: [int(y) for y in x.rstrip().split()], a))\n",
    "print(a)"
   ]
  },
  {
   "cell_type": "markdown",
   "id": "1c2446d3",
   "metadata": {
    "pycharm": {
     "name": "#%% md\n"
    }
   },
   "source": [
    "Или проще:"
   ]
  },
  {
   "cell_type": "code",
   "execution_count": null,
   "id": "dba4f550",
   "metadata": {
    "pycharm": {
     "name": "#%%\n"
    }
   },
   "outputs": [],
   "source": [
    "with open(\"input.txt\", \"r\") as f:\n",
    "    a = f.readlines()\n",
    "    a = list(map(lambda x: x.rstrip().split(), a))\n",
    "    for i in range(len(a)):\n",
    "        for j in range(len(a[i])):\n",
    "            a[i][j] = int(a[i][j])\n",
    "print(a)"
   ]
  },
  {
   "cell_type": "markdown",
   "id": "50cd4323",
   "metadata": {
    "pycharm": {
     "name": "#%% md\n"
    }
   },
   "source": [
    "**Пример:** в созданный файл запишем вместо чисел, которые там были, новые числа, равные квадратам исходных"
   ]
  },
  {
   "cell_type": "code",
   "execution_count": null,
   "id": "b38bd1b9",
   "metadata": {
    "pycharm": {
     "name": "#%%\n"
    }
   },
   "outputs": [],
   "source": [
    "b = [[a[i][j] ** 2 for j in range(len(a[i]))] for i in range(len(a))]\n",
    "print(b)"
   ]
  },
  {
   "cell_type": "code",
   "execution_count": null,
   "id": "6ca144a2",
   "metadata": {
    "pycharm": {
     "name": "#%%\n"
    }
   },
   "outputs": [],
   "source": [
    "with open(\"output.txt\", \"w\") as f:\n",
    "    f.writelines([\" \".join(x) for x in b])"
   ]
  },
  {
   "cell_type": "code",
   "execution_count": null,
   "id": "82b7feff",
   "metadata": {
    "pycharm": {
     "name": "#%%\n"
    }
   },
   "outputs": [],
   "source": [
    "b = [[str(x) for x in b[i]] for i in range(len(b))]\n",
    "with open(\"output.txt\", \"w\") as f:\n",
    "    f.writelines([\" \".join(x) for x in b])"
   ]
  },
  {
   "cell_type": "markdown",
   "id": "d7798cae",
   "metadata": {
    "pycharm": {
     "name": "#%% md\n"
    }
   },
   "source": [
    "Посмотрите, что записалось в файл. Не совсем то, что нужно, не хватает символов переноса строки"
   ]
  },
  {
   "cell_type": "code",
   "execution_count": null,
   "id": "a95188de",
   "metadata": {
    "pycharm": {
     "name": "#%%\n"
    }
   },
   "outputs": [],
   "source": [
    "b = [[str(x) for x in b[i]] for i in range(len(b))]\n",
    "with open(\"output.txt\", \"w\") as f:\n",
    "    f.writelines([\" \".join(x) + \"\\n\" for x in b])"
   ]
  },
  {
   "cell_type": "markdown",
   "id": "648228d0",
   "metadata": {
    "pycharm": {
     "name": "#%% md\n"
    }
   },
   "source": [
    "Файлы можно открывать не только на запись, но и на дозапись. Обратите внимание, что в предыдущей ячейке предыдущее сожержимое файла стерлось запуском `open`, для этого используем флажок `a` вместо `w`"
   ]
  },
  {
   "cell_type": "code",
   "execution_count": null,
   "id": "acadb95e",
   "metadata": {
    "pycharm": {
     "name": "#%%\n"
    }
   },
   "outputs": [],
   "source": [
    "b = [[str(x) for x in b[i]] for i in range(len(b))]\n",
    "with open(\"output.txt\", \"a\") as f:\n",
    "    f.write(\"done!\")"
   ]
  },
  {
   "cell_type": "markdown",
   "id": "f9b894ad",
   "metadata": {
    "pycharm": {
     "name": "#%% md\n"
    }
   },
   "source": [
    "## Сортировка списков"
   ]
  },
  {
   "cell_type": "markdown",
   "id": "735cd12e",
   "metadata": {
    "pycharm": {
     "name": "#%% md\n"
    }
   },
   "source": [
    "Не углубляясь в алгоритмы, разберем, как можно сортировать списки в Python. Для этого есть функции `sort` и `sorted`. Первая изменяет сортируемый объект, вторая создает новый, а исходный остается:"
   ]
  },
  {
   "cell_type": "code",
   "execution_count": 54,
   "id": "93cd612d",
   "metadata": {
    "pycharm": {
     "name": "#%%\n"
    }
   },
   "outputs": [
    {
     "name": "stdout",
     "output_type": "stream",
     "text": [
      "[1, 2, 3, 4, 5]\n"
     ]
    }
   ],
   "source": [
    "a = [3, 1, 5, 4, 2]\n",
    "a.sort()\n",
    "print(a)"
   ]
  },
  {
   "cell_type": "code",
   "execution_count": 55,
   "id": "2886bb09",
   "metadata": {
    "pycharm": {
     "name": "#%%\n"
    }
   },
   "outputs": [
    {
     "name": "stdout",
     "output_type": "stream",
     "text": [
      "[1, 2, 3, 4, 5]\n",
      "[3, 1, 5, 4, 2]\n"
     ]
    }
   ],
   "source": [
    "a = [3, 1, 5, 4, 2]\n",
    "print(sorted(a))\n",
    "print(a)"
   ]
  },
  {
   "cell_type": "markdown",
   "id": "35933e8e",
   "metadata": {
    "pycharm": {
     "name": "#%% md\n"
    }
   },
   "source": [
    "Но можем использовать вторую вместо первой:"
   ]
  },
  {
   "cell_type": "code",
   "execution_count": 56,
   "id": "953f6807",
   "metadata": {
    "pycharm": {
     "name": "#%%\n"
    }
   },
   "outputs": [
    {
     "name": "stdout",
     "output_type": "stream",
     "text": [
      "[1, 2, 3, 4, 5]\n"
     ]
    }
   ],
   "source": [
    "a = [3, 1, 5, 4, 2]\n",
    "a = sorted(a)\n",
    "print(a)"
   ]
  },
  {
   "cell_type": "markdown",
   "id": "a4b08cda",
   "metadata": {
    "pycharm": {
     "name": "#%% md\n"
    }
   },
   "source": [
    "Сортировка по ключу. key - это второй параметр функции `sorted` и он часто записывает в виде лямбда-функции, которая возвращает функции от объектов, которые мы используем в качестве меры этих объектов для сортировки"
   ]
  },
  {
   "cell_type": "code",
   "execution_count": 57,
   "id": "7acaea5d",
   "metadata": {
    "pycharm": {
     "name": "#%%\n"
    }
   },
   "outputs": [
    {
     "name": "stdout",
     "output_type": "stream",
     "text": [
      "[5, 4, 3, 2, 1]\n"
     ]
    }
   ],
   "source": [
    "a = [3, 1, 5, 4, 2]\n",
    "a = sorted(a, key = lambda x: -x)\n",
    "print(a)"
   ]
  },
  {
   "cell_type": "code",
   "execution_count": 58,
   "id": "999810ba",
   "metadata": {
    "pycharm": {
     "name": "#%%\n"
    }
   },
   "outputs": [
    {
     "name": "stdout",
     "output_type": "stream",
     "text": [
      "[[3, 0], [1, 5], [3, 3], [5, 5]]\n"
     ]
    }
   ],
   "source": [
    "a = [[1, 5], [3, 3], [5, 5], [3, 0]]\n",
    "print(sorted(a, key = lambda x: sum(x)))"
   ]
  },
  {
   "cell_type": "code",
   "execution_count": 59,
   "id": "5ea4f6f5",
   "metadata": {
    "pycharm": {
     "name": "#%%\n"
    }
   },
   "outputs": [
    {
     "name": "stdout",
     "output_type": "stream",
     "text": [
      "[[3, 0], [3, 3], [1, 5], [5, 5]]\n"
     ]
    }
   ],
   "source": [
    "a = [[1, 5], [3, 3], [5, 5], [3, 0]]\n",
    "print(sorted(a, key = lambda x: x[0] ** 2 + x[1] ** 2))"
   ]
  },
  {
   "cell_type": "markdown",
   "id": "36ab77a2",
   "metadata": {
    "pycharm": {
     "name": "#%% md\n"
    }
   },
   "source": [
    "Можем сортировать по нескольким параметрам в порядке убывания приоритета:"
   ]
  },
  {
   "cell_type": "code",
   "execution_count": 64,
   "id": "53845f34",
   "metadata": {
    "pycharm": {
     "name": "#%%\n"
    }
   },
   "outputs": [
    {
     "name": "stdout",
     "output_type": "stream",
     "text": [
      "[[1, 6], [2, 5], [3, 4]]\n"
     ]
    }
   ],
   "source": [
    "a = [[1, 6], [2, 5], [3, 4]]\n",
    "print(sorted(a, key = lambda x: (x[0], -x[1])))"
   ]
  },
  {
   "cell_type": "markdown",
   "id": "7d0ad4e6",
   "metadata": {
    "pycharm": {
     "name": "#%% md\n"
    }
   },
   "source": [
    "`(sum(x), x[1])` - это кортеж. Кортежи похожи на списки, но они неизменяемы (нельзя присваивать по индексу и добавлять элементы)"
   ]
  },
  {
   "cell_type": "code",
   "execution_count": 61,
   "id": "009d6082",
   "metadata": {
    "pycharm": {
     "name": "#%%\n"
    }
   },
   "outputs": [
    {
     "name": "stdout",
     "output_type": "stream",
     "text": [
      "[1, 3]\n"
     ]
    }
   ],
   "source": [
    "a = [1, 2]\n",
    "a[1] = 3\n",
    "print(a)"
   ]
  },
  {
   "cell_type": "code",
   "execution_count": 62,
   "id": "435c3f6c",
   "metadata": {
    "pycharm": {
     "name": "#%%\n"
    }
   },
   "outputs": [
    {
     "ename": "TypeError",
     "evalue": "'tuple' object does not support item assignment",
     "output_type": "error",
     "traceback": [
      "\u001B[1;31m---------------------------------------------------------------------------\u001B[0m",
      "\u001B[1;31mTypeError\u001B[0m                                 Traceback (most recent call last)",
      "\u001B[1;32md:\\Downloads\\lpr2022_lab2.ipynb Ячейка 114\u001B[0m in \u001B[0;36m<cell line: 2>\u001B[1;34m()\u001B[0m\n\u001B[0;32m      <a href='vscode-notebook-cell:/d%3A/Downloads/lpr2022_lab2.ipynb#Y221sZmlsZQ%3D%3D?line=0'>1</a>\u001B[0m a \u001B[39m=\u001B[39m (\u001B[39m1\u001B[39m, \u001B[39m2\u001B[39m)\n\u001B[1;32m----> <a href='vscode-notebook-cell:/d%3A/Downloads/lpr2022_lab2.ipynb#Y221sZmlsZQ%3D%3D?line=1'>2</a>\u001B[0m a[\u001B[39m1\u001B[39;49m] \u001B[39m=\u001B[39m \u001B[39m3\u001B[39m\n\u001B[0;32m      <a href='vscode-notebook-cell:/d%3A/Downloads/lpr2022_lab2.ipynb#Y221sZmlsZQ%3D%3D?line=2'>3</a>\u001B[0m \u001B[39mprint\u001B[39m(a)\n",
      "\u001B[1;31mTypeError\u001B[0m: 'tuple' object does not support item assignment"
     ]
    }
   ],
   "source": [
    "a = (1, 2)\n",
    "a[1] = 3\n",
    "print(a)"
   ]
  },
  {
   "cell_type": "code",
   "execution_count": null,
   "id": "96e37c3d",
   "metadata": {
    "pycharm": {
     "name": "#%%\n"
    }
   },
   "outputs": [],
   "source": [
    "a = [1, 2]\n",
    "a.append(3)\n",
    "print(a)"
   ]
  },
  {
   "cell_type": "code",
   "execution_count": 65,
   "id": "f5a32233",
   "metadata": {
    "pycharm": {
     "name": "#%%\n"
    }
   },
   "outputs": [
    {
     "ename": "AttributeError",
     "evalue": "'tuple' object has no attribute 'append'",
     "output_type": "error",
     "traceback": [
      "\u001B[1;31m---------------------------------------------------------------------------\u001B[0m",
      "\u001B[1;31mAttributeError\u001B[0m                            Traceback (most recent call last)",
      "\u001B[1;32md:\\Downloads\\lpr2022_lab2.ipynb Ячейка 116\u001B[0m in \u001B[0;36m<cell line: 2>\u001B[1;34m()\u001B[0m\n\u001B[0;32m      <a href='vscode-notebook-cell:/d%3A/Downloads/lpr2022_lab2.ipynb#Y223sZmlsZQ%3D%3D?line=0'>1</a>\u001B[0m a \u001B[39m=\u001B[39m (\u001B[39m1\u001B[39m, \u001B[39m2\u001B[39m)\n\u001B[1;32m----> <a href='vscode-notebook-cell:/d%3A/Downloads/lpr2022_lab2.ipynb#Y223sZmlsZQ%3D%3D?line=1'>2</a>\u001B[0m a\u001B[39m.\u001B[39;49mappend(\u001B[39m3\u001B[39m)\n\u001B[0;32m      <a href='vscode-notebook-cell:/d%3A/Downloads/lpr2022_lab2.ipynb#Y223sZmlsZQ%3D%3D?line=2'>3</a>\u001B[0m \u001B[39mprint\u001B[39m(a)\n",
      "\u001B[1;31mAttributeError\u001B[0m: 'tuple' object has no attribute 'append'"
     ]
    }
   ],
   "source": [
    "a = (1, 2)\n",
    "a.append(3)\n",
    "print(a)"
   ]
  },
  {
   "cell_type": "code",
   "execution_count": 66,
   "id": "1b626f89",
   "metadata": {
    "pycharm": {
     "name": "#%%\n"
    }
   },
   "outputs": [
    {
     "name": "stdout",
     "output_type": "stream",
     "text": [
      "[3, 4]\n"
     ]
    }
   ],
   "source": [
    "a = [1, 2]\n",
    "a = [3, 4]\n",
    "print(a)"
   ]
  },
  {
   "cell_type": "code",
   "execution_count": 68,
   "id": "0fa7c68a",
   "metadata": {
    "pycharm": {
     "name": "#%%\n"
    }
   },
   "outputs": [
    {
     "name": "stdout",
     "output_type": "stream",
     "text": [
      "(3, 4, 5)\n"
     ]
    }
   ],
   "source": [
    "a = (1, 2)\n",
    "a = (3, 4, 5)\n",
    "print(a)"
   ]
  },
  {
   "cell_type": "markdown",
   "id": "7f6bc90e",
   "metadata": {
    "pycharm": {
     "name": "#%% md\n"
    }
   },
   "source": [
    "Строки сортируются в лексикографическом порядке:"
   ]
  },
  {
   "cell_type": "code",
   "execution_count": 69,
   "id": "7f7b871b",
   "metadata": {
    "pycharm": {
     "name": "#%%\n"
    }
   },
   "outputs": [
    {
     "name": "stdout",
     "output_type": "stream",
     "text": [
      "['100', '11', '119', '12', '120']\n"
     ]
    }
   ],
   "source": [
    "a = [\"100\", \"11\", \"12\", \"120\", \"119\"]\n",
    "print(sorted(a))"
   ]
  },
  {
   "cell_type": "code",
   "execution_count": 70,
   "id": "7579dcda",
   "metadata": {
    "pycharm": {
     "name": "#%%\n"
    }
   },
   "outputs": [
    {
     "name": "stdout",
     "output_type": "stream",
     "text": [
      "['11', '12', '100', '119', '120']\n"
     ]
    }
   ],
   "source": [
    "a = [\"100\", \"11\", \"12\", \"120\", \"119\"]\n",
    "print(sorted(a, key = lambda x: int(x)))"
   ]
  },
  {
   "cell_type": "markdown",
   "id": "e58bbfcc",
   "metadata": {
    "pycharm": {
     "name": "#%% md\n"
    }
   },
   "source": [
    "## Снова к файлам"
   ]
  },
  {
   "cell_type": "markdown",
   "id": "c4583973",
   "metadata": {
    "pycharm": {
     "name": "#%% md\n"
    }
   },
   "source": [
    "**Пример:** дана таблица результатов олимпиады в формате \"Фамилия Имя Класс Балл\". Нужно скопировать ее в текстовый файл и считать в двумерный массив. Задача - определить фамилию и имя победителя олимпиады. Если их несколько, вывести первого в лексикографическом порядке.\n",
    "\n",
    "Решение: считаем данные в двумерный список. Отсортируем его по убыванию балла и по возрастанию ФИ.\n",
    "\n",
    "Таблица:\n",
    "\n",
    "    Иванов Сергей 9 90\n",
    "    Сергеев Петр 10 85\n",
    "    Петров Иван 11 90"
   ]
  },
  {
   "cell_type": "code",
   "execution_count": null,
   "id": "1295ab84",
   "metadata": {
    "pycharm": {
     "name": "#%%\n"
    }
   },
   "outputs": [],
   "source": [
    "with open(\"input.txt\", \"r\", encoding=\"utf-8\") as f:\n",
    "    a = list(map(lambda x: x.rstrip().split(), f.readlines()))\n",
    "    print(a)"
   ]
  },
  {
   "cell_type": "code",
   "execution_count": null,
   "id": "e102afba",
   "metadata": {
    "pycharm": {
     "name": "#%%\n"
    }
   },
   "outputs": [],
   "source": [
    "print(sorted(a, key = lambda x: (-int(x[3]), x[0], x[1])))"
   ]
  },
  {
   "cell_type": "code",
   "execution_count": null,
   "id": "8c29b96e",
   "metadata": {
    "pycharm": {
     "name": "#%%\n"
    }
   },
   "outputs": [],
   "source": [
    "print(\" \".join(sorted(a, key = lambda x: (-int(x[3]), x[0], x[1]))[0][:2]))"
   ]
  },
  {
   "cell_type": "markdown",
   "id": "c233c0df",
   "metadata": {
    "pycharm": {
     "name": "#%% md\n"
    }
   },
   "source": [
    "## Генераторы и отложенные вычисления"
   ]
  },
  {
   "cell_type": "code",
   "execution_count": 71,
   "id": "d2c31a60",
   "metadata": {
    "pycharm": {
     "name": "#%%\n"
    }
   },
   "outputs": [
    {
     "name": "stdout",
     "output_type": "stream",
     "text": [
      "foo called for 1\n",
      "10\n",
      "foo called for 2\n",
      "20\n",
      "foo called for 3\n",
      "30\n"
     ]
    }
   ],
   "source": [
    "def foo(x):\n",
    "    print(f\"foo called for {x}\")\n",
    "    return x * 10\n",
    "\n",
    "for x in map(foo, [1, 2, 3]):\n",
    "    print(x)"
   ]
  },
  {
   "cell_type": "code",
   "execution_count": 72,
   "id": "471d3f6d",
   "metadata": {
    "pycharm": {
     "name": "#%%\n"
    }
   },
   "outputs": [
    {
     "name": "stdout",
     "output_type": "stream",
     "text": [
      "Iterations start:\n",
      "foo called for 1\n",
      "foo called for 10\n",
      "1010\n",
      "foo called for 2\n",
      "foo called for 20\n",
      "1020\n",
      "foo called for 3\n",
      "foo called for 30\n",
      "1030\n"
     ]
    }
   ],
   "source": [
    "def foo(x):\n",
    "    print(f\"foo called for {x}\")\n",
    "    return x * 10\n",
    "\n",
    "def boo(x):\n",
    "    print(f\"foo called for {x}\")\n",
    "    return x + 1000\n",
    "\n",
    "A = [1, 2, 3]\n",
    "B = map(foo, A)\n",
    "C = map(boo, B)\n",
    "print(\"Iterations start:\")\n",
    "for x in C:\n",
    "    print(x)"
   ]
  },
  {
   "cell_type": "markdown",
   "id": "b9b2c2a5",
   "metadata": {
    "pycharm": {
     "name": "#%% md\n"
    }
   },
   "source": [
    "## Итерируемые объекты"
   ]
  },
  {
   "cell_type": "markdown",
   "id": "28ad489b",
   "metadata": {
    "pycharm": {
     "name": "#%% md\n"
    }
   },
   "source": [
    "Часто бывает удобно использовать *распаковку* переменных:"
   ]
  },
  {
   "cell_type": "code",
   "execution_count": 73,
   "id": "5dd09d97",
   "metadata": {
    "pycharm": {
     "name": "#%%\n"
    }
   },
   "outputs": [
    {
     "name": "stdout",
     "output_type": "stream",
     "text": [
      "1\n",
      "2\n"
     ]
    }
   ],
   "source": [
    "a, b = 1, 2\n",
    "print(a)\n",
    "print(b)"
   ]
  },
  {
   "cell_type": "code",
   "execution_count": 75,
   "id": "f6d9de19",
   "metadata": {
    "pycharm": {
     "name": "#%%\n"
    }
   },
   "outputs": [
    {
     "name": "stdout",
     "output_type": "stream",
     "text": [
      "1\n",
      "2\n",
      "3\n"
     ]
    }
   ],
   "source": [
    "a, b, c = 1, 2, 3\n",
    "print(a)\n",
    "print(b)\n",
    "print(c)"
   ]
  },
  {
   "cell_type": "code",
   "execution_count": 76,
   "id": "8a7bc4c0",
   "metadata": {
    "pycharm": {
     "name": "#%%\n"
    }
   },
   "outputs": [
    {
     "ename": "ValueError",
     "evalue": "too many values to unpack (expected 3)",
     "output_type": "error",
     "traceback": [
      "\u001B[1;31m---------------------------------------------------------------------------\u001B[0m",
      "\u001B[1;31mValueError\u001B[0m                                Traceback (most recent call last)",
      "\u001B[1;32md:\\Downloads\\lpr2022_lab2.ipynb Ячейка 134\u001B[0m in \u001B[0;36m<cell line: 1>\u001B[1;34m()\u001B[0m\n\u001B[1;32m----> <a href='vscode-notebook-cell:/d%3A/Downloads/lpr2022_lab2.ipynb#Y250sZmlsZQ%3D%3D?line=0'>1</a>\u001B[0m a, b, c \u001B[39m=\u001B[39m [\u001B[39m1\u001B[39m, \u001B[39m2\u001B[39m, \u001B[39m3\u001B[39m, \u001B[39m4\u001B[39m, \u001B[39m5\u001B[39m]\n",
      "\u001B[1;31mValueError\u001B[0m: too many values to unpack (expected 3)"
     ]
    }
   ],
   "source": [
    "a, b, c = [1, 2, 3, 4, 5]"
   ]
  },
  {
   "cell_type": "code",
   "execution_count": 77,
   "id": "824efb53",
   "metadata": {
    "pycharm": {
     "name": "#%%\n"
    }
   },
   "outputs": [
    {
     "name": "stdout",
     "output_type": "stream",
     "text": [
      "[1, 2, 3] 4 5\n"
     ]
    }
   ],
   "source": [
    "*a, b, c = [1, 2, 3, 4, 5]\n",
    "print(a, b, c)"
   ]
  },
  {
   "cell_type": "code",
   "execution_count": 78,
   "id": "6bae667a",
   "metadata": {
    "pycharm": {
     "name": "#%%\n"
    }
   },
   "outputs": [
    {
     "name": "stdout",
     "output_type": "stream",
     "text": [
      "1 [2, 3, 4] 5\n"
     ]
    }
   ],
   "source": [
    "a, *b, c = [1, 2, 3, 4, 5]\n",
    "print(a, b, c)"
   ]
  },
  {
   "cell_type": "code",
   "execution_count": null,
   "id": "b59f365f",
   "metadata": {
    "pycharm": {
     "name": "#%%\n"
    }
   },
   "outputs": [],
   "source": [
    "a, b, *c = [1, 2, 3, 4, 5]\n",
    "print(a, b, c)"
   ]
  },
  {
   "cell_type": "code",
   "execution_count": 79,
   "id": "207af4f8",
   "metadata": {
    "pycharm": {
     "name": "#%%\n"
    }
   },
   "outputs": [
    {
     "name": "stdout",
     "output_type": "stream",
     "text": [
      "1 2 3\n",
      "4 5 6\n",
      "7 8 9\n"
     ]
    }
   ],
   "source": [
    "for a, b, c in [(1, 2, 3), (4, 5, 6), (7, 8, 9)]:\n",
    "    print(a, b, c)"
   ]
  },
  {
   "cell_type": "code",
   "execution_count": 80,
   "id": "5f2be0ff",
   "metadata": {
    "pycharm": {
     "name": "#%%\n"
    }
   },
   "outputs": [
    {
     "name": "stdout",
     "output_type": "stream",
     "text": [
      "1 [2, 3, 4]\n",
      "10 [20]\n",
      "100 [200, 300]\n"
     ]
    }
   ],
   "source": [
    "for a, *b in [(1, 2, 3, 4), (10, 20), (100, 200, 300)]:\n",
    "    print(a, b)"
   ]
  },
  {
   "cell_type": "code",
   "execution_count": 81,
   "id": "866f2440",
   "metadata": {
    "pycharm": {
     "name": "#%%\n"
    }
   },
   "outputs": [
    {
     "name": "stdout",
     "output_type": "stream",
     "text": [
      "1 2 3\n"
     ]
    }
   ],
   "source": [
    "a, (b, c) = [1, (2, 3)]\n",
    "print(a, b, c)"
   ]
  },
  {
   "cell_type": "markdown",
   "id": "765afc8a",
   "metadata": {
    "pycharm": {
     "name": "#%% md\n"
    }
   },
   "source": [
    "### enumerate, zip, for с распаковкой "
   ]
  },
  {
   "cell_type": "markdown",
   "id": "5fa29a5a",
   "metadata": {
    "pycharm": {
     "name": "#%% md\n"
    }
   },
   "source": [
    "В цикле `for` также можно использовать распаковку:"
   ]
  },
  {
   "cell_type": "code",
   "execution_count": 82,
   "id": "e3e3cb71",
   "metadata": {
    "pycharm": {
     "name": "#%%\n"
    }
   },
   "outputs": [
    {
     "name": "stdout",
     "output_type": "stream",
     "text": [
      "1 2 3\n",
      "3 4 7\n",
      "5 6 11\n"
     ]
    }
   ],
   "source": [
    "a = [[1, 2], [3, 4], [5, 6]]\n",
    "for x, y in a:\n",
    "    print(x, y, x + y)"
   ]
  },
  {
   "cell_type": "markdown",
   "id": "2bb6559b",
   "metadata": {
    "pycharm": {
     "name": "#%% md\n"
    }
   },
   "source": [
    "Часто такая распаковка используется не сама по себе, а вместе с использованием удобных функций `zip` и `enumerate`, которые позволяют удобнее работать со списками:"
   ]
  },
  {
   "cell_type": "code",
   "execution_count": 83,
   "id": "d35a510a",
   "metadata": {
    "pycharm": {
     "name": "#%%\n"
    }
   },
   "outputs": [
    {
     "name": "stdout",
     "output_type": "stream",
     "text": [
      "0 [1, 2, 3] 6\n",
      "1 [4, 5, 6] 15\n",
      "2 [7, 8, 9] 24\n",
      "3 [0, 0, 0] 0\n"
     ]
    }
   ],
   "source": [
    "a = [[1, 2, 3], [4, 5, 6], [7, 8, 9], [0, 0, 0]]\n",
    "for i, x in enumerate(a):\n",
    "    print(i, x, sum(x))"
   ]
  },
  {
   "cell_type": "code",
   "execution_count": null,
   "id": "70889557",
   "metadata": {
    "pycharm": {
     "name": "#%%\n"
    }
   },
   "outputs": [],
   "source": [
    "with open(\"1.txt\", \"w\") as f:\n",
    "    f.writelines([word + \"\\n\" for word in [\"dog\", \"cat\", \"mouse\", \"duck\", \"goose\"]])\n",
    "for line in open(\"1.txt\"):\n",
    "    print(line.strip())"
   ]
  },
  {
   "cell_type": "code",
   "execution_count": null,
   "id": "a34d5858",
   "metadata": {
    "scrolled": true,
    "pycharm": {
     "name": "#%%\n"
    }
   },
   "outputs": [],
   "source": [
    "for i, x in enumerate(open(\"1.txt\")):\n",
    "    print(i, x.rstrip())"
   ]
  },
  {
   "cell_type": "code",
   "execution_count": 85,
   "id": "5f28d35c",
   "metadata": {
    "pycharm": {
     "name": "#%%\n"
    }
   },
   "outputs": [
    {
     "name": "stdout",
     "output_type": "stream",
     "text": [
      "[('ab', 1), ('cd', 2), ('ef', 3)]\n"
     ]
    }
   ],
   "source": [
    "a = [\"ab\", \"cd\", \"ef\"]\n",
    "b = [1, 2, 3, 4]\n",
    "print(list(zip(a, b)))"
   ]
  },
  {
   "cell_type": "code",
   "execution_count": 86,
   "id": "8f44fcfd",
   "metadata": {
    "pycharm": {
     "name": "#%%\n"
    }
   },
   "outputs": [
    {
     "name": "stdout",
     "output_type": "stream",
     "text": [
      "a 0\n",
      "b 1\n",
      "c 2\n",
      "d 3\n",
      "e 4\n"
     ]
    }
   ],
   "source": [
    "for a, b in zip(\"abcde\", range(5)):\n",
    "    print(a, b)"
   ]
  },
  {
   "cell_type": "code",
   "execution_count": 87,
   "id": "172870c2",
   "metadata": {
    "pycharm": {
     "name": "#%%\n"
    }
   },
   "outputs": [
    {
     "name": "stdout",
     "output_type": "stream",
     "text": [
      "a 0\n",
      "b 1\n",
      "c 2\n",
      "d 3\n",
      "e 4\n"
     ]
    }
   ],
   "source": [
    "for a, b in zip(\"abcde\", range(10)):\n",
    "    print(a, b)"
   ]
  },
  {
   "cell_type": "markdown",
   "id": "9b5d74fb",
   "metadata": {
    "pycharm": {
     "name": "#%% md\n"
    }
   },
   "source": [
    "## itertools"
   ]
  },
  {
   "cell_type": "markdown",
   "id": "f6fc0268",
   "metadata": {
    "pycharm": {
     "name": "#%% md\n"
    }
   },
   "source": [
    "Для более удобной работы с итерируемыми объектами мы можем использовать библиотеку `itertools`. Для этого нужно ее импортировать:"
   ]
  },
  {
   "cell_type": "code",
   "execution_count": 14,
   "id": "40027db1",
   "metadata": {
    "pycharm": {
     "name": "#%%\n"
    }
   },
   "outputs": [],
   "source": [
    "import itertools as it\n"
   ]
  },
  {
   "cell_type": "code",
   "execution_count": 15,
   "id": "a2e7b20a",
   "metadata": {
    "pycharm": {
     "name": "#%%\n"
    }
   },
   "outputs": [
    {
     "name": "stdout",
     "output_type": "stream",
     "text": [
      "ABC\n",
      "ACB\n",
      "BAC\n",
      "BCA\n",
      "CAB\n",
      "CBA\n"
     ]
    }
   ],
   "source": [
    "for x, y, z in it.permutations(\"ABC\"):\n",
    "    print(x, y, z, sep='')"
   ]
  },
  {
   "cell_type": "code",
   "execution_count": 19,
   "id": "34109753",
   "metadata": {
    "pycharm": {
     "name": "#%%\n"
    }
   },
   "outputs": [
    {
     "name": "stdout",
     "output_type": "stream",
     "text": [
      "ABC ABD ABE ACB ACD ACE ADB ADC ADE AEB AEC AED BAC BAD BAE BCA BCD BCE BDA BDC BDE BEA BEC BED CAB CAD CAE CBA CBD CBE CDA CDB CDE CEA CEB CED DAB DAC DAE DBA DBC DBE DCA DCB DCE DEA DEB DEC EAB EAC EAD EBA EBC EBD ECA ECB ECD EDA EDB EDC "
     ]
    }
   ],
   "source": [
    "import itertools as it\n",
    "for x, y, z in it.permutations(\"ABCDE\", 3):\n",
    "    print(x, y, z, sep='', end=' ')"
   ]
  },
  {
   "cell_type": "markdown",
   "id": "860da4be",
   "metadata": {
    "pycharm": {
     "name": "#%% md\n"
    }
   },
   "source": [
    "**Упражнение:**\n",
    "Вычислите с помощью `it.permutation` $C_{12}^{5}$"
   ]
  },
  {
   "cell_type": "code",
   "execution_count": 24,
   "id": "b43dcc6b",
   "metadata": {
    "pycharm": {
     "name": "#%%\n"
    }
   },
   "outputs": [
    {
     "name": "stdout",
     "output_type": "stream",
     "text": [
      "792.0\n"
     ]
    }
   ],
   "source": [
    "import itertools as it\n",
    "w = []\n",
    "r = []\n",
    "for a, b, c, d, e in it.permutations(\"qwertyuiopqw\", 5):\n",
    "    w.append(0)\n",
    "for a, b, c, d, e in it.permutations(\"qwert\"):\n",
    "    r.append(0)\n",
    "A = len(w)/len(r)\n",
    "print(A)\n"
   ]
  },
  {
   "cell_type": "code",
   "execution_count": 17,
   "id": "5b112ac3",
   "metadata": {
    "pycharm": {
     "name": "#%%\n"
    }
   },
   "outputs": [
    {
     "name": "stdout",
     "output_type": "stream",
     "text": [
      "AB AC AD AE BC BD BE CD CE DE "
     ]
    }
   ],
   "source": [
    "for x, y in it.combinations(\"ABCDE\", 2):\n",
    "    print(x, y, sep='', end=' ')"
   ]
  },
  {
   "cell_type": "code",
   "execution_count": 18,
   "id": "154afae1",
   "metadata": {
    "pycharm": {
     "name": "#%%\n"
    }
   },
   "outputs": [
    {
     "name": "stdout",
     "output_type": "stream",
     "text": [
      "AA AB AC AD AE BB BC BD BE CC CD CE DD DE EE "
     ]
    }
   ],
   "source": [
    "for x, y in it.combinations_with_replacement(\"ABCDE\", 2):\n",
    "    print(x, y, sep='', end=' ')"
   ]
  },
  {
   "cell_type": "code",
   "execution_count": 16,
   "id": "9a7ad207",
   "metadata": {
    "pycharm": {
     "name": "#%%\n"
    }
   },
   "outputs": [
    {
     "name": "stdout",
     "output_type": "stream",
     "text": [
      "м а м а м ы л а р а м у "
     ]
    }
   ],
   "source": [
    "for a in it.chain(\"мама\", \"мыла\", \"раму\"):\n",
    "    print(a, end=' ')"
   ]
  },
  {
   "cell_type": "code",
   "execution_count": 20,
   "id": "72c4e409",
   "metadata": {
    "pycharm": {
     "name": "#%%\n"
    }
   },
   "outputs": [
    {
     "name": "stdout",
     "output_type": "stream",
     "text": [
      "5 4 3 3 4 5 [3, 4, 5] "
     ]
    }
   ],
   "source": [
    "for a in it.chain([5, 4, 3], [3, 4, 5], [[3, 4, 5]]):\n",
    "    print(a, end=' ')"
   ]
  },
  {
   "cell_type": "code",
   "execution_count": 21,
   "id": "950eed61",
   "metadata": {
    "pycharm": {
     "name": "#%%\n"
    }
   },
   "outputs": [
    {
     "name": "stdout",
     "output_type": "stream",
     "text": [
      "w A\n",
      "w B\n",
      "w C\n",
      "x A\n",
      "x B\n",
      "x C\n",
      "y A\n",
      "y B\n",
      "y C\n",
      "z A\n",
      "z B\n",
      "z C\n"
     ]
    }
   ],
   "source": [
    "for n, s in it.product(\"wxyz\", \"ABC\"):\n",
    "    print(n, s)"
   ]
  },
  {
   "cell_type": "markdown",
   "id": "6b925d3f",
   "metadata": {
    "pycharm": {
     "name": "#%% md\n"
    }
   },
   "source": [
    "**Упражнение:**\n",
    "Введите 2 списка (координаты вектора `a` и координаты вектора `b`) и найдите скалярное произведение этих векторов, используя `zip` или что-нибудь из `itertools`."
   ]
  },
  {
   "cell_type": "code",
   "execution_count": null,
   "id": "80086fe0",
   "metadata": {
    "pycharm": {
     "name": "#%%\n"
    }
   },
   "outputs": [],
   "source": [
    "a = list(map(int, input().split()))\n",
    "b= list(map(int, input().split()))\n",
    "c = 0\n",
    "for a_x, b_x in zip(a, b):\n",
    "    c += a_x*b_x\n",
    "print(c)"
   ]
  }
 ],
 "metadata": {
  "kernelspec": {
   "display_name": "Python 3.10.6 64-bit",
   "language": "python",
   "name": "python3"
  },
  "language_info": {
   "codemirror_mode": {
    "name": "ipython",
    "version": 3
   },
   "file_extension": ".py",
   "mimetype": "text/x-python",
   "name": "python",
   "nbconvert_exporter": "python",
   "pygments_lexer": "ipython3",
   "version": "3.10.6"
  },
  "vscode": {
   "interpreter": {
    "hash": "1478d89b7ce4d3b24612d301a01f331022994c4fdda68a772376a30451b7fbfc"
   }
  }
 },
 "nbformat": 4,
 "nbformat_minor": 5
}