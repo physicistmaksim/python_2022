{
 "cells": [
  {
   "cell_type": "markdown",
   "id": "cc9180ab",
   "metadata": {
    "pycharm": {
     "name": "#%% md\n"
    }
   },
   "source": [
    "# Set."
   ]
  },
  {
   "cell_type": "markdown",
   "id": "2905a413",
   "metadata": {
    "pycharm": {
     "name": "#%% md\n"
    }
   },
   "source": [
    "Множество `set` в Python имеет тот же смысл, что понятие множества в математике. `Множество` содержит неупорядоченный набор элементов. Множества поддерживают стандартные математические операции над ними: *объединение, пересечение, разность*. Возможно также добавление и удаление элементов, проверка их принадлежности множеству с помощью оператора `in`. При этом все элементы входят в `set` только один раз, добавление существующего элемента не изменяет множество. Элементами множества могут быть только `неизменяемые` типы, например, его элементами не могут быть списки.\n",
    "\n",
    "### Таблица по взаимодействию элемента и множества\n",
    "Операция  | Значение \n",
    "---|---\n",
    "`x in A`  | $x \\in A$, принадлежит ли элемент x множеству A \n",
    "`x not in A`  | $x \\notin A$ — то же, что `not (x in A)`\n",
    "`A.add(x)`  | добавить элемент x в множество A \n",
    "`A.discard(x)`  | удалить элемент x из множества A \n",
    "`A.remove(x)`  | удалить элемент x из множества A \n",
    "`A.pop()`  | удаляет из множества один случайный элемент и возвращает его "
   ]
  },
  {
   "cell_type": "code",
   "execution_count": 1,
   "id": "b764f6e7",
   "metadata": {
    "pycharm": {
     "name": "#%%\n"
    }
   },
   "outputs": [
    {
     "name": "stdout",
     "output_type": "stream",
     "text": [
      "{1, 2, 3, 4}\n"
     ]
    }
   ],
   "source": [
    "a = {1, 2, 3}\n",
    "a.add(4)\n",
    "print(a)"
   ]
  },
  {
   "cell_type": "code",
   "execution_count": 2,
   "id": "10b6998a",
   "metadata": {
    "pycharm": {
     "name": "#%%\n"
    }
   },
   "outputs": [
    {
     "name": "stdout",
     "output_type": "stream",
     "text": [
      "{1, 2, 3, 4}\n"
     ]
    }
   ],
   "source": [
    "a.add(1)\n",
    "print(a)"
   ]
  },
  {
   "cell_type": "code",
   "execution_count": 3,
   "id": "8feef037",
   "metadata": {
    "pycharm": {
     "name": "#%%\n"
    }
   },
   "outputs": [
    {
     "name": "stdout",
     "output_type": "stream",
     "text": [
      "False True\n"
     ]
    }
   ],
   "source": [
    "print(0 in a, 1 in a)"
   ]
  },
  {
   "cell_type": "markdown",
   "id": "96713d33",
   "metadata": {
    "pycharm": {
     "name": "#%% md\n"
    }
   },
   "source": [
    "Для удаления элементов из множества можно использовать `discard` и `remove`, их поведение различается тогда, когда удаляемый элемент отсутствует в множестве: `discard` не делает ничего, а метод `remove` генерирует исключение `KeyError`, которое вы увидите в одной из ячеек ниже."
   ]
  },
  {
   "cell_type": "code",
   "execution_count": 4,
   "id": "a59d5948",
   "metadata": {
    "pycharm": {
     "name": "#%%\n"
    }
   },
   "outputs": [
    {
     "name": "stdout",
     "output_type": "stream",
     "text": [
      "{2, 3, 4}\n"
     ]
    }
   ],
   "source": [
    "a.remove(1)\n",
    "print(a)"
   ]
  },
  {
   "cell_type": "code",
   "execution_count": 5,
   "id": "b33b0ea5",
   "metadata": {
    "pycharm": {
     "name": "#%%\n"
    }
   },
   "outputs": [
    {
     "ename": "KeyError",
     "evalue": "0",
     "output_type": "error",
     "traceback": [
      "\u001B[1;31m---------------------------------------------------------------------------\u001B[0m",
      "\u001B[1;31mKeyError\u001B[0m                                  Traceback (most recent call last)",
      "Cell \u001B[1;32mIn [5], line 1\u001B[0m\n\u001B[1;32m----> 1\u001B[0m \u001B[43ma\u001B[49m\u001B[38;5;241;43m.\u001B[39;49m\u001B[43mremove\u001B[49m\u001B[43m(\u001B[49m\u001B[38;5;241;43m0\u001B[39;49m\u001B[43m)\u001B[49m\n\u001B[0;32m      2\u001B[0m \u001B[38;5;28mprint\u001B[39m(a)\n",
      "\u001B[1;31mKeyError\u001B[0m: 0"
     ]
    }
   ],
   "source": [
    "a.remove(0)\n",
    "print(a)"
   ]
  },
  {
   "cell_type": "code",
   "execution_count": 6,
   "id": "c1a18deb",
   "metadata": {
    "pycharm": {
     "name": "#%%\n"
    }
   },
   "outputs": [
    {
     "name": "stdout",
     "output_type": "stream",
     "text": [
      "{2, 3, 4}\n"
     ]
    }
   ],
   "source": [
    "print(a)"
   ]
  },
  {
   "cell_type": "code",
   "execution_count": 7,
   "id": "bae1b5de",
   "metadata": {
    "pycharm": {
     "name": "#%%\n"
    }
   },
   "outputs": [
    {
     "name": "stdout",
     "output_type": "stream",
     "text": [
      "{3, 4}\n"
     ]
    }
   ],
   "source": [
    "a.discard(2)\n",
    "print(a)"
   ]
  },
  {
   "cell_type": "code",
   "execution_count": 8,
   "id": "27de8b15",
   "metadata": {
    "pycharm": {
     "name": "#%%\n"
    }
   },
   "outputs": [
    {
     "name": "stdout",
     "output_type": "stream",
     "text": [
      "{3, 4}\n"
     ]
    }
   ],
   "source": [
    "a.discard(0)\n",
    "print(a)"
   ]
  },
  {
   "cell_type": "markdown",
   "id": "5f4bca28",
   "metadata": {
    "pycharm": {
     "name": "#%% md\n"
    }
   },
   "source": [
    "Для создания пустого множества или для получения множества из *итерируемого* объекта можно использовать конструктор множеств `set`:"
   ]
  },
  {
   "cell_type": "code",
   "execution_count": 9,
   "id": "68ccf6f0",
   "metadata": {
    "pycharm": {
     "name": "#%%\n"
    }
   },
   "outputs": [
    {
     "name": "stdout",
     "output_type": "stream",
     "text": [
      "set()\n",
      "{1}\n"
     ]
    }
   ],
   "source": [
    "a = set()\n",
    "print(a)\n",
    "a.add(1)\n",
    "print(a)"
   ]
  },
  {
   "cell_type": "markdown",
   "id": "01353f80",
   "metadata": {
    "pycharm": {
     "name": "#%% md\n"
    }
   },
   "source": [
    "Конструкция ниже не работает, потому что фигурные скобки используются для создания пустых словарей `dict`, о которых будет сказано ниже."
   ]
  },
  {
   "cell_type": "code",
   "execution_count": 10,
   "id": "73ca6b59",
   "metadata": {
    "pycharm": {
     "name": "#%%\n"
    }
   },
   "outputs": [
    {
     "name": "stdout",
     "output_type": "stream",
     "text": [
      "{}\n"
     ]
    },
    {
     "ename": "AttributeError",
     "evalue": "'dict' object has no attribute 'add'",
     "output_type": "error",
     "traceback": [
      "\u001B[1;31m---------------------------------------------------------------------------\u001B[0m",
      "\u001B[1;31mAttributeError\u001B[0m                            Traceback (most recent call last)",
      "Cell \u001B[1;32mIn [10], line 3\u001B[0m\n\u001B[0;32m      1\u001B[0m a \u001B[38;5;241m=\u001B[39m {}\n\u001B[0;32m      2\u001B[0m \u001B[38;5;28mprint\u001B[39m(a)\n\u001B[1;32m----> 3\u001B[0m \u001B[43ma\u001B[49m\u001B[38;5;241;43m.\u001B[39;49m\u001B[43madd\u001B[49m(\u001B[38;5;241m1\u001B[39m)\n\u001B[0;32m      4\u001B[0m \u001B[38;5;28mprint\u001B[39m(a)\n",
      "\u001B[1;31mAttributeError\u001B[0m: 'dict' object has no attribute 'add'"
     ]
    }
   ],
   "source": [
    "a = {}\n",
    "print(a)\n",
    "a.add(1)\n",
    "print(a)"
   ]
  },
  {
   "cell_type": "code",
   "execution_count": 11,
   "id": "a2c72d10",
   "metadata": {
    "pycharm": {
     "name": "#%%\n"
    }
   },
   "outputs": [
    {
     "name": "stdout",
     "output_type": "stream",
     "text": [
      "{1, 2, 3, 4}\n"
     ]
    }
   ],
   "source": [
    "a = [1, 2, 3, 4]\n",
    "print(set(a))"
   ]
  },
  {
   "cell_type": "code",
   "execution_count": 13,
   "id": "6aec8e48",
   "metadata": {
    "pycharm": {
     "name": "#%%\n"
    }
   },
   "outputs": [
    {
     "name": "stdout",
     "output_type": "stream",
     "text": [
      "{0, 1, 2, 3, 4}\n"
     ]
    }
   ],
   "source": [
    "a = [1, 2, 0, 3, 4, 1, 0]\n",
    "print(set(a))"
   ]
  },
  {
   "cell_type": "code",
   "execution_count": 17,
   "id": "5f28094e",
   "metadata": {
    "pycharm": {
     "name": "#%%\n"
    }
   },
   "outputs": [
    {
     "name": "stdout",
     "output_type": "stream",
     "text": [
      "{'c', 'd', 'b', 'a'}\n"
     ]
    }
   ],
   "source": [
    "a = \"abcd\"\n",
    "print(set(a))"
   ]
  },
  {
   "cell_type": "code",
   "execution_count": 18,
   "id": "1f6a55db",
   "metadata": {
    "pycharm": {
     "name": "#%%\n"
    }
   },
   "outputs": [
    {
     "name": "stdout",
     "output_type": "stream",
     "text": [
      "{'c', 'd', 'b', 'a'}\n"
     ]
    }
   ],
   "source": [
    "a = \"abcda\"\n",
    "print(set(a))"
   ]
  },
  {
   "cell_type": "markdown",
   "id": "b22ea5f0",
   "metadata": {
    "pycharm": {
     "name": "#%% md\n"
    }
   },
   "source": [
    "Операции над множествами можно записывать как коротко символами, так и названиями соответствующих функций:"
   ]
  },
  {
   "cell_type": "code",
   "execution_count": 19,
   "id": "09c3ec60",
   "metadata": {
    "pycharm": {
     "name": "#%%\n"
    }
   },
   "outputs": [
    {
     "name": "stdout",
     "output_type": "stream",
     "text": [
      "{1, 2, 3, 4, 5, 6}\n",
      "{1, 2, 3, 4, 5, 6}\n"
     ]
    }
   ],
   "source": [
    "a = {1, 2, 3, 4}\n",
    "b = {3, 4, 5, 6}\n",
    "print(a.union(b))\n",
    "print(a | b)"
   ]
  },
  {
   "cell_type": "code",
   "execution_count": 20,
   "id": "6f286d8d",
   "metadata": {
    "pycharm": {
     "name": "#%%\n"
    }
   },
   "outputs": [
    {
     "name": "stdout",
     "output_type": "stream",
     "text": [
      "{3, 4}\n",
      "{3, 4}\n"
     ]
    }
   ],
   "source": [
    "a = {1, 2, 3, 4}\n",
    "b = {3, 4, 5, 6}\n",
    "print(a.intersection(b))\n",
    "print(a & b)"
   ]
  },
  {
   "cell_type": "code",
   "execution_count": 21,
   "id": "14b1a2b6",
   "metadata": {
    "pycharm": {
     "name": "#%%\n"
    }
   },
   "outputs": [
    {
     "name": "stdout",
     "output_type": "stream",
     "text": [
      "{1, 2}\n",
      "{1, 2}\n"
     ]
    }
   ],
   "source": [
    "a = {1, 2, 3, 4}\n",
    "b = {3, 4, 5, 6}\n",
    "print(a.difference(b))\n",
    "print(a - b)"
   ]
  },
  {
   "cell_type": "markdown",
   "id": "99ecf48b",
   "metadata": {
    "pycharm": {
     "name": "#%% md\n"
    }
   },
   "source": [
    "Симметрическая разность двух множеств - множество, состоящее из элементов, входящих в одно и только одно из данных множеств:"
   ]
  },
  {
   "cell_type": "code",
   "execution_count": 22,
   "id": "f58dd2af",
   "metadata": {
    "pycharm": {
     "name": "#%%\n"
    }
   },
   "outputs": [
    {
     "name": "stdout",
     "output_type": "stream",
     "text": [
      "{1, 2, 5, 6}\n",
      "{1, 2, 5, 6}\n"
     ]
    }
   ],
   "source": [
    "a = {1, 2, 3, 4}\n",
    "b = {3, 4, 5, 6}\n",
    "print(a.symmetric_difference(b))\n",
    "print(a ^ b)"
   ]
  },
  {
   "cell_type": "code",
   "execution_count": 23,
   "id": "2fd6de37",
   "metadata": {
    "pycharm": {
     "name": "#%%\n"
    }
   },
   "outputs": [
    {
     "name": "stdout",
     "output_type": "stream",
     "text": [
      "False\n",
      "False\n",
      "True\n",
      "True\n"
     ]
    }
   ],
   "source": [
    "a = {1, 2, 3, 4}\n",
    "b = {3, 4, 5, 6}\n",
    "print(a <= b)\n",
    "print(a.issubset(b))\n",
    "\n",
    "c = {3, 4}\n",
    "d = {3, 4, 5, 6}\n",
    "print(c <= d)\n",
    "print(c.issubset(d))"
   ]
  },
  {
   "cell_type": "code",
   "execution_count": 27,
   "id": "794fe0bb",
   "metadata": {
    "pycharm": {
     "name": "#%%\n"
    }
   },
   "outputs": [
    {
     "ename": "SyntaxError",
     "evalue": "invalid syntax (706718660.py, line 3)",
     "output_type": "error",
     "traceback": [
      "\u001B[1;36m  Cell \u001B[1;32mIn [27], line 3\u001B[1;36m\u001B[0m\n\u001B[1;33m    print(a += b)\u001B[0m\n\u001B[1;37m            ^\u001B[0m\n\u001B[1;31mSyntaxError\u001B[0m\u001B[1;31m:\u001B[0m invalid syntax\n"
     ]
    }
   ],
   "source": [
    "a = {3, 4, 5, 6}\n",
    "b = {3, 4, 5, 6}\n",
    "print(a += b)\n",
    "print(a -= b)"
   ]
  },
  {
   "cell_type": "markdown",
   "id": "e978e84a",
   "metadata": {
    "pycharm": {
     "name": "#%% md\n"
    }
   },
   "source": [
    "Существуют также операции наподобие `+=`, `-=`, `*=`, `/=`, `//=`:"
   ]
  },
  {
   "cell_type": "code",
   "execution_count": 25,
   "id": "c3e59589",
   "metadata": {
    "pycharm": {
     "name": "#%%\n"
    }
   },
   "outputs": [
    {
     "name": "stdout",
     "output_type": "stream",
     "text": [
      "{3, 4}\n"
     ]
    }
   ],
   "source": [
    "a = {1, 2, 3, 4}\n",
    "b = {3, 4, 5, 6}\n",
    "a &= b\n",
    "print(a)"
   ]
  },
  {
   "cell_type": "code",
   "execution_count": 28,
   "id": "82ff0931",
   "metadata": {
    "pycharm": {
     "name": "#%%\n"
    }
   },
   "outputs": [
    {
     "name": "stdout",
     "output_type": "stream",
     "text": [
      "{3, 4}\n"
     ]
    }
   ],
   "source": [
    "a = {1, 2, 3, 4}\n",
    "b = {3, 4, 5, 6}\n",
    "a.intersection_update(b)\n",
    "print(a)"
   ]
  },
  {
   "cell_type": "code",
   "execution_count": 29,
   "id": "9e19f911",
   "metadata": {
    "pycharm": {
     "name": "#%%\n"
    }
   },
   "outputs": [
    {
     "name": "stdout",
     "output_type": "stream",
     "text": [
      "{1, 2, 3, 4, 5, 6}\n"
     ]
    }
   ],
   "source": [
    "a = {1, 2, 3, 4}\n",
    "b = {3, 4, 5, 6}\n",
    "a |= b\n",
    "print(a)"
   ]
  },
  {
   "cell_type": "code",
   "execution_count": 30,
   "id": "3e07d561",
   "metadata": {
    "pycharm": {
     "name": "#%%\n"
    }
   },
   "outputs": [
    {
     "name": "stdout",
     "output_type": "stream",
     "text": [
      "{1, 2, 3, 4, 5, 6}\n"
     ]
    }
   ],
   "source": [
    "a = {1, 2, 3, 4}\n",
    "b = {3, 4, 5, 6}\n",
    "a.update(b)\n",
    "print(a)"
   ]
  },
  {
   "cell_type": "code",
   "execution_count": 31,
   "id": "beabdba5",
   "metadata": {
    "pycharm": {
     "name": "#%%\n"
    }
   },
   "outputs": [
    {
     "name": "stdout",
     "output_type": "stream",
     "text": [
      "{1, 2}\n"
     ]
    }
   ],
   "source": [
    "a = {1, 2, 3, 4}\n",
    "b = {3, 4, 5, 6}\n",
    "a -= b\n",
    "print(a)"
   ]
  },
  {
   "cell_type": "code",
   "execution_count": 32,
   "id": "0ccfb2a9",
   "metadata": {
    "pycharm": {
     "name": "#%%\n"
    }
   },
   "outputs": [
    {
     "name": "stdout",
     "output_type": "stream",
     "text": [
      "{1, 2}\n"
     ]
    }
   ],
   "source": [
    "a = {1, 2, 3, 4}\n",
    "b = {3, 4, 5, 6}\n",
    "a.difference_update(b)\n",
    "print(a)"
   ]
  },
  {
   "cell_type": "markdown",
   "id": "c6ac45f8",
   "metadata": {
    "pycharm": {
     "name": "#%% md\n"
    }
   },
   "source": [
    "### Сводная таблица операций с множествами:\n",
    "Операция  | Альтернатива | Значение \n",
    "---|---|---\n",
    "`A \\| B` | `A.union(B)`  | Возвращает множество, являющееся объединением множеств A и B. \n",
    "`A \\|= B` | `A.update(B)` | Записывает в A объединение множеств A и B. \n",
    "`A & B` | `A.intersection(B)`  | Возвращает множество, являющееся пересечением множеств A и B. \n",
    "`A &= B` | `A.intersection_update(B)`  | Записывает в A пересечение множеств A и B. \n",
    "`A - B` | `A.difference(B)`  | Возвращает разность множеств A и B (элементы, входящие в A, но не входящие в B). \n",
    "`A -= B` | `A.difference_update(B)`  | Записывает в A разность множеств A и B. \n",
    "`A ^ B` | `A.symmetric_difference(B)`  | Возвращает симметрическую разность множеств A и B (элементы, входящие в A или в B, но не в оба из них одновременно). \n",
    "`A ^= B` | `A.symmetric_difference_update(B)`  | Записывает в A симметрическую разность множеств A и B. \n",
    "`A <= B` | `A.issubset(B)`  | Возвращает True, если A является подмножеством B. \n",
    "`A >= B` | `A.issuperset(B)`  | Возвращает True, если B является подмножеством A. \n",
    "`A < B`  | | Эквивалентно A <= B and A != B \n",
    "`A > B`  | | Эквивалентно A >= B and A != B \n",
    "\n",
    "\n"
   ]
  },
  {
   "cell_type": "markdown",
   "id": "203fa32c",
   "metadata": {
    "pycharm": {
     "name": "#%% md\n"
    }
   },
   "source": [
    "**Упражнение 0**. Вывести на экран все элементы множества A, которых нет в множестве B. Дописать код ниже."
   ]
  },
  {
   "cell_type": "code",
   "execution_count": 33,
   "id": "2f7da262",
   "metadata": {
    "pycharm": {
     "name": "#%%\n"
    }
   },
   "outputs": [
    {
     "name": "stdout",
     "output_type": "stream",
     "text": [
      "{'f', 'p', 'w', 'q', 'l'}\n"
     ]
    }
   ],
   "source": [
    "A = set('bqlpzlkwehrlulsdhfliuywemrlkjhsdlfjhlzxcovt')\n",
    "B = set('zmxcvnboaiyerjhbziuxdytvasenbriutsdvinjhgik')\n",
    "print(A.difference(B))"
   ]
  },
  {
   "cell_type": "markdown",
   "id": "3661d47e",
   "metadata": {
    "pycharm": {
     "name": "#%% md\n"
    }
   },
   "source": [
    "**Упражнение 1.** Считать через `input` строку, состоящую из 3 слов и найти буквы, входящие в каждое из слов."
   ]
  },
  {
   "cell_type": "code",
   "execution_count": 35,
   "id": "d5aa2772",
   "metadata": {
    "pycharm": {
     "name": "#%%\n"
    }
   },
   "outputs": [
    {
     "name": "stdout",
     "output_type": "stream",
     "text": [
      "{'c', 'b'}\n"
     ]
    }
   ],
   "source": [
    "s = input()\n",
    "A, B, C = map(set, s.split())\n",
    "D = A & B\n",
    "print(D & C)"
   ]
  },
  {
   "cell_type": "markdown",
   "id": "b18e5d22",
   "metadata": {
    "pycharm": {
     "name": "#%% md\n"
    }
   },
   "source": [
    "**Упражнение 2.** Считать через `input` строку, состоящую из произвольного числа слов и найти буквы, входящие в каждое из слов."
   ]
  },
  {
   "cell_type": "code",
   "execution_count": 38,
   "id": "157e055b",
   "metadata": {
    "pycharm": {
     "name": "#%%\n"
    }
   },
   "outputs": [
    {
     "name": "stdout",
     "output_type": "stream",
     "text": [
      "{'a'}\n"
     ]
    }
   ],
   "source": [
    "s = input()\n",
    "L = list(map(set, s.split()))\n",
    "Dif = L[0] & L[1]\n",
    "for i in range(2,len(L)):\n",
    "    Dif &= L[i]\n",
    "print(Dif)"
   ]
  },
  {
   "cell_type": "markdown",
   "id": "e3534537",
   "metadata": {
    "pycharm": {
     "name": "#%% md\n"
    }
   },
   "source": [
    "**Упражнение 3\\*.** Считать через `input` несколько чисел через пробел и найти цифры, входящие в каждое из чисел. Использовать `while`."
   ]
  },
  {
   "cell_type": "code",
   "execution_count": 40,
   "id": "8808e2e6",
   "metadata": {
    "pycharm": {
     "name": "#%%\n"
    }
   },
   "outputs": [
    {
     "name": "stdout",
     "output_type": "stream",
     "text": [
      "{'2', '3', '1'}\n"
     ]
    }
   ],
   "source": [
    "s = input()\n",
    "L = list(map(set, s.split()))\n",
    "Dif = L[0] & L[1]\n",
    "i = 2\n",
    "while i < len(L):\n",
    "    Dif &= L[i]\n",
    "    i += 1\n",
    "print(Dif)"
   ]
  },
  {
   "cell_type": "markdown",
   "id": "4c401aa6",
   "metadata": {
    "pycharm": {
     "name": "#%% md\n"
    }
   },
   "source": [
    "# Dict."
   ]
  },
  {
   "cell_type": "markdown",
   "id": "b1a52ec5",
   "metadata": {
    "pycharm": {
     "name": "#%% md\n"
    }
   },
   "source": [
    "Кроме множеств также часто используются словари. Элемент словаря `dict` - это пара `ключ: значение`.\n",
    "Ключи позволяют обращаться к данным не по индексу, как это реализовано в списках, а по любому удобному значению.\n",
    "\n",
    "### Сводная таблица по операциям со словарями:\n",
    "Операция  | Значение \n",
    "---|---\n",
    "`value = A[key]` | Получение элемента по ключу. Если элемента с заданным ключом в словаре нет, то возникает исключение KeyError. \n",
    "`value = A.get(key)` | Получение элемента по ключу. Если элемента в словаре нет, то get возвращает None. \n",
    "`value = A.get(key, default_value)` | То же, но вместо None метод get возвращает default_value. \n",
    "`key in A` | Проверить принадлежность ключа словарю. \n",
    "`key not in A` | То же, что not key in A. \n",
    "`A[key] = value` | Добавление нового элемента в словарь. \n",
    "`del A[key]` | Удаление пары ключ-значение с ключом key. Возбуждает исключение KeyError, если такого ключа нет. \n",
    "`if key in A: del A[key]` | Удаление пары ключ-значение с предварительной проверкой наличия ключа. \n",
    "`value = A.pop(key)` | Удаление пары ключ-значение с ключом key и возврат значения удаляемого элемента.Если такого ключа нет, то возбуждается KeyError. \n",
    "`value = A.pop(key, default_value)` | То же, но вместо генерации исключения возвращается default_value. \n",
    "`A.pop(key, None)` | Это позволяет проще всего организовать безопасное удаление элемента из словаря. \n",
    "`len(A)` | Возвращает количество пар ключ-значение, хранящихся в словаре. \n"
   ]
  },
  {
   "cell_type": "code",
   "execution_count": 42,
   "id": "b85122e9",
   "metadata": {
    "pycharm": {
     "name": "#%%\n"
    }
   },
   "outputs": [
    {
     "ename": "KeyError",
     "evalue": "'Берлин'",
     "output_type": "error",
     "traceback": [
      "\u001B[1;31m---------------------------------------------------------------------------\u001B[0m",
      "\u001B[1;31mKeyError\u001B[0m                                  Traceback (most recent call last)",
      "Cell \u001B[1;32mIn [42], line 2\u001B[0m\n\u001B[0;32m      1\u001B[0m d \u001B[38;5;241m=\u001B[39m {\u001B[38;5;124m\"\u001B[39m\u001B[38;5;124mРоссия\u001B[39m\u001B[38;5;124m\"\u001B[39m: \u001B[38;5;124m\"\u001B[39m\u001B[38;5;124mМосква\u001B[39m\u001B[38;5;124m\"\u001B[39m, \u001B[38;5;124m\"\u001B[39m\u001B[38;5;124mФранция\u001B[39m\u001B[38;5;124m\"\u001B[39m: \u001B[38;5;124m\"\u001B[39m\u001B[38;5;124mПариж\u001B[39m\u001B[38;5;124m\"\u001B[39m, \u001B[38;5;124m\"\u001B[39m\u001B[38;5;124mГермания\u001B[39m\u001B[38;5;124m\"\u001B[39m: \u001B[38;5;124m\"\u001B[39m\u001B[38;5;124mБерлин\u001B[39m\u001B[38;5;124m\"\u001B[39m}\n\u001B[1;32m----> 2\u001B[0m \u001B[38;5;28mprint\u001B[39m(\u001B[43md\u001B[49m\u001B[43m[\u001B[49m\u001B[38;5;124;43m\"\u001B[39;49m\u001B[38;5;124;43mБерлин\u001B[39;49m\u001B[38;5;124;43m\"\u001B[39;49m\u001B[43m]\u001B[49m)\n",
      "\u001B[1;31mKeyError\u001B[0m: 'Берлин'"
     ]
    }
   ],
   "source": [
    "d = {\"Россия\": \"Москва\", \"Франция\": \"Париж\", \"Германия\": \"Берлин\"}\n",
    "print(d[\"Берлин\"])"
   ]
  },
  {
   "cell_type": "markdown",
   "id": "eef7c663",
   "metadata": {
    "pycharm": {
     "name": "#%% md\n"
    }
   },
   "source": [
    "Такой способ хранения данных в данном случае является более естественным и удобным. Создание словаря и добавление элементов:"
   ]
  },
  {
   "cell_type": "code",
   "execution_count": 43,
   "id": "612972f3",
   "metadata": {
    "pycharm": {
     "name": "#%%\n"
    }
   },
   "outputs": [
    {
     "name": "stdout",
     "output_type": "stream",
     "text": [
      "{'Россия': 'Москва'}\n"
     ]
    }
   ],
   "source": [
    "d = dict()\n",
    "d[\"Россия\"] = \"Москва\"\n",
    "print(d)"
   ]
  },
  {
   "cell_type": "markdown",
   "id": "fb99a70b",
   "metadata": {
    "pycharm": {
     "name": "#%% md\n"
    }
   },
   "source": [
    "Можно обращаться к ключам словаря, к значениям словаря, итерировать по ключам и по парам ключ-значение."
   ]
  },
  {
   "cell_type": "code",
   "execution_count": 44,
   "id": "0c99a37e",
   "metadata": {
    "pycharm": {
     "name": "#%%\n"
    }
   },
   "outputs": [
    {
     "name": "stdout",
     "output_type": "stream",
     "text": [
      "dict_keys(['Россия', 'Франция', 'Германия'])\n",
      "dict_values(['Москва', 'Париж', 'Берлин'])\n"
     ]
    }
   ],
   "source": [
    "d = {\"Россия\": \"Москва\", \"Франция\": \"Париж\", \"Германия\": \"Берлин\"}\n",
    "print(d.keys())\n",
    "print(d.values())"
   ]
  },
  {
   "cell_type": "code",
   "execution_count": 45,
   "id": "c4c30767",
   "metadata": {
    "pycharm": {
     "name": "#%%\n"
    }
   },
   "outputs": [
    {
     "name": "stdout",
     "output_type": "stream",
     "text": [
      "Москва\n",
      "Париж\n",
      "Берлин\n"
     ]
    }
   ],
   "source": [
    "for k in d.keys():\n",
    "    print(d[k])"
   ]
  },
  {
   "cell_type": "code",
   "execution_count": 46,
   "id": "95a8fdf1",
   "metadata": {
    "pycharm": {
     "name": "#%%\n"
    }
   },
   "outputs": [
    {
     "name": "stdout",
     "output_type": "stream",
     "text": [
      "Россия Москва\n",
      "Франция Париж\n",
      "Германия Берлин\n"
     ]
    }
   ],
   "source": [
    "for k, v in d.items():\n",
    "    print(k, v)"
   ]
  },
  {
   "cell_type": "code",
   "execution_count": 47,
   "id": "7304ca5e",
   "metadata": {
    "pycharm": {
     "name": "#%%\n"
    }
   },
   "outputs": [
    {
     "name": "stdout",
     "output_type": "stream",
     "text": [
      "dict_items([('Россия', 'Москва'), ('Франция', 'Париж'), ('Германия', 'Берлин')])\n"
     ]
    }
   ],
   "source": [
    "print(d.items())"
   ]
  },
  {
   "cell_type": "code",
   "execution_count": 48,
   "id": "5c088447",
   "metadata": {
    "pycharm": {
     "name": "#%%\n"
    }
   },
   "outputs": [
    {
     "name": "stdout",
     "output_type": "stream",
     "text": [
      "[('Россия', 'Москва'), ('Франция', 'Париж'), ('Германия', 'Берлин')]\n"
     ]
    }
   ],
   "source": [
    "print(list(d.items()))"
   ]
  },
  {
   "cell_type": "markdown",
   "id": "f6560523",
   "metadata": {
    "pycharm": {
     "name": "#%% md\n"
    }
   },
   "source": [
    "Можем сортировать такие объекты, например, по странам в лексикографическом порядке:"
   ]
  },
  {
   "cell_type": "code",
   "execution_count": 49,
   "id": "c84c8635",
   "metadata": {
    "pycharm": {
     "name": "#%%\n"
    }
   },
   "outputs": [
    {
     "name": "stdout",
     "output_type": "stream",
     "text": [
      "[('Германия', 'Берлин'), ('Россия', 'Москва'), ('Франция', 'Париж')]\n"
     ]
    }
   ],
   "source": [
    "d = list(d.items())\n",
    "d = sorted(d, key = lambda x: x[0])\n",
    "print(d)"
   ]
  },
  {
   "cell_type": "markdown",
   "id": "59e0e44f",
   "metadata": {
    "pycharm": {
     "name": "#%% md\n"
    }
   },
   "source": [
    "# Set comprehensions. Dict comprehensions."
   ]
  },
  {
   "cell_type": "markdown",
   "id": "83b2e7ad",
   "metadata": {
    "pycharm": {
     "name": "#%% md\n"
    }
   },
   "source": [
    "Можно генерировать множества и словари по аналогии со списками:"
   ]
  },
  {
   "cell_type": "code",
   "execution_count": 50,
   "id": "e19ab542",
   "metadata": {
    "pycharm": {
     "name": "#%%\n"
    }
   },
   "outputs": [
    {
     "name": "stdout",
     "output_type": "stream",
     "text": [
      "[-5, -4, -3, -2, -1, 0, 1, 2, 3, 4]\n",
      "{0, 1, 2, 3, 4, -1, -5, -4, -3, -2}\n",
      "[5, 4, 3, 2, 1, 0, 1, 2, 3, 4]\n",
      "{0, 1, 2, 3, 4, 5}\n"
     ]
    }
   ],
   "source": [
    "a = [i for i in range(-5, 5)]\n",
    "print(a)\n",
    "a = {i for i in range(-5, 5)}\n",
    "print(a)\n",
    "a = [abs(i) for i in range(-5, 5)]\n",
    "print(a)\n",
    "a = {abs(i) for i in range(-5, 5)}\n",
    "print(a)"
   ]
  },
  {
   "cell_type": "markdown",
   "id": "5e1eae9b",
   "metadata": {
    "pycharm": {
     "name": "#%% md\n"
    }
   },
   "source": [
    "Для определения порядкового номера символа в таблице символов ASCII используется функция `ord`:"
   ]
  },
  {
   "cell_type": "code",
   "execution_count": 51,
   "id": "0a141a96",
   "metadata": {
    "pycharm": {
     "name": "#%%\n"
    }
   },
   "outputs": [
    {
     "name": "stdout",
     "output_type": "stream",
     "text": [
      "97\n",
      "65 90 97 122\n"
     ]
    }
   ],
   "source": [
    "s = \"a\"\n",
    "print(ord(s))\n",
    "print(ord('A'), ord('Z'), ord('a'), ord('z'))"
   ]
  },
  {
   "cell_type": "markdown",
   "id": "8ce05fc6",
   "metadata": {
    "pycharm": {
     "name": "#%% md\n"
    }
   },
   "source": [
    "Обратная к ней функция, возвращающая символ по его порядковому номеру - `chr`:"
   ]
  },
  {
   "cell_type": "code",
   "execution_count": 52,
   "id": "0974a43c",
   "metadata": {
    "pycharm": {
     "name": "#%%\n"
    }
   },
   "outputs": [
    {
     "name": "stdout",
     "output_type": "stream",
     "text": [
      "A Z a z\n"
     ]
    }
   ],
   "source": [
    "print(chr(65), chr(90), chr(97), chr(122))"
   ]
  },
  {
   "cell_type": "markdown",
   "id": "cb0ffe6d",
   "metadata": {
    "pycharm": {
     "name": "#%% md\n"
    }
   },
   "source": [
    "Создадим словарь, состоящий из пар элементов `номер буквы в таблице ASCII`: `буква`."
   ]
  },
  {
   "cell_type": "code",
   "execution_count": 53,
   "id": "4aed5b7e",
   "metadata": {
    "pycharm": {
     "name": "#%%\n"
    }
   },
   "outputs": [
    {
     "name": "stdout",
     "output_type": "stream",
     "text": [
      "{65: 'A', 66: 'B', 67: 'C', 68: 'D', 69: 'E', 70: 'F', 71: 'G', 72: 'H', 73: 'I', 74: 'J', 75: 'K', 76: 'L', 77: 'M', 78: 'N', 79: 'O', 80: 'P', 81: 'Q', 82: 'R', 83: 'S', 84: 'T', 85: 'U', 86: 'V', 87: 'W', 88: 'X', 89: 'Y', 90: 'Z'}\n",
      "F\n"
     ]
    }
   ],
   "source": [
    "d = {i: chr(i) for i in range(65, 91)}\n",
    "print(d)\n",
    "print(d[70])"
   ]
  },
  {
   "cell_type": "markdown",
   "id": "c1e21462",
   "metadata": {
    "pycharm": {
     "name": "#%% md\n"
    }
   },
   "source": [
    "**Упражнение 4.** Создайте аналогичный словарь для маленьких букв, выведите его, затем добавьте в него большие буквы и выведите итоговый словарь."
   ]
  },
  {
   "cell_type": "code",
   "execution_count": 57,
   "id": "bdc88da2",
   "metadata": {
    "pycharm": {
     "name": "#%%\n"
    }
   },
   "outputs": [
    {
     "name": "stdout",
     "output_type": "stream",
     "text": [
      "{97: 'a', 98: 'b', 99: 'c', 100: 'd', 101: 'e', 102: 'f', 103: 'g', 104: 'h', 105: 'i', 106: 'j', 107: 'k', 108: 'l', 109: 'm', 110: 'n', 111: 'o', 112: 'p', 113: 'q', 114: 'r', 115: 's', 116: 't', 117: 'u', 118: 'v', 119: 'w', 120: 'x', 121: 'y', 122: 'z'}\n",
      "{97: 'a', 98: 'b', 99: 'c', 100: 'd', 101: 'e', 102: 'f', 103: 'g', 104: 'h', 105: 'i', 106: 'j', 107: 'k', 108: 'l', 109: 'm', 110: 'n', 111: 'o', 112: 'p', 113: 'q', 114: 'r', 115: 's', 116: 't', 117: 'u', 118: 'v', 119: 'w', 120: 'x', 121: 'y', 122: 'z', 65: 'A', 66: 'B', 67: 'C', 68: 'D', 69: 'E', 70: 'F', 71: 'G', 72: 'H', 73: 'I', 74: 'J', 75: 'K', 76: 'L', 77: 'M', 78: 'N', 79: 'O', 80: 'P', 81: 'Q', 82: 'R', 83: 'S', 84: 'T', 85: 'U', 86: 'V', 87: 'W', 88: 'X', 89: 'Y', 90: 'Z'}\n"
     ]
    }
   ],
   "source": [
    "d = {i: chr(i) for i in range(97, 123)}\n",
    "print(d)\n",
    "for i in range(65,91):\n",
    "    d[i] = chr(i)\n",
    "print(d)"
   ]
  },
  {
   "cell_type": "markdown",
   "id": "a7c957f4",
   "metadata": {
    "pycharm": {
     "name": "#%% md\n"
    }
   },
   "source": [
    "**Упражнение 5.** Создайте словарь, в котором каждой букве (как ключу) будет соответствовать ее порядковый номер в алфавите (значение). Рекомендация: использовать функции `keys`, `values` или `items` для словаря из предыдущего упражнения, чтобы создать новый."
   ]
  },
  {
   "cell_type": "code",
   "execution_count": 58,
   "id": "70071da3",
   "metadata": {
    "pycharm": {
     "name": "#%%\n"
    }
   },
   "outputs": [
    {
     "name": "stdout",
     "output_type": "stream",
     "text": [
      "{'a': 1, 'b': 2, 'c': 3, 'd': 4, 'e': 5, 'f': 6, 'g': 7, 'h': 8, 'i': 9, 'j': 10, 'k': 11, 'l': 12, 'm': 13, 'n': 14, 'o': 15, 'p': 16, 'q': 17, 'r': 18, 's': 19, 't': 20, 'u': 21, 'v': 22, 'w': 23, 'x': 24, 'y': 25, 'z': 26}\n"
     ]
    }
   ],
   "source": [
    "a = {chr(i): i - 96 for i  in range(97, 123)}\n",
    "print(a)"
   ]
  },
  {
   "cell_type": "markdown",
   "id": "d4d2ca80",
   "metadata": {
    "pycharm": {
     "name": "#%% md\n"
    }
   },
   "source": [
    "**Упражнение 6.** Считайте слово с клавиатуры и найдите для него сумму номеров букв. Если некоторые буквы в слове повторяются (используйте такое слово), нужно считать только по уникальным буквам. Например, для строк 'abc' и 'abcbc' сумма будет 1+2+3=6, для xyz или zyxyz 24+25+26=75"
   ]
  },
  {
   "cell_type": "code",
   "execution_count": 62,
   "id": "ab97878c",
   "metadata": {
    "pycharm": {
     "name": "#%%\n"
    }
   },
   "outputs": [
    {
     "name": "stdout",
     "output_type": "stream",
     "text": [
      "6\n"
     ]
    }
   ],
   "source": [
    "s = input()\n",
    "a = {chr(i): i - 96 for i  in range(97, 123)}\n",
    "s_set = set()\n",
    "sum = 0\n",
    "for i in range(len(s)):\n",
    "    s_set.add(s[i])\n",
    "for i in range(len(s_set)):\n",
    "    sum += a[s[i]]\n",
    "print(sum)"
   ]
  },
  {
   "cell_type": "markdown",
   "id": "8cb4046e",
   "metadata": {
    "pycharm": {
     "name": "#%% md\n"
    }
   },
   "source": [
    "**Упражнение 7.** Считайте с клавиатуры количество пар синонимов, затем сами пары синонимов, затем одно из слов среди этих пар. Выведите его синоним. Допишите код, заменив все TODO. Пример ввода:\n",
    "\n",
    "    3\n",
    "    Hello Hi\n",
    "    Bye Goodbye\n",
    "    List Array\n",
    "    Goodbye"
   ]
  },
  {
   "cell_type": "code",
   "execution_count": 63,
   "id": "7aea4c21",
   "metadata": {
    "pycharm": {
     "name": "#%%\n"
    }
   },
   "outputs": [
    {
     "name": "stdout",
     "output_type": "stream",
     "text": [
      "Last\n",
      "Last\n",
      "Last\n"
     ]
    }
   ],
   "source": [
    "n = int(input())\n",
    "d = dict()\n",
    "d_r = {}\n",
    "for i in range(n):\n",
    "    s = input().split()\n",
    "    d[s[0]] = s[1]\n",
    "    d_r[s[1]] = s[0]\n",
    "s = input()\n",
    "if s in d:\n",
    "    print(d[s])\n",
    "else:\n",
    "    print(d_r[s])"
   ]
  },
  {
   "cell_type": "markdown",
   "id": "d4f833ac",
   "metadata": {
    "pycharm": {
     "name": "#%% md\n"
    }
   },
   "source": [
    "# Частотный анализ."
   ]
  },
  {
   "cell_type": "markdown",
   "id": "20546c74",
   "metadata": {
    "pycharm": {
     "name": "#%% md\n"
    }
   },
   "source": [
    "Вместо использования метода `count` для подсчета числа вхождений символа в большой текст лучше использовать `dict`. Для многократного поиска это будет работать быстрее, так как мы заполним словарь за один проход по данному тексту."
   ]
  },
  {
   "cell_type": "code",
   "execution_count": null,
   "id": "97cbd7e4",
   "metadata": {
    "pycharm": {
     "name": "#%%\n"
    }
   },
   "outputs": [],
   "source": [
    "s = \"abracadabra\"\n",
    "d = dict()\n",
    "for i in s:\n",
    "    if i in d:\n",
    "        d[i] += 1\n",
    "    else:\n",
    "        d[i] = 1\n",
    "print(d)"
   ]
  },
  {
   "cell_type": "code",
   "execution_count": null,
   "id": "1e25a4b0",
   "metadata": {
    "pycharm": {
     "name": "#%%\n"
    }
   },
   "outputs": [],
   "source": [
    "print(s.count('a'))\n",
    "print(d['a'])"
   ]
  },
  {
   "cell_type": "code",
   "execution_count": null,
   "id": "794b68f1",
   "metadata": {
    "pycharm": {
     "name": "#%%\n"
    }
   },
   "outputs": [],
   "source": [
    "s = \"abracadabra\" * 1000000\n",
    "print(s[:100])"
   ]
  },
  {
   "cell_type": "code",
   "execution_count": null,
   "id": "aaa4527a",
   "metadata": {
    "pycharm": {
     "name": "#%%\n"
    }
   },
   "outputs": [],
   "source": [
    "import time\n",
    "d = dict()\n",
    "for i in s:\n",
    "    if i in d:\n",
    "        d[i] += 1\n",
    "    else:\n",
    "        d[i] = 1\n",
    "t1 = time.time()\n",
    "print(d['a'])\n",
    "t2 = time.time()\n",
    "print(t2 - t1)"
   ]
  },
  {
   "cell_type": "code",
   "execution_count": null,
   "id": "0225f5e3",
   "metadata": {
    "pycharm": {
     "name": "#%%\n"
    }
   },
   "outputs": [],
   "source": [
    "t3 = time.time()\n",
    "print(s.count('a'))\n",
    "t4 = time.time()\n",
    "print(t4 - t3)"
   ]
  },
  {
   "cell_type": "markdown",
   "id": "fb903399",
   "metadata": {
    "pycharm": {
     "name": "#%% md\n"
    }
   },
   "source": [
    "**Упражнение 8**. Считайте с клавиатуры строку, удалите из нее все цифры и пробелы. Создайте словарь, в котором ключами будут уникальные символы, а значениями их частота вхождения. Частотой вхождения называется отношение числа вхождений данного символа в исходную строку к числу символов в исходной строке."
   ]
  },
  {
   "cell_type": "code",
   "execution_count": null,
   "id": "a82c1e51",
   "metadata": {
    "pycharm": {
     "name": "#%%\n"
    }
   },
   "outputs": [],
   "source": []
  },
  {
   "cell_type": "markdown",
   "id": "b082dac3",
   "metadata": {
    "pycharm": {
     "name": "#%% md\n"
    }
   },
   "source": [
    "# Collections."
   ]
  },
  {
   "cell_type": "markdown",
   "id": "ce4947f8",
   "metadata": {
    "pycharm": {
     "name": "#%% md\n"
    }
   },
   "source": [
    "Существуют также другие стандартные коллекции, которые позволяют решать некоторые задачи еще проще."
   ]
  },
  {
   "cell_type": "code",
   "execution_count": null,
   "id": "57a20035",
   "metadata": {
    "pycharm": {
     "name": "#%%\n"
    }
   },
   "outputs": [],
   "source": [
    "import collections\n",
    "cnt = collections.Counter()\n",
    "for word in ['red', 'blue', 'red', 'green', 'blue', 'blue']:\n",
    "    cnt[word] += 1\n",
    "cnt"
   ]
  },
  {
   "cell_type": "code",
   "execution_count": null,
   "id": "81553050",
   "metadata": {
    "pycharm": {
     "name": "#%%\n"
    }
   },
   "outputs": [],
   "source": [
    "cnt['red']"
   ]
  },
  {
   "cell_type": "markdown",
   "id": "0834fd23",
   "metadata": {
    "pycharm": {
     "name": "#%% md\n"
    }
   },
   "source": [
    "Можно сократить запись, переимпортировав из библиотеки конкретный модуль:"
   ]
  },
  {
   "cell_type": "code",
   "execution_count": null,
   "id": "4dd6f478",
   "metadata": {
    "pycharm": {
     "name": "#%%\n"
    }
   },
   "outputs": [],
   "source": [
    "from collections import Counter\n",
    "c = Counter(a=4, b=2, c=0, d=-2)\n",
    "print(sorted(c.elements()))"
   ]
  },
  {
   "cell_type": "code",
   "execution_count": null,
   "id": "d4c0fb62",
   "metadata": {
    "pycharm": {
     "name": "#%%\n"
    }
   },
   "outputs": [],
   "source": [
    "print(collections.Counter('abracadabra').most_common(3))"
   ]
  },
  {
   "cell_type": "code",
   "execution_count": null,
   "id": "77eec292",
   "metadata": {
    "pycharm": {
     "name": "#%%\n"
    }
   },
   "outputs": [],
   "source": [
    "c = Counter(a=4, b=2, c=0, d=-2)\n",
    "d = Counter(a=1, b=2, c=3, d=4)\n",
    "c.subtract(d)\n",
    "print(c)"
   ]
  },
  {
   "cell_type": "code",
   "execution_count": null,
   "id": "cb239bab",
   "metadata": {
    "pycharm": {
     "name": "#%%\n"
    }
   },
   "outputs": [],
   "source": [
    "c = Counter(a=10, b=5, c=0)\n",
    "c.total() # new for Python 3.10+"
   ]
  },
  {
   "cell_type": "markdown",
   "id": "bfddca35",
   "metadata": {
    "pycharm": {
     "name": "#%% md\n"
    }
   },
   "source": [
    "С другими коллекциями вы можете познакомиться самостоятельно, их использование выходит за рамки упражнений и контеста."
   ]
  },
  {
   "cell_type": "code",
   "execution_count": null,
   "id": "38c7c7d0",
   "metadata": {
    "pycharm": {
     "name": "#%%\n"
    }
   },
   "outputs": [],
   "source": []
  }
 ],
 "metadata": {
  "kernelspec": {
   "display_name": "Python 3 (ipykernel)",
   "language": "python",
   "name": "python3"
  },
  "language_info": {
   "codemirror_mode": {
    "name": "ipython",
    "version": 3
   },
   "file_extension": ".py",
   "mimetype": "text/x-python",
   "name": "python",
   "nbconvert_exporter": "python",
   "pygments_lexer": "ipython3",
   "version": "3.7.11"
  }
 },
 "nbformat": 4,
 "nbformat_minor": 5
}