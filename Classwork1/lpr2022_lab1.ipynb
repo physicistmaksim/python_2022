{
 "cells": [
  {
   "cell_type": "markdown",
   "metadata": {
    "pycharm": {
     "name": "#%% md\n"
    }
   },
   "source": [
    "# Введение."
   ]
  },
  {
   "cell_type": "markdown",
   "metadata": {
    "pycharm": {
     "name": "#%% md\n"
    }
   },
   "source": [
    "Данный курс будет посвящен изучению программирования с использованием языка **Python**. Python — это современный язык\n",
    "программирования, работающий на всех распространённых операционных системах.\n",
    "\n",
    "В настоящее время существуют две версии языка Python: версия 2 и более современная версия 3. Они не вполне совместимы друг с другом: программа, написанная для одной версии языка может\n",
    "оказаться невыполнимой для другой версии. Но в основном обе версии очень похожи.\n",
    "\n",
    "О различиях Python2 и Python3 вы можете прочитать [тут][1].\n",
    "\n",
    "[1]: https://pythonworld.ru/osnovy/python2-vs-python3-razlichiya-sintaksisa.html"
   ]
  },
  {
   "cell_type": "markdown",
   "metadata": {
    "pycharm": {
     "name": "#%% md\n"
    }
   },
   "source": [
    "Мы будем использовать версию 3 данного языка, некоторые из используемых примеров не будут работать с версией 2.\n",
    "Последняя версия языка, доступная в сентябре 2022 года — 3.10.6, именно её необходимо установить дома, скачав данную\n",
    "версию с сайта www.python.org"
   ]
  },
  {
   "cell_type": "markdown",
   "metadata": {
    "pycharm": {
     "name": "#%% md\n"
    }
   },
   "source": [
    "Запустить интерпретатор python можно из командной строки:\n",
    "``` bash\n",
    "python3\n",
    "```"
   ]
  },
  {
   "cell_type": "markdown",
   "metadata": {
    "pycharm": {
     "name": "#%% md\n"
    }
   },
   "source": [
    "Будьте внимательны — команда `python` запустит интерпретатор версии 2, с которым мы работать не будем. В системе\n",
    "Windows можно использовать пункт меню «Python (command line)»."
   ]
  },
  {
   "cell_type": "markdown",
   "metadata": {
    "pycharm": {
     "name": "#%% md\n"
    }
   },
   "source": [
    "# IPython – расширенная оболочка"
   ]
  },
  {
   "cell_type": "markdown",
   "metadata": {
    "pycharm": {
     "name": "#%% md\n"
    }
   },
   "source": [
    "IPython – интерактивная оболочка для языка программирования Python, которая предоставляет расширенную интроспекцию,\n",
    "дополнительный командный синтаксис, подсветку кода и автоматическое дополнение. В настоящее время IPython вошел в\n",
    "состав ядра системы для анализа данных и обработки научной информации [Jupyter].\n",
    "\n",
    "[Jupyter]: http://jupyter.org"
   ]
  },
  {
   "cell_type": "markdown",
   "metadata": {
    "pycharm": {
     "name": "#%% md\n"
    }
   },
   "source": [
    "IPython может использоваться как замена стандартной командной оболочки операционной системы, особенно на платформе\n",
    "Windows, возможности оболочки которой ограничены. Поведение по умолчанию похоже на поведение оболочек UNIX-подобных\n",
    "систем, но тот факт, что работа происходит в окружении Python, позволяет добиваться большей настраиваемости и\n",
    "гибкости.\n",
    "\n",
    "Для обучения возможностям Python лучше сразу использовать оболочку IPython.\n",
    "Для этого необходимо установить [Jupyter].\n",
    "\n",
    "[Jupyter]: http://jupyter.org"
   ]
  },
  {
   "cell_type": "markdown",
   "metadata": {
    "pycharm": {
     "name": "#%% md\n"
    }
   },
   "source": [
    "Итак, запустив оболочку IPython, Вы увидите примерно следующее приглашение командной строки:\n",
    "\n",
    "``` pycon\n",
    "\n",
    "   Python 3.1.2 (r312:79147, Jun 12 2010, 15:29:06)\n",
    "   [GCC 4.4.3 20100316 (ALT Linux 4.4.3-alt2)] on linux2\n",
    "   Type \"help\", \"copyright\", \"credits\" or \"license\" for more information.\n",
    "   >>>\n",
    "```"
   ]
  },
  {
   "cell_type": "markdown",
   "metadata": {
    "pycharm": {
     "name": "#%% md\n"
    }
   },
   "source": [
    "Смело вводите команды и наслаждайтесь результатом. А что можно вводить? Несколько примеров:\n",
    "\n",
    "``` pycon\n",
    "\n",
    "   >>> 2 + 2\n",
    "   4\n",
    "   >>> 2 ** 100\n",
    "   1267650600228229401496703205376\n",
    "   >>> 'Hello' + 'World'\n",
    "   'HelloWorld'\n",
    "   >>> 'ABC' * 10\n",
    "   'ABCABCABCABCABCABCABCABCABCABC'\n",
    "```"
   ]
  },
  {
   "cell_type": "markdown",
   "metadata": {
    "pycharm": {
     "name": "#%% md\n"
    }
   },
   "source": [
    "Первая команда вычисляет сумму двух чисел, вторая команда вычисляет 2 в степени 100, третья команда выполняет операцию\n",
    "**конкатенации** для строк, а четвертая команда печатает строку `'ABC'`, повторенную 10 раз.\n",
    "\n",
    "Хотите закончить работу с питоном? Введите команду `exit()` (именно так, со скобочками, так как это — **функция**)\n",
    "или нажмите ``Ctrl+D``."
   ]
  },
  {
   "cell_type": "markdown",
   "metadata": {
    "pycharm": {
     "name": "#%% md\n"
    }
   },
   "source": [
    "# Типы данных"
   ]
  },
  {
   "cell_type": "markdown",
   "metadata": {
    "pycharm": {
     "name": "#%% md\n"
    }
   },
   "source": [
    "Итак, мы видим, что Python умеет работать как минимум с двумя видами данных — числами и строками. Числа записываются\n",
    "последовательностью цифр, также перед числом может стоять знак минус, а строки записываются в кавычках. `2`\n",
    "и `'2'` — это разные объекты, первый объект — число, а второй — строка. Операция ``+`` для целых чисел и для строк\n",
    "работает по-разному: для чисел это сложение, а для строк — конкатенация.\n",
    "\n",
    "Кроме целых чисел есть и другой класс чисел: действительные (вещественные числа), представляемые в виде десятичных\n",
    "дробей. Они записываются с использованием десятичной точки, например, `2.0`. В каком-то смысле, `2` и `2.0`\n",
    "имеют равные значение, но это — разные объекты. Например, можно вычислить значения выражения `'ABC' * 10` (повторить\n",
    "строку 10 раз), но нельзя вычислить `'ABC' * 10.0`."
   ]
  },
  {
   "cell_type": "markdown",
   "metadata": {
    "pycharm": {
     "name": "#%% md\n"
    }
   },
   "source": [
    "Определить тип объекта можно при помощи функции `type`:\n",
    "\n",
    "``` pycon\n",
    "\n",
    "   >>> type(2)\n",
    "   <class 'int'>\n",
    "   >>> type('2')\n",
    "   <class 'str'>\n",
    "   >>> type(2.0)\n",
    "   <class 'float'>\n",
    "```"
   ]
  },
  {
   "cell_type": "markdown",
   "metadata": {
    "pycharm": {
     "name": "#%% md\n"
    }
   },
   "source": [
    "Обратите внимание — `type` является функцией, аргументы функции указываются в скобках после ее имени."
   ]
  },
  {
   "cell_type": "markdown",
   "metadata": {
    "pycharm": {
     "name": "#%% md\n"
    }
   },
   "source": [
    "Вот список основных операций для чисел:\n",
    "\n",
    "- `A+B` — сумма;\n",
    "- `A-B` — разность;\n",
    "- `A*B` — произведение;\n",
    "- `A/B` — частное;\n",
    "- `A**B` — возведение в степень.\n",
    "\n",
    "Полезно помнить, что квадратный корень из числа ``x`` — это `x**0.5`, а корень степени ``n`` — это `x**(1/n)`.\n",
    "\n",
    "Есть также унарный вариант операции ``-``, то есть операция с одним аргументом. Она возвращает число, противоположное\n",
    "данному. Например: `-A`."
   ]
  },
  {
   "cell_type": "markdown",
   "metadata": {
    "id": "2R_gJtAVT_xw",
    "pycharm": {
     "name": "#%% md\n"
    }
   },
   "source": [
    "В выражении может встречаться много операций подряд. Как в этом случае определяется порядок действий? Например, чему\n",
    "будет равно `1+2*3**1+1`? В данном случае ответ будет 8, так как сначала выполняется возведение в степень, затем —\n",
    "умножение, затем —  сложение.\n",
    "\n",
    "Более общие правила определения приоритетов операций такие:\n",
    "\n",
    "1. Выполняются возведения в степень  **справа налево**, то есть `3**3**3` это 3²⁷.\n",
    "2. Выполняются унарные минусы (отрицания).\n",
    "3. Выполняются умножения и деления слева направо. Операции умножения и деления имеют одинаковый приоритет.\n",
    "4. Выполняются сложения и вычитания слева направо. Операции сложения и вычитания имеют одинаковый приоритет.\n"
   ]
  },
  {
   "cell_type": "markdown",
   "metadata": {
    "id": "2R_gJtAVT_xw",
    "pycharm": {
     "name": "#%% md\n"
    }
   },
   "source": [
    "Основные операции над строками:\n",
    "\n",
    "- `A+B` — конкатенация;\n",
    "- `A*n` — повторение ``n`` раз, значение ``n`` должно быть целого типа."
   ]
  },
  {
   "cell_type": "markdown",
   "metadata": {
    "id": "2R_gJtAVT_xw",
    "pycharm": {
     "name": "#%% md\n"
    }
   },
   "source": [
    "### Упражнение 1. Возведение в степень.\n",
    "\n",
    "Вычислите $2^{179}$."
   ]
  },
  {
   "cell_type": "code",
   "execution_count": 1,
   "metadata": {
    "pycharm": {
     "name": "#%%\n"
    }
   },
   "outputs": [
    {
     "data": {
      "text/plain": [
       "766247770432944429179173513575154591809369561091801088"
      ]
     },
     "execution_count": 1,
     "metadata": {},
     "output_type": "execute_result"
    }
   ],
   "source": [
    "2**179"
   ]
  },
  {
   "cell_type": "markdown",
   "metadata": {
    "id": "2R_gJtAVT_xw",
    "pycharm": {
     "name": "#%% md\n"
    }
   },
   "source": [
    "### Упражнение 2. Гипотенуза.\n",
    "\n",
    "Вычислите длину гипотенузы в прямоугольном треугольнике со сторонами 179 и 971."
   ]
  },
  {
   "cell_type": "code",
   "execution_count": 3,
   "metadata": {
    "pycharm": {
     "name": "#%%\n"
    }
   },
   "outputs": [
    {
     "data": {
      "text/plain": [
       "987.361129475938"
      ]
     },
     "execution_count": 3,
     "metadata": {},
     "output_type": "execute_result"
    }
   ],
   "source": [
    "(179**2+971**2)**(1/2)"
   ]
  },
  {
   "cell_type": "markdown",
   "metadata": {
    "id": "2R_gJtAVT_xw",
    "pycharm": {
     "name": "#%% md\n"
    }
   },
   "source": [
    "### Преобразование типов."
   ]
  },
  {
   "cell_type": "markdown",
   "metadata": {
    "id": "2R_gJtAVT_xw",
    "pycharm": {
     "name": "#%% md\n"
    }
   },
   "source": [
    "Иногда бывает полезно целое число записать, как строку. И, наоборот, если строка состоит из цифр, то полезно эту строку\n",
    "представить в виде числа, чтобы дальше можно было выполнять арифметические операции с ним. Для этого используются\n",
    "функции, одноименные с типом, то есть `int`, `float`,  `str`. Например, `int('123')` вернет целое число `123`, а\n",
    "`str(123)` вернет строку `'123'`.\n",
    "\n",
    "Пример:\n",
    "\n",
    "``` pycon\n",
    "\n",
    "   >>> str(2 + 2) * int('2' + '2')\n",
    "   '4444444444444444444444'\n",
    "```\n",
    "Результатом будет строка из числа ``4``, повторенная ``22`` раза."
   ]
  },
  {
   "cell_type": "markdown",
   "metadata": {
    "id": "2R_gJtAVT_xw",
    "pycharm": {
     "name": "#%% md\n"
    }
   },
   "source": [
    "# Простейшие программы"
   ]
  },
  {
   "cell_type": "markdown",
   "metadata": {
    "id": "2R_gJtAVT_xw",
    "pycharm": {
     "name": "#%% md\n"
    }
   },
   "source": [
    "В предыдущем задании мы использовали Python для простых разовых вычислений, используя интерактивный режим. Например,\n",
    "было задание вычислить длину гипотенузы прямоугольного треугольника по её катетам. Решение этой задачи можно записать\n",
    "следующим образом:"
   ]
  },
  {
   "cell_type": "code",
   "execution_count": 2,
   "metadata": {
    "pycharm": {
     "name": "#%%\n"
    }
   },
   "outputs": [
    {
     "name": "stdout",
     "output_type": "stream",
     "text": [
      "266.1766330841233\n"
     ]
    }
   ],
   "source": [
    "a = 179\n",
    "b = 197\n",
    "c = (a ** 2 + b ** 2) ** 0.5\n",
    "print(c)"
   ]
  },
  {
   "cell_type": "markdown",
   "metadata": {
    "id": "2R_gJtAVT_xw",
    "pycharm": {
     "name": "#%% md\n"
    }
   },
   "source": [
    "Здесь мы используем  **переменные** — объекты, в которых можно сохранять различные (числовые, строковые и прочие)\n",
    "значения. В первой строке переменной `a` присваивается значение `179`, затем переменной `b` присваивается значение\n",
    "`971`, затем переменной `c` присваивается значение арифметического выражения, равного длине гипотенузы. После этого\n",
    "значение переменной `c` выводится на экран.\n",
    "\n",
    "Сохраните этот текст в файле с именем `hypot.py`. Запустите терминал, перейдите в каталог, где лежит этот файл и\n",
    "выполните эту программу:\n",
    "\n",
    "``` bash\n",
    "\n",
    "   python3 hypot.py\n",
    "```"
   ]
  },
  {
   "cell_type": "markdown",
   "metadata": {
    "id": "2R_gJtAVT_xw",
    "pycharm": {
     "name": "#%% md\n"
    }
   },
   "source": [
    "Интерпретатор языка Python, запущенный с указанием имени файла, запускается не в интерактивном режиме, а выполняет ту\n",
    "последовательность команд, которая сохранена в файле. При этом значения вычисленных выражений не выводятся на экран (в\n",
    "отличии от интерактивного режима), поэтому для того, чтобы вывести результат работы программы, то есть значение\n",
    "переменной `c`, нам понадобится специальная функция `print`."
   ]
  },
  {
   "cell_type": "markdown",
   "metadata": {
    "id": "2R_gJtAVT_xw",
    "pycharm": {
     "name": "#%% md\n"
    }
   },
   "source": [
    "### Ввод данных: функция `input`"
   ]
  },
  {
   "cell_type": "markdown",
   "metadata": {
    "id": "2R_gJtAVT_xw",
    "pycharm": {
     "name": "#%% md\n"
    }
   },
   "source": [
    "Пример выше неудобен тем, что исходные данные для программы заданы в тексте программы, и для того, чтобы использовать\n",
    "программу для другого треугольника необходимо исправлять текст программы. Это неудобно, лучше, чтобы текст программы не\n",
    "менялся, а программа запрашивала бы у пользователя данные, необходимые для решения задачи, то есть запрашивала бы\n",
    "значения двух исходных переменных `a` и `b`. Для этого будем использовать функцию `input()`, которая считывает строку с\n",
    "клавиатуры и возвращает значение считанной строки, которое сразу же присвоим переменным `a` и `b`:"
   ]
  },
  {
   "cell_type": "code",
   "execution_count": null,
   "metadata": {
    "id": "2R_gJtAVT_xw",
    "pycharm": {
     "name": "#%%\n"
    }
   },
   "outputs": [],
   "source": [
    "a = input()\n",
    "b = input()"
   ]
  },
  {
   "cell_type": "markdown",
   "metadata": {
    "id": "2R_gJtAVT_xw",
    "pycharm": {
     "name": "#%% md\n"
    }
   },
   "source": [
    "Правда, функция `input` возвращает текстовую строку, а нам нужно сделать так, чтобы переменные имели целочисленные\n",
    "значения. Поэтому сразу же после считывания выполним преобразование типов при помощи функции `int` и запишем новые\n",
    "значения в переменные `a` и `b`."
   ]
  },
  {
   "cell_type": "code",
   "execution_count": null,
   "metadata": {
    "pycharm": {
     "name": "#%%\n"
    }
   },
   "outputs": [],
   "source": [
    "a = int(a)\n",
    "b = int(b)"
   ]
  },
  {
   "cell_type": "markdown",
   "metadata": {
    "id": "2R_gJtAVT_xw",
    "pycharm": {
     "name": "#%% md\n"
    }
   },
   "source": [
    "Можно объединить считывание строк и преобразование типов, если вызывать функцию `int` для того значения, которое вернёт\n",
    "функция `input`:"
   ]
  },
  {
   "cell_type": "code",
   "execution_count": null,
   "metadata": {
    "pycharm": {
     "name": "#%%\n"
    }
   },
   "outputs": [],
   "source": [
    "a = int(input())\n",
    "b = int(input())"
   ]
  },
  {
   "cell_type": "markdown",
   "metadata": {
    "id": "2R_gJtAVT_xw",
    "pycharm": {
     "name": "#%% md\n"
    }
   },
   "source": [
    "Далее в программе вычислим значение переменной `c` и выведем результат на экран.\n",
    "\n",
    "Теперь мы можем, не меняя исходного кода программы, многократно использовать её для решения различных задач. Для того\n",
    "нужно запустить программу и после запуска программы ввести с клавиатуры два числа, нажимая после каждого числа клавишу\n",
    "`Enter`. Затем программа сама выведет результат."
   ]
  },
  {
   "cell_type": "markdown",
   "metadata": {
    "id": "2R_gJtAVT_xw",
    "pycharm": {
     "name": "#%% md\n"
    }
   },
   "source": [
    "### Вывод данных: функция `print()`"
   ]
  },
  {
   "cell_type": "markdown",
   "metadata": {
    "id": "2R_gJtAVT_xw",
    "pycharm": {
     "name": "#%% md\n"
    }
   },
   "source": [
    "Функция `print` может выводить не только значения переменных, но и значения любых выражений. Например, допустима запись\n",
    "`print(2 + 2 ** 2)`. Также при помощи функции `print` можно выводить значение не одного, а нескольких выражений, для\n",
    "этого нужно перечислить их через запятую:"
   ]
  },
  {
   "cell_type": "code",
   "execution_count": null,
   "metadata": {
    "pycharm": {
     "name": "#%%\n"
    }
   },
   "outputs": [],
   "source": [
    "a = 1\n",
    "b = 2\n",
    "print(a, '+', b, '=', a + b)"
   ]
  },
  {
   "cell_type": "markdown",
   "metadata": {
    "pycharm": {
     "name": "#%% md\n"
    }
   },
   "source": [
    "В данном случае будет напечатан текст `1 + 2 = 3`: сначала выводится значение переменной `a`, затем строка из знака `+`,\n",
    "затем  значение переменной `b`, затем строка из знака `=`, наконец, значение суммы `a + b`."
   ]
  },
  {
   "cell_type": "markdown",
   "metadata": {
    "pycharm": {
     "name": "#%% md\n"
    }
   },
   "source": [
    "Обратите внимание, выводимые значения разделяются одним пробелом. Но такое поведение можно изменить: можно разделять\n",
    "выводимые значения двумя пробелами, любым другим символом, любой другой строкой, выводить их в отдельных строках или не\n",
    "разделять никак. Для этого нужно функции `print` передать специальный именованный параметр, называемый `sep`, равный\n",
    "строке, используемый в качестве разделителя (sep —  сокращение слова separator, т.е. разделитель). По умолчанию\n",
    "параметр `sep` равен строке из одного пробела и между значениями выводится пробел. Чтобы использовать в качестве\n",
    "разделителя, например, символ двоеточия нужно передать параметр `sep`, равный строке `':'`:"
   ]
  },
  {
   "cell_type": "code",
   "execution_count": null,
   "metadata": {
    "pycharm": {
     "name": "#%%\n"
    }
   },
   "outputs": [],
   "source": [
    "print(a, b, c, sep = ':')"
   ]
  },
  {
   "cell_type": "markdown",
   "metadata": {
    "pycharm": {
     "name": "#%% md\n"
    }
   },
   "source": [
    "Аналогично, для того, чтобы совсем убрать разделитель при выводе нужно передать параметр `sep`, равный пустой строке:"
   ]
  },
  {
   "cell_type": "code",
   "execution_count": null,
   "metadata": {
    "pycharm": {
     "name": "#%%\n"
    }
   },
   "outputs": [],
   "source": [
    "print(a, '+', b, '=', a + b, sep = '')"
   ]
  },
  {
   "cell_type": "markdown",
   "metadata": {
    "pycharm": {
     "name": "#%% md\n"
    }
   },
   "source": [
    "Для того, чтобы значения выводились с новой строки, нужно в качестве параметра `sep` передать строку, состоящую из\n",
    "специального символа новой строки, которая задаётся так:"
   ]
  },
  {
   "cell_type": "code",
   "execution_count": null,
   "metadata": {
    "pycharm": {
     "name": "#%%\n"
    }
   },
   "outputs": [],
   "source": [
    "print(a, b, sep = '\\n')"
   ]
  },
  {
   "cell_type": "markdown",
   "metadata": {
    "pycharm": {
     "name": "#%% md\n"
    }
   },
   "source": [
    "Символ обратного слэша в текстовых строках является указанием на обозначение специального символа, в зависимости\n",
    "от того, какой символ записан после него. Наиболее часто употребляется символ новой строки `'\\n'`.\n",
    "А для того, чтобы вставить в строку сам символ обратного слэша, нужно повторить его два раза: `'\\\\'`."
   ]
  },
  {
   "cell_type": "markdown",
   "metadata": {
    "pycharm": {
     "name": "#%% md\n"
    }
   },
   "source": [
    "Вторым полезным именованным параметром функции `print` является параметр `end`,\n",
    "который указывает на то, что выводится после вывода всех значений, перечисленных в функции `print`.\n",
    "По умолчанию параметр `end` равен `'\\n'`, то есть следующий вывод будет происходить\n",
    "с новой строки. Этот параметр также можно исправить, например, для того, чтобы убрать все дополнительные\n",
    "выводимые символы можно вызывать функцию `print` так:"
   ]
  },
  {
   "cell_type": "code",
   "execution_count": null,
   "metadata": {
    "pycharm": {
     "name": "#%%\n"
    }
   },
   "outputs": [],
   "source": [
    "print(a, b, c, sep = '', end = '')"
   ]
  },
  {
   "cell_type": "markdown",
   "metadata": {
    "pycharm": {
     "name": "#%% md\n"
    }
   },
   "source": [
    "### Упражнение 3. Гипотенуза с пользовательским вводом."
   ]
  },
  {
   "cell_type": "markdown",
   "metadata": {
    "pycharm": {
     "name": "#%% md\n"
    }
   },
   "source": [
    "Считайте с клавиатуры числа `a` и `b`. Выведите гипотенузу треугольника с заданными катетами."
   ]
  },
  {
   "cell_type": "code",
   "execution_count": null,
   "metadata": {
    "pycharm": {
     "name": "#%%\n"
    }
   },
   "outputs": [],
   "source": []
  },
  {
   "cell_type": "markdown",
   "metadata": {
    "id": "4CwZGLq7Lkdv",
    "pycharm": {
     "name": "#%% md\n"
    }
   },
   "source": [
    "# Условная инструкция"
   ]
  },
  {
   "cell_type": "markdown",
   "metadata": {
    "id": "zsuBa_2MLmu7",
    "pycharm": {
     "name": "#%% md\n"
    }
   },
   "source": [
    "Все ранее рассматриваемые программы имели линейную структуру: все инструкции выполнялись последовательно одна за одной, каждая записанная инструкция обязательно выполняется.\n",
    "\n",
    "Допустим мы хотим по данному числу `x` **определить** его абсолютную величину (**модуль**). Программа должна напечатать значение переменной $x$, если $x > 0$ или же величину $-x$ в противном случае. Линейная структура программы нарушается: в зависимости от справедливости условия $x > 0$ должна быть выведена одна или другая величина. Соответствующий фрагмент программы на Питоне имеет вид:"
   ]
  },
  {
   "cell_type": "code",
   "execution_count": null,
   "metadata": {
    "colab": {
     "base_uri": "https://localhost:8080/"
    },
    "id": "lrtnQyrrLnt3",
    "outputId": "c3c4642d-c219-4e11-ca21-b50fe968bfb0",
    "pycharm": {
     "name": "#%%\n"
    }
   },
   "outputs": [],
   "source": [
    "x = int(input())\n",
    "if x > 0:\n",
    "    print(x)\n",
    "else:\n",
    "    print(-x)"
   ]
  },
  {
   "cell_type": "markdown",
   "metadata": {
    "id": "1RiFa6YILzvM",
    "pycharm": {
     "name": "#%% md\n"
    }
   },
   "source": [
    "На самом деле, в общем случае условная инструкция является каскадной: `if, elif, elif, ... elif, else`, где `elif` происходит от выражения `else if` (иначе если), она может выполнятся только если ни одно из предыдущих условий не является верным. Например, определение положения точки по координатам:"
   ]
  },
  {
   "cell_type": "code",
   "execution_count": null,
   "metadata": {
    "colab": {
     "base_uri": "https://localhost:8080/"
    },
    "id": "qqZqToIpNkmq",
    "outputId": "f08b659b-165b-4224-f0f5-15519dd02fc6",
    "pycharm": {
     "name": "#%%\n"
    }
   },
   "outputs": [],
   "source": [
    "x = int(input())\n",
    "y = int(input())\n",
    "if x > 0 and y > 0:\n",
    "    print(\"Первая четверть\")\n",
    "elif x > 0 and y < 0:\n",
    "    print(\"Четвертая четверть\")\n",
    "elif y > 0:\n",
    "    print(\"Вторая четверть\")\n",
    "else:\n",
    "    print(\"Третья четверть\")"
   ]
  },
  {
   "cell_type": "markdown",
   "metadata": {
    "id": "2LUFNq1oSZY3",
    "pycharm": {
     "name": "#%% md\n"
    }
   },
   "source": [
    "# Функции и методы"
   ]
  },
  {
   "cell_type": "markdown",
   "metadata": {
    "id": "qsHKRGGPSm0_",
    "pycharm": {
     "name": "#%% md\n"
    }
   },
   "source": [
    "Функции нужны для повышения читаемости кода. Если у нас есть некоторые данные `X`, на основании которых в результате последовательности действий должны получиться данные `Y` и результат однозначно определяется начальными данными `X`, то последовательность действий является функцией с точки зрения математики.\n",
    "\n",
    "Если мы хотим выполнять эту последовательность действий более одного раза (например, с разными данными), то обернуть эту последовательность действий в объект \"функция\" логично уже с точки зрения программирования, т.к. это сокращает код и делает его более читаемым."
   ]
  },
  {
   "cell_type": "markdown",
   "metadata": {
    "id": "q-10dGlhUdP8",
    "pycharm": {
     "name": "#%% md\n"
    }
   },
   "source": [
    "Например, мы хотим уметь считать значение квадратичной функции в разных точках. Рассмотрим код без использования функции и с ее использованием."
   ]
  },
  {
   "cell_type": "code",
   "execution_count": null,
   "metadata": {
    "colab": {
     "base_uri": "https://localhost:8080/"
    },
    "id": "Q2LdswOgUlNQ",
    "outputId": "85ee1825-2942-4d29-fd24-e65982578a49",
    "pycharm": {
     "name": "#%%\n"
    }
   },
   "outputs": [],
   "source": [
    "a = 1\n",
    "b = 2\n",
    "c = 3\n",
    "d = 4\n",
    "print(2 * a ** 2 + 3 * a + 5)\n",
    "print(2 * b ** 2 + 3 * b + 5)\n",
    "print(2 * c ** 2 + 3 * c + 5)\n",
    "print(2 * d ** 2 + 3 * d + 5)"
   ]
  },
  {
   "cell_type": "code",
   "execution_count": null,
   "metadata": {
    "colab": {
     "base_uri": "https://localhost:8080/"
    },
    "id": "xmcKbrahUzCC",
    "outputId": "70536a90-7323-4acf-e408-6fb027575fd7",
    "pycharm": {
     "name": "#%%\n"
    }
   },
   "outputs": [],
   "source": [
    "def f(x):\n",
    "    return 2 * x ** 2 + 3 * x + 5\n",
    "print(f(a), f(b), f(c), f(d))"
   ]
  },
  {
   "cell_type": "markdown",
   "metadata": {
    "id": "zfymfY3KWCfu",
    "pycharm": {
     "name": "#%% md\n"
    }
   },
   "source": [
    "Еще пример про гипотенузу:"
   ]
  },
  {
   "cell_type": "code",
   "execution_count": null,
   "metadata": {
    "colab": {
     "base_uri": "https://localhost:8080/"
    },
    "id": "mTbC_HBKWGK5",
    "outputId": "0693a98c-3df9-47de-f97b-e79a2135b27c",
    "pycharm": {
     "name": "#%%\n"
    }
   },
   "outputs": [],
   "source": [
    "def f(a, b):\n",
    "    return (a ** 2 + b ** 2) ** 0.5\n",
    "print(f(3, 4), f(5, 12))"
   ]
  },
  {
   "cell_type": "markdown",
   "metadata": {
    "id": "kZyvUO4hVDMQ",
    "pycharm": {
     "name": "#%% md\n"
    }
   },
   "source": [
    "Примеры стандартных функций и методов (уже реализованных за вас в языке Python) для строк и списков вы увидите ниже. Метод – это тоже функция, но реализованная уже для объекта конкретного класса (для строк и списков конкретный класс – то же самое, что конкретный тип). Отличие скорее синтаксическое, чем смысловое (смысловое станет понятно позже и пока нас не интересует).\n",
    "Функция: `f(x, x1, x2)`, метод: `x.f(x1, x2)`\n",
    "\n",
    "В отличие от функции, метод явно требует, чтобы `x` был конкретного типа."
   ]
  },
  {
   "cell_type": "markdown",
   "metadata": {
    "id": "Efx7CEJVM3Kq",
    "pycharm": {
     "name": "#%% md\n"
    }
   },
   "source": [
    "## Цикл for. Списки и строки."
   ]
  },
  {
   "cell_type": "markdown",
   "metadata": {
    "id": "udgiGsEW0fOx",
    "pycharm": {
     "name": "#%% md\n"
    }
   },
   "source": [
    "Для итерации по множеству значений используется цикл for:"
   ]
  },
  {
   "cell_type": "code",
   "execution_count": 1,
   "metadata": {
    "colab": {
     "base_uri": "https://localhost:8080/"
    },
    "id": "8_I_iUhBKFtj",
    "outputId": "2afa2a90-6ac3-45b2-8501-2984dc76da3f",
    "pycharm": {
     "name": "#%%\n"
    }
   },
   "outputs": [
    {
     "name": "stdout",
     "output_type": "stream",
     "text": [
      "1\n",
      "2\n",
      "3\n",
      "4\n"
     ]
    }
   ],
   "source": [
    "for i in 1, 2, 3, 4:\n",
    "    print(i)"
   ]
  },
  {
   "cell_type": "markdown",
   "metadata": {
    "id": "3J4GXwQX0p-v",
    "pycharm": {
     "name": "#%% md\n"
    }
   },
   "source": [
    "Множество значений может быть задано списком, кортежем, строкой или диапазоном (`range`). На примере ниже мы создаем список `a`, заполненный числами от `1` до `4` и итерируемся по нему:"
   ]
  },
  {
   "cell_type": "code",
   "execution_count": 2,
   "metadata": {
    "colab": {
     "base_uri": "https://localhost:8080/"
    },
    "id": "dJpqEbgPKoB3",
    "outputId": "14e367b0-d9ce-48ee-a9af-79fc79020926",
    "pycharm": {
     "name": "#%%\n"
    }
   },
   "outputs": [
    {
     "name": "stdout",
     "output_type": "stream",
     "text": [
      "1\n",
      "2\n",
      "3\n",
      "4\n"
     ]
    }
   ],
   "source": [
    "a = [1, 2, 3, 4]\n",
    "for x in a:\n",
    "    print(x)"
   ]
  },
  {
   "cell_type": "markdown",
   "metadata": {
    "id": "0-BrkVW503n3",
    "pycharm": {
     "name": "#%% md\n"
    }
   },
   "source": [
    "Для обращения к конкретному элементу списка используются индексы:"
   ]
  },
  {
   "cell_type": "code",
   "execution_count": 3,
   "metadata": {
    "colab": {
     "base_uri": "https://localhost:8080/"
    },
    "id": "AHJDhA6cLQCJ",
    "outputId": "57c043d9-9cc1-4d08-9304-cd116d7b2d01",
    "pycharm": {
     "name": "#%%\n"
    }
   },
   "outputs": [
    {
     "name": "stdout",
     "output_type": "stream",
     "text": [
      "2 1 4\n"
     ]
    }
   ],
   "source": [
    "print(a[1], a[0], a[-1])"
   ]
  },
  {
   "cell_type": "markdown",
   "metadata": {
    "id": "XvriQnko1MuB",
    "pycharm": {
     "name": "#%% md\n"
    }
   },
   "source": [
    "Мы получили такой результат, потому что **индексация начинается с нуля**. Кроме того, для удобства в Python реализована возможность обращаться к последнему элементу по индексу `-1`, к предпоследнему `-2` и так далее. Для списка из `n` элементов определены индексы от `-n` до `n-1` включительно."
   ]
  },
  {
   "cell_type": "markdown",
   "metadata": {
    "id": "abD2boJj1w14",
    "pycharm": {
     "name": "#%% md\n"
    }
   },
   "source": [
    "Еще один тип данных, для работы с переменными которого удобна итерация - это строки (`str`). Строка считывается со стандартного ввода функцией `input()`. Напомним, что для двух строк определена операция сложения (конкатенации), также определена операция умножения строки на число.\n",
    "\n",
    "Строка состоит из последовательности символов. Узнать количество символов (длину строки) можно при помощи функции `len`:"
   ]
  },
  {
   "cell_type": "code",
   "execution_count": null,
   "metadata": {
    "colab": {
     "base_uri": "https://localhost:8080/"
    },
    "id": "7yuexhDj2JyS",
    "outputId": "f28ee209-7463-43da-fa5a-69ca62e97974",
    "pycharm": {
     "name": "#%%\n"
    }
   },
   "outputs": [],
   "source": [
    "s = \"abcd\"\n",
    "s1 = input()\n",
    "print(len(s), len(s1))"
   ]
  },
  {
   "cell_type": "markdown",
   "metadata": {
    "id": "FgwMEe462Omw",
    "pycharm": {
     "name": "#%% md\n"
    }
   },
   "source": [
    "Все сказанное про итерацию по спискам справедливо и для строки:"
   ]
  },
  {
   "cell_type": "code",
   "execution_count": 4,
   "metadata": {
    "colab": {
     "base_uri": "https://localhost:8080/"
    },
    "id": "MPnktaiQKroE",
    "outputId": "0808c8bc-053a-485a-d3da-ae856e399d5c",
    "pycharm": {
     "name": "#%%\n"
    }
   },
   "outputs": [
    {
     "name": "stdout",
     "output_type": "stream",
     "text": [
      "a\n",
      "b\n",
      "c\n",
      "d\n",
      "e\n",
      "f\n"
     ]
    }
   ],
   "source": [
    "s = \"abcdef\"\n",
    "for x in s:\n",
    "    print(x)"
   ]
  },
  {
   "cell_type": "code",
   "execution_count": null,
   "metadata": {
    "colab": {
     "base_uri": "https://localhost:8080/"
    },
    "id": "PLNXjKGkLngy",
    "outputId": "edb59351-3db5-4598-9f8c-0790eefdc402",
    "pycharm": {
     "name": "#%%\n"
    }
   },
   "outputs": [],
   "source": [
    "print(s[1], s[0], s[-1])"
   ]
  },
  {
   "cell_type": "code",
   "execution_count": 5,
   "metadata": {
    "colab": {
     "base_uri": "https://localhost:8080/"
    },
    "id": "4flpl7OzMKS1",
    "outputId": "a61e1ca4-406b-4e0d-aab5-d949908bce3f",
    "pycharm": {
     "name": "#%%\n"
    }
   },
   "outputs": [
    {
     "name": "stdout",
     "output_type": "stream",
     "text": [
      "a\n"
     ]
    }
   ],
   "source": [
    "print(s[-6])"
   ]
  },
  {
   "cell_type": "markdown",
   "metadata": {
    "id": "tCz7DFNg_a1n",
    "pycharm": {
     "name": "#%% md\n"
    }
   },
   "source": [
    "Ошибка `IndexError`\n",
    "возникает, когда индекс \"вылетает\" за допустимые пределы либо в положительную, либо в отрицательную сторону:"
   ]
  },
  {
   "cell_type": "code",
   "execution_count": 6,
   "metadata": {
    "colab": {
     "base_uri": "https://localhost:8080/",
     "height": 166
    },
    "id": "AXzuhdW9MQrZ",
    "outputId": "7e8a9432-65fa-4c9c-9a6b-dc06dda501a0",
    "pycharm": {
     "name": "#%%\n"
    }
   },
   "outputs": [
    {
     "ename": "IndexError",
     "evalue": "string index out of range",
     "output_type": "error",
     "traceback": [
      "\u001B[1;31m---------------------------------------------------------------------------\u001B[0m",
      "\u001B[1;31mIndexError\u001B[0m                                Traceback (most recent call last)",
      "\u001B[1;32md:\\Downloads\\lpr2022_lab1.ipynb Ячейка 82\u001B[0m in \u001B[0;36m<cell line: 1>\u001B[1;34m()\u001B[0m\n\u001B[1;32m----> <a href='vscode-notebook-cell:/d%3A/Downloads/lpr2022_lab1.ipynb#Y144sZmlsZQ%3D%3D?line=0'>1</a>\u001B[0m \u001B[39mprint\u001B[39m(s[\u001B[39m-\u001B[39;49m\u001B[39m7\u001B[39;49m])\n",
      "\u001B[1;31mIndexError\u001B[0m: string index out of range"
     ]
    }
   ],
   "source": [
    "print(s[-7])"
   ]
  },
  {
   "cell_type": "markdown",
   "metadata": {
    "id": "hDVfTYJSBLdo",
    "pycharm": {
     "name": "#%% md\n"
    }
   },
   "source": [
    "Для того чтобы вывести через пробел элементы объекта, по которому мы можем итерироваться, достаточно написать:"
   ]
  },
  {
   "cell_type": "markdown",
   "metadata": {
    "pycharm": {
     "name": "#%% md\n"
    }
   },
   "source": [
    "$*$ - это разворачивание элементов итерируемого объекта в параметры функции. Соответственно, функция `print` на примере ниже получает несколько аргументов, соответственно, выводит их через пробел"
   ]
  },
  {
   "cell_type": "code",
   "execution_count": 7,
   "metadata": {
    "colab": {
     "base_uri": "https://localhost:8080/"
    },
    "id": "ZaP3bkPv41vV",
    "outputId": "65dc56c8-fd93-499f-cce2-d4297aa371a1",
    "pycharm": {
     "name": "#%%\n"
    }
   },
   "outputs": [
    {
     "name": "stdout",
     "output_type": "stream",
     "text": [
      "1 2 3 4\n"
     ]
    }
   ],
   "source": [
    "print(*a) "
   ]
  },
  {
   "cell_type": "code",
   "execution_count": 8,
   "metadata": {
    "colab": {
     "base_uri": "https://localhost:8080/"
    },
    "id": "VRepqymC410V",
    "outputId": "58a69477-9e96-4b42-d230-c7de4cf243ec",
    "pycharm": {
     "name": "#%%\n"
    }
   },
   "outputs": [
    {
     "name": "stdout",
     "output_type": "stream",
     "text": [
      "a b c d e f\n"
     ]
    }
   ],
   "source": [
    "print(*s)"
   ]
  },
  {
   "cell_type": "markdown",
   "metadata": {
    "id": "yEPhhbwh-KgQ",
    "pycharm": {
     "name": "#%% md\n"
    }
   },
   "source": [
    "### Объект range\n",
    "Для прохода по индексам удобно использовать генератор арифметических прогрессий `range(start, stop, step)`. У него три параметра:\n",
    "1. `start` - начальный член,\n",
    "2. `stop` - ограничитель (значение не включается в прогрессию!),\n",
    "3. `step` - шаг прогрессии (может быть отрицательным)\n",
    "\n",
    "И, конечно же, по нему тоже удобно итерироваться.\n",
    "\n",
    "Примеры:"
   ]
  },
  {
   "cell_type": "code",
   "execution_count": 9,
   "metadata": {
    "colab": {
     "base_uri": "https://localhost:8080/"
    },
    "id": "yzLYOvTDJ-Jz",
    "outputId": "effb1792-e511-4211-8a5e-783c43cfe2ca",
    "pycharm": {
     "name": "#%%\n"
    }
   },
   "outputs": [
    {
     "name": "stdout",
     "output_type": "stream",
     "text": [
      "1 2 3 4\n"
     ]
    }
   ],
   "source": [
    "print(*range(1, 5, 1))"
   ]
  },
  {
   "cell_type": "code",
   "execution_count": 10,
   "metadata": {
    "colab": {
     "base_uri": "https://localhost:8080/"
    },
    "id": "ZP7BWEP_3EXN",
    "outputId": "3903814c-1bd0-4bf2-c3b7-e15767b742e4",
    "pycharm": {
     "name": "#%%\n"
    }
   },
   "outputs": [
    {
     "name": "stdout",
     "output_type": "stream",
     "text": [
      "9 7 5 3\n"
     ]
    }
   ],
   "source": [
    "print(*range(9, 1, -2))"
   ]
  },
  {
   "cell_type": "markdown",
   "metadata": {
    "id": "f5bYB6b-3Lr9",
    "pycharm": {
     "name": "#%% md\n"
    }
   },
   "source": [
    "`range` – это функция, которая принимает три параметра. Но не все из них являются обязательными. Например, выше, при выводе `range(1, 5, 1)`, мы увидели `range(1, 5)`. `step=1` это дефолтное значение параметра, поэтому нет разницы, писать `range(1, 5)` или `range(1, 5, 1)`. Кроме того, есть дефолтное значение параметра `start=0`, поэтому если мы хотим получить арифметическую прогрессию, начинающуюся с нуля и с шагом `1` достаточно написать `range(n)` вместо `range(0, n, 1)`:"
   ]
  },
  {
   "cell_type": "code",
   "execution_count": 11,
   "metadata": {
    "colab": {
     "base_uri": "https://localhost:8080/"
    },
    "id": "K1JACfLd4NtI",
    "outputId": "fc329ae8-438e-483a-aa2c-fcd89e248b59",
    "pycharm": {
     "name": "#%%\n"
    }
   },
   "outputs": [
    {
     "name": "stdout",
     "output_type": "stream",
     "text": [
      "0 1 2 3 4 5 6 7 8 9\n"
     ]
    }
   ],
   "source": [
    "print(*range(10))"
   ]
  },
  {
   "cell_type": "code",
   "execution_count": 12,
   "metadata": {
    "colab": {
     "base_uri": "https://localhost:8080/"
    },
    "id": "xbRbdoSu4S3G",
    "outputId": "afb96a45-a400-406e-b76c-f68c5842d65f",
    "pycharm": {
     "name": "#%%\n"
    }
   },
   "outputs": [
    {
     "name": "stdout",
     "output_type": "stream",
     "text": [
      "1 2 3 4 5 6 7 8 9\n"
     ]
    }
   ],
   "source": [
    "print(*range(1, 10))"
   ]
  },
  {
   "cell_type": "code",
   "execution_count": 14,
   "metadata": {
    "pycharm": {
     "name": "#%%\n"
    }
   },
   "outputs": [
    {
     "name": "stdout",
     "output_type": "stream",
     "text": [
      "\n"
     ]
    }
   ],
   "source": [
    "print(*range(10, 1, 1))"
   ]
  },
  {
   "cell_type": "markdown",
   "metadata": {
    "pycharm": {
     "name": "#%% md\n"
    }
   },
   "source": [
    "Почему получился именно такой результат?"
   ]
  },
  {
   "cell_type": "markdown",
   "metadata": {
    "id": "qxNH7Jfl4SWw",
    "pycharm": {
     "name": "#%% md\n"
    }
   },
   "source": [
    "Арифметическая прогрессия, которую реализует `range`, сама по себе используется не так часто. Основное удобство `range` состоит в том, что если раньше мы могли итерироваться по элементам списка/строки или обращаться к отдельным элементам списка/строки, то теперь мы можем создать `range` их индексов и кроме прочего **итерироваться** уже **по индексам элеменов списка/строки**:"
   ]
  },
  {
   "cell_type": "code",
   "execution_count": 15,
   "metadata": {
    "colab": {
     "base_uri": "https://localhost:8080/"
    },
    "id": "LTo8dBRM5oKQ",
    "outputId": "667800c8-74c7-43ce-b68d-b812dfa0f5a5",
    "pycharm": {
     "name": "#%%\n"
    }
   },
   "outputs": [
    {
     "name": "stdout",
     "output_type": "stream",
     "text": [
      "1\n",
      "2\n",
      "3\n",
      "4\n"
     ]
    }
   ],
   "source": [
    "for i in range(4):\n",
    "    print(a[i])"
   ]
  },
  {
   "cell_type": "code",
   "execution_count": 16,
   "metadata": {
    "colab": {
     "base_uri": "https://localhost:8080/"
    },
    "id": "Ld7Kazzc5oML",
    "outputId": "487a3ae0-2baa-43c0-8ccb-7c979d973769",
    "pycharm": {
     "name": "#%%\n"
    }
   },
   "outputs": [
    {
     "name": "stdout",
     "output_type": "stream",
     "text": [
      "a\n",
      "b\n",
      "c\n",
      "d\n",
      "e\n",
      "f\n"
     ]
    }
   ],
   "source": [
    "for i in range(6):\n",
    "    print(s[i])"
   ]
  },
  {
   "cell_type": "markdown",
   "metadata": {
    "id": "T0dTaCh6533u",
    "pycharm": {
     "name": "#%% md\n"
    }
   },
   "source": [
    "Есть полезная функция `len`, которая позволяет определить **количество элементов** списка, строки и других объектов:"
   ]
  },
  {
   "cell_type": "code",
   "execution_count": null,
   "metadata": {
    "colab": {
     "base_uri": "https://localhost:8080/"
    },
    "id": "rXbzDrax51Oc",
    "outputId": "db13dea1-a7e8-4f68-f94c-bb57c96169b1",
    "pycharm": {
     "name": "#%%\n"
    }
   },
   "outputs": [],
   "source": [
    "print(len(a), len(s))"
   ]
  },
  {
   "cell_type": "code",
   "execution_count": null,
   "metadata": {
    "colab": {
     "base_uri": "https://localhost:8080/"
    },
    "id": "Mx53Ts7z6WFz",
    "outputId": "1a342efe-f67a-4155-e182-5c6bbdf3ed4c",
    "pycharm": {
     "name": "#%%\n"
    }
   },
   "outputs": [],
   "source": [
    "for i in range(len(a)):\n",
    "    print(a[i])"
   ]
  },
  {
   "cell_type": "code",
   "execution_count": null,
   "metadata": {
    "colab": {
     "base_uri": "https://localhost:8080/"
    },
    "id": "Jay60Kl36YFx",
    "outputId": "5c2430cf-0f21-440a-ab67-b11b76e0e97e",
    "pycharm": {
     "name": "#%%\n"
    }
   },
   "outputs": [],
   "source": [
    "for i in range(2, len(s)-1):\n",
    "    print(s[i])"
   ]
  },
  {
   "cell_type": "markdown",
   "metadata": {
    "id": "aBnDA2ToRqS8",
    "pycharm": {
     "name": "#%% md\n"
    }
   },
   "source": [
    "Еще мы можем использовать range(n) для выполнения одной инструкции n раз:"
   ]
  },
  {
   "cell_type": "code",
   "execution_count": 17,
   "metadata": {
    "colab": {
     "base_uri": "https://localhost:8080/"
    },
    "id": "dKq8My-jRpr8",
    "outputId": "4893b7f2-e924-4b9f-b8b1-ecb20defe4ac",
    "pycharm": {
     "name": "#%%\n"
    }
   },
   "outputs": [
    {
     "name": "stdout",
     "output_type": "stream",
     "text": [
      "!\n",
      "!\n",
      "!\n",
      "!\n",
      "!\n"
     ]
    }
   ],
   "source": [
    "for i in range(5):\n",
    "    print(\"!\")"
   ]
  },
  {
   "cell_type": "markdown",
   "metadata": {
    "id": "JRzqWYyrNF5u",
    "pycharm": {
     "name": "#%% md\n"
    }
   },
   "source": [
    "#### Пример. Дана строка, содержащая только символы 'a', 'b' и 'c'. Удалить из нее все элементы 'b':"
   ]
  },
  {
   "cell_type": "code",
   "execution_count": null,
   "metadata": {
    "colab": {
     "base_uri": "https://localhost:8080/"
    },
    "id": "BBGq_LW1NE06",
    "outputId": "d3bf2ce8-9958-4a17-9e5c-f336c3f60300",
    "pycharm": {
     "name": "#%%\n"
    }
   },
   "outputs": [],
   "source": [
    "s = input()\n",
    "s1 = \"\"\n",
    "for x in s:\n",
    "    if x != \"b\":\n",
    "        s1 = s1 + x\n",
    "print(s1)"
   ]
  },
  {
   "cell_type": "markdown",
   "metadata": {
    "id": "KfimIsafN4nw",
    "pycharm": {
     "name": "#%% md\n"
    }
   },
   "source": [
    "#### Пример. Дана символьная строка, содержащая больше 5 символов. Требуется удалить символы с третьего по пятый:"
   ]
  },
  {
   "cell_type": "code",
   "execution_count": null,
   "metadata": {
    "colab": {
     "base_uri": "https://localhost:8080/"
    },
    "id": "xkOF-ULTOHuE",
    "outputId": "38abc5b3-4da9-41c6-f587-390574f41d34",
    "pycharm": {
     "name": "#%%\n"
    }
   },
   "outputs": [],
   "source": [
    "s = input()\n",
    "s1 = \"\"\n",
    "for i in range(2):\n",
    "    s1 = s1 + s[i] \n",
    "for i in range(5, len(s)):\n",
    "    s1 = s1 + s[i]\n",
    "print(s1)\n"
   ]
  },
  {
   "cell_type": "markdown",
   "metadata": {
    "id": "YozxaDkX7kKe",
    "pycharm": {
     "name": "#%% md\n"
    }
   },
   "source": [
    "Для добавления элементов в список используется метод `append` (без присваивания!):"
   ]
  },
  {
   "cell_type": "code",
   "execution_count": 18,
   "metadata": {
    "colab": {
     "base_uri": "https://localhost:8080/"
    },
    "id": "X4voNpU99Ec5",
    "outputId": "b416038f-2aad-44af-928a-26ee8e8b796a",
    "pycharm": {
     "name": "#%%\n"
    }
   },
   "outputs": [
    {
     "name": "stdout",
     "output_type": "stream",
     "text": [
      "[1, 2, 3, 4, 10]\n"
     ]
    }
   ],
   "source": [
    "a = [1, 2, 3, 4]\n",
    "a.append(10)\n",
    "print(a)"
   ]
  },
  {
   "cell_type": "markdown",
   "metadata": {
    "id": "1VY0u6qy9YNd",
    "pycharm": {
     "name": "#%% md\n"
    }
   },
   "source": [
    "Для преобразования строки, полученной вводом через `input()` используется следующая конструкция, детали которой подробнее мы обсудим ниже:"
   ]
  },
  {
   "cell_type": "code",
   "execution_count": 19,
   "metadata": {
    "colab": {
     "base_uri": "https://localhost:8080/"
    },
    "id": "S2AIzTFz90i0",
    "outputId": "9dc62654-885d-4474-d872-06b890c3f1ef",
    "pycharm": {
     "name": "#%%\n"
    }
   },
   "outputs": [],
   "source": [
    "a = [int(i) for i in input().split()]\n",
    "print(a)"
   ]
  },
  {
   "cell_type": "markdown",
   "metadata": {
    "id": "pyPjuCKu639B",
    "pycharm": {
     "name": "#%% md\n"
    }
   },
   "source": [
    "#### Пример. Дан список, содержащий больше пяти элементов. Требуется удалить из него все элементы с третьего по пятый."
   ]
  },
  {
   "cell_type": "code",
   "execution_count": null,
   "metadata": {
    "colab": {
     "base_uri": "https://localhost:8080/"
    },
    "id": "UmUerATq9VWJ",
    "outputId": "d4921179-de39-4755-ba1f-63c899c4709e",
    "pycharm": {
     "name": "#%%\n"
    }
   },
   "outputs": [],
   "source": [
    "a = [int(i) for i in input().split()]\n",
    "b = []\n",
    "for i in range(2):\n",
    "    b.append(a[i])\n",
    "for i in range(5, len(a)):\n",
    "    b.append(a[i])\n",
    "print(b)"
   ]
  },
  {
   "cell_type": "markdown",
   "metadata": {
    "id": "Wtd4W6Qh_ESY",
    "pycharm": {
     "name": "#%% md\n"
    }
   },
   "source": [
    "### Задача 1 Считать список. Удалить из него все элементы, равные единице. Вывести элементы полученного списка через пробел."
   ]
  },
  {
   "cell_type": "code",
   "execution_count": null,
   "metadata": {
    "pycharm": {
     "name": "#%%\n"
    }
   },
   "outputs": [],
   "source": []
  },
  {
   "cell_type": "markdown",
   "metadata": {
    "id": "_Gp_166G_hGN",
    "pycharm": {
     "name": "#%% md\n"
    }
   },
   "source": [
    "Хотелось бы иметь возможность делать такие преобразования проще. Для этого в Python есть срезы. **Срез (slice)** — извлечение из данной строки одного символа или некоторого фрагмента подстроки или подпоследовательности. Синтаксис среза напоминает синтаксис `range`: \n",
    "`s[start:stop:step]` - срез элементов строки/списка с индексами `[start; stop)` с шагом step.\n",
    "\n",
    "Посмотрим, как упростится решение задачи про удаление символов с третьего по пятый:"
   ]
  },
  {
   "cell_type": "code",
   "execution_count": 3,
   "metadata": {
    "colab": {
     "base_uri": "https://localhost:8080/"
    },
    "id": "WK033iWwOrNl",
    "outputId": "698c7cd6-8719-4399-e52a-be946eac1cbb",
    "pycharm": {
     "name": "#%%\n"
    }
   },
   "outputs": [
    {
     "name": "stdout",
     "output_type": "stream",
     "text": [
      "abfghij\n"
     ]
    }
   ],
   "source": [
    "s = \"abcdefghij\"\n",
    "s1 = s[0:2:1] + s[5:len(s):1]\n",
    "print(s1)"
   ]
  },
  {
   "cell_type": "markdown",
   "metadata": {
    "id": "Qh04pq8KAqBx",
    "pycharm": {
     "name": "#%% md\n"
    }
   },
   "source": [
    "Шаг указывать не обязательно, более того, не обязательно указывать начало, если начинаем с нулевого элемента и конец, если заканчиваем последним:"
   ]
  },
  {
   "cell_type": "code",
   "execution_count": null,
   "metadata": {
    "colab": {
     "base_uri": "https://localhost:8080/"
    },
    "id": "ORvKnqeNO6lQ",
    "outputId": "4e4e57e4-d68f-4163-f23d-c202e326f3cf",
    "pycharm": {
     "name": "#%%\n"
    }
   },
   "outputs": [],
   "source": [
    "print(s[:2] + s[5:])"
   ]
  },
  {
   "cell_type": "code",
   "execution_count": null,
   "metadata": {
    "colab": {
     "base_uri": "https://localhost:8080/"
    },
    "id": "-kTURNphPdyQ",
    "outputId": "ed84a7b4-3cac-4746-c6c4-8de620fd2a39",
    "pycharm": {
     "name": "#%%\n"
    }
   },
   "outputs": [],
   "source": [
    "print(s[5:0:-2])"
   ]
  },
  {
   "cell_type": "code",
   "execution_count": null,
   "metadata": {
    "colab": {
     "base_uri": "https://localhost:8080/"
    },
    "id": "93vzL6mvPy7G",
    "outputId": "ddafd1ac-abd5-42ea-c232-0c1958a69179",
    "pycharm": {
     "name": "#%%\n"
    }
   },
   "outputs": [],
   "source": [
    "print(s[4:0:-2])"
   ]
  },
  {
   "cell_type": "code",
   "execution_count": null,
   "metadata": {
    "colab": {
     "base_uri": "https://localhost:8080/"
    },
    "id": "ixD732LgEiNu",
    "outputId": "598b9fcd-df6b-40b2-eb08-b2fdee0eac1b",
    "pycharm": {
     "name": "#%%\n"
    }
   },
   "outputs": [],
   "source": [
    "print(s[4:-1:-2])"
   ]
  },
  {
   "cell_type": "markdown",
   "metadata": {
    "id": "qzwWKWGnEnY8",
    "pycharm": {
     "name": "#%% md\n"
    }
   },
   "source": [
    "Как интерпретировать этот результат? `-1` - это индекс последнего элемента строки. При отрицательном шаге у нас получается пустая последовательность, т.к. 4-й элемент стоит левее последнего. Для получения того, что мы ожидаем получить, можно просто не указывать значение параметра stop:"
   ]
  },
  {
   "cell_type": "code",
   "execution_count": null,
   "metadata": {
    "colab": {
     "base_uri": "https://localhost:8080/"
    },
    "id": "1MC5IMprQLR4",
    "outputId": "06c27a0a-6c60-470f-e149-617140966574",
    "pycharm": {
     "name": "#%%\n"
    }
   },
   "outputs": [],
   "source": [
    "print(s[4::-2])"
   ]
  },
  {
   "cell_type": "code",
   "execution_count": null,
   "metadata": {
    "colab": {
     "base_uri": "https://localhost:8080/"
    },
    "id": "XERKLgvzQM6y",
    "outputId": "d15d29ef-6661-4b4f-cc2d-e808215d6edd",
    "pycharm": {
     "name": "#%%\n"
    }
   },
   "outputs": [],
   "source": [
    "print(s[::-1])"
   ]
  },
  {
   "cell_type": "markdown",
   "metadata": {
    "id": "k21J1k1hBdIR",
    "pycharm": {
     "name": "#%% md\n"
    }
   },
   "source": [
    "## Методы строк"
   ]
  },
  {
   "cell_type": "markdown",
   "metadata": {
    "id": "kVFI8LWwB-m5",
    "pycharm": {
     "name": "#%% md\n"
    }
   },
   "source": [
    "Один из основных методов строк - `split`. Это способ разбить строку на список строк по некоторому разделителю. Синтаксис: `str.split(sep)`, sep (от слова separator) - разделитель. По умолчанию `sep=' '`."
   ]
  },
  {
   "cell_type": "code",
   "execution_count": null,
   "metadata": {
    "colab": {
     "base_uri": "https://localhost:8080/"
    },
    "id": "15UOSXBSCXzx",
    "outputId": "93a26d3e-4141-4a3d-bf0d-ea1346f4e18c",
    "pycharm": {
     "name": "#%%\n"
    }
   },
   "outputs": [],
   "source": [
    "s = \"1+2+3+4\"\n",
    "print(s.split('+'))"
   ]
  },
  {
   "cell_type": "code",
   "execution_count": null,
   "metadata": {
    "colab": {
     "base_uri": "https://localhost:8080/"
    },
    "id": "Xb5DI0jbCilT",
    "outputId": "99d52491-092f-445a-fa47-3f8987833b93",
    "pycharm": {
     "name": "#%%\n"
    }
   },
   "outputs": [
    {
     "ename": "",
     "evalue": "",
     "output_type": "error",
     "traceback": [
      "\u001B[1;31mДля выполнения ячеек с \"Python 3.10.6 64-bit\" требуется пакет ipykernel.\n",
      "\u001B[1;31mВыполните следующую команду, чтобы установить \"ipykernel\" в среде Python. \n",
      "\u001B[1;31mКоманда: \"c:/Users/muras/AppData/Local/Programs/Python/Python310/python.exe -m pip install ipykernel -U --user --force-reinstall\""
     ]
    }
   ],
   "source": [
    "s = \"1 2 3 4\"\n",
    "print(s.split())"
   ]
  },
  {
   "cell_type": "code",
   "execution_count": 2,
   "metadata": {
    "colab": {
     "base_uri": "https://localhost:8080/"
    },
    "id": "JL6qC2RJCqcB",
    "outputId": "a2a95780-9702-4d6e-d6ef-aae7c41ac2b2",
    "pycharm": {
     "name": "#%%\n"
    }
   },
   "outputs": [
    {
     "name": "stdout",
     "output_type": "stream",
     "text": [
      "['www', 'mipt', 'ru']\n",
      "mipt\n"
     ]
    }
   ],
   "source": [
    "s = \"www.mipt.ru\"\n",
    "print(s.split(\".\"))\n",
    "print(s.split(\".\")[1])"
   ]
  },
  {
   "cell_type": "markdown",
   "metadata": {
    "id": "TgC1DKQ8C4Um",
    "pycharm": {
     "name": "#%% md\n"
    }
   },
   "source": [
    "Обратный к нему метод - `join`."
   ]
  },
  {
   "cell_type": "code",
   "execution_count": 3,
   "metadata": {
    "colab": {
     "base_uri": "https://localhost:8080/",
     "height": 183
    },
    "id": "BhCj2pY1DQeE",
    "outputId": "8e61d8e1-ab52-4d4a-e30b-af099008e661",
    "pycharm": {
     "name": "#%%\n"
    }
   },
   "outputs": [
    {
     "ename": "TypeError",
     "evalue": "sequence item 0: expected str instance, int found",
     "output_type": "error",
     "traceback": [
      "\u001B[1;31m---------------------------------------------------------------------------\u001B[0m",
      "\u001B[1;31mTypeError\u001B[0m                                 Traceback (most recent call last)",
      "\u001B[1;32md:\\Downloads\\lpr2022_lab1.ipynb Ячейка 132\u001B[0m in \u001B[0;36m<cell line: 2>\u001B[1;34m()\u001B[0m\n\u001B[0;32m      <a href='vscode-notebook-cell:/d%3A/Downloads/lpr2022_lab1.ipynb#Y245sZmlsZQ%3D%3D?line=0'>1</a>\u001B[0m a \u001B[39m=\u001B[39m [\u001B[39m1\u001B[39m, \u001B[39m2\u001B[39m, \u001B[39m3\u001B[39m, \u001B[39m4\u001B[39m, \u001B[39m5\u001B[39m]\n\u001B[1;32m----> <a href='vscode-notebook-cell:/d%3A/Downloads/lpr2022_lab1.ipynb#Y245sZmlsZQ%3D%3D?line=1'>2</a>\u001B[0m \u001B[39mprint\u001B[39m(\u001B[39m\"\u001B[39;49m\u001B[39m \u001B[39;49m\u001B[39m\"\u001B[39;49m\u001B[39m.\u001B[39;49mjoin(a))\n",
      "\u001B[1;31mTypeError\u001B[0m: sequence item 0: expected str instance, int found"
     ]
    },
    {
     "ename": "",
     "evalue": "",
     "output_type": "error",
     "traceback": [
      "\u001B[1;31mПри выполнении кода в текущей ячейке или предыдущей ячейке ядро аварийно завершило работу. Проверьте код в ячейках, чтобы определить возможную причину сбоя. Щелкните <a href=\"https://aka.ms/vscodeJupyterKernelCrash\">здесь</a> для получения дополнительных сведений. Подробнее см. в <a href='command:jupyter.viewOutput'>журнале Jupyter</a>."
     ]
    }
   ],
   "source": [
    "a = [1, 2, 3, 4, 5]\n",
    "print(\" \".join(a))"
   ]
  },
  {
   "cell_type": "code",
   "execution_count": 1,
   "metadata": {
    "colab": {
     "base_uri": "https://localhost:8080/"
    },
    "id": "ENVs8xLgDbQL",
    "outputId": "fbc862de-1e12-40f3-c5c8-3b5f2058c5fe",
    "pycharm": {
     "name": "#%%\n"
    }
   },
   "outputs": [
    {
     "name": "stdout",
     "output_type": "stream",
     "text": [
      "['1', '2', '3', '4', '5']\n",
      "1, 2, 3, 4, 5\n"
     ]
    }
   ],
   "source": [
    "a = [1, 2, 3, 4, 5]\n",
    "for i in range(len(a)):\n",
    "    a[i] = str(a[i])\n",
    "print(a)\n",
    "print(\", \".join(a))"
   ]
  },
  {
   "cell_type": "markdown",
   "metadata": {
    "id": "-EG1Q52dCWGr",
    "pycharm": {
     "name": "#%% md\n"
    }
   },
   "source": [
    "Для замены фрагмента используется метод `replace`."
   ]
  },
  {
   "cell_type": "code",
   "execution_count": null,
   "metadata": {
    "colab": {
     "base_uri": "https://localhost:8080/"
    },
    "id": "DcK0ldenD5yt",
    "outputId": "74a58bdc-2fcf-4de4-c7c5-793079847f26",
    "pycharm": {
     "name": "#%%\n"
    }
   },
   "outputs": [],
   "source": [
    "s = \"abrakadabra\"\n",
    "print(s.replace(\"a\", \"A\"))"
   ]
  },
  {
   "cell_type": "markdown",
   "metadata": {
    "id": "_Nm6RA5lCh34",
    "pycharm": {
     "name": "#%% md\n"
    }
   },
   "source": [
    "Также этот метод можно использовать для удаления частей строки:"
   ]
  },
  {
   "cell_type": "code",
   "execution_count": null,
   "metadata": {
    "colab": {
     "base_uri": "https://localhost:8080/"
    },
    "id": "6gd-m4vfPEFW",
    "outputId": "52eaa04f-bdc5-4905-b768-19e1756d5b28",
    "pycharm": {
     "name": "#%%\n"
    }
   },
   "outputs": [],
   "source": [
    "s = \"abcbcdcba\"\n",
    "s1 = s.replace(\"b\", \"\")\n",
    "print(s1)"
   ]
  },
  {
   "cell_type": "markdown",
   "metadata": {
    "id": "FmeRakl9FD0k",
    "pycharm": {
     "name": "#%% md\n"
    }
   },
   "source": [
    "#### Пример.\n",
    "Рассмотрим задачу подсчета количества вхождений символа `'b'` в строку. Ее можно решить следующим образом:"
   ]
  },
  {
   "cell_type": "code",
   "execution_count": null,
   "metadata": {
    "colab": {
     "base_uri": "https://localhost:8080/"
    },
    "id": "l5h-V02AQm4b",
    "outputId": "099418e2-0c7a-49c0-d1cd-0c5820d42f41",
    "pycharm": {
     "name": "#%%\n"
    }
   },
   "outputs": [],
   "source": [
    "s = \"abcbdbegh\"\n",
    "k = 0\n",
    "for x in s:\n",
    "    if x == \"b\":\n",
    "        k += 1\n",
    "print(k)"
   ]
  },
  {
   "cell_type": "markdown",
   "metadata": {
    "id": "wYnsUqCxFRjy",
    "pycharm": {
     "name": "#%% md\n"
    }
   },
   "source": [
    "И, конечно, для этого тоже есть готовый метод `count`:"
   ]
  },
  {
   "cell_type": "code",
   "execution_count": null,
   "metadata": {
    "colab": {
     "base_uri": "https://localhost:8080/"
    },
    "id": "rPMtbCLMQN_x",
    "outputId": "e3e90044-4f40-4365-8de5-a599e51dacf5",
    "pycharm": {
     "name": "#%%\n"
    }
   },
   "outputs": [],
   "source": [
    "s = \"abcbdbegh\"\n",
    "print(s.count(\"b\"))"
   ]
  },
  {
   "cell_type": "code",
   "execution_count": null,
   "metadata": {
    "colab": {
     "base_uri": "https://localhost:8080/"
    },
    "id": "5rX4vLD2FZim",
    "outputId": "39cd0e7a-92ec-4717-a5ee-860fe0e46c18",
    "pycharm": {
     "name": "#%%\n"
    }
   },
   "outputs": [],
   "source": [
    "s = \"abcbdbegh\"\n",
    "print(s.count(\"f\"))"
   ]
  },
  {
   "cell_type": "markdown",
   "metadata": {
    "id": "eYlCHV5BF0Hu",
    "pycharm": {
     "name": "#%% md\n"
    }
   },
   "source": [
    "Существуют также методы для поиска первого и последнего вхождения подстроки в строку, перевода букв из верхнего регистра в нижний и обратно и многого другого. Их вы можете найти в интернете при самостоятельной работе над контестом."
   ]
  },
  {
   "cell_type": "markdown",
   "metadata": {
    "id": "eupsSxghGNe2",
    "pycharm": {
     "name": "#%% md\n"
    }
   },
   "source": [
    "Кроме того, есть различные методы списков. Например, append, который мы обсудили выше - это один из методов. Есть метод `count`, аналогичный методу `count` строк и многие другие методы, которые вы также можете найти в интернете. Срезы списков тоже используются аналогично:"
   ]
  },
  {
   "cell_type": "code",
   "execution_count": null,
   "metadata": {
    "colab": {
     "base_uri": "https://localhost:8080/"
    },
    "id": "04HghItWG_F-",
    "outputId": "b79efc66-6a3c-4e40-baf4-a071f71d9a02",
    "pycharm": {
     "name": "#%%\n"
    }
   },
   "outputs": [],
   "source": [
    "a = [1, 2, 3, 4, 3, 2, 5]\n",
    "print(a.count(3))"
   ]
  },
  {
   "cell_type": "code",
   "execution_count": null,
   "metadata": {
    "colab": {
     "base_uri": "https://localhost:8080/"
    },
    "id": "uKgNKRVXHMgo",
    "outputId": "70074e29-3e20-4d5b-d37b-422efd681ee7",
    "pycharm": {
     "name": "#%%\n"
    }
   },
   "outputs": [],
   "source": [
    "a = [10, 11, 12, 13, 14, 15, 16]\n",
    "print(a[2:4])"
   ]
  },
  {
   "cell_type": "markdown",
   "metadata": {
    "pycharm": {
     "name": "#%% md\n"
    }
   },
   "source": [
    "Почему это так?"
   ]
  },
  {
   "cell_type": "code",
   "execution_count": null,
   "metadata": {
    "colab": {
     "base_uri": "https://localhost:8080/"
    },
    "id": "FVGv9ORiG_LA",
    "outputId": "2dc9d26b-dc6d-42a8-c809-6000efd97bcc",
    "pycharm": {
     "name": "#%%\n"
    }
   },
   "outputs": [],
   "source": [
    "print(a[::-1])"
   ]
  },
  {
   "cell_type": "code",
   "execution_count": null,
   "metadata": {
    "colab": {
     "base_uri": "https://localhost:8080/"
    },
    "id": "loNgf_DqHMel",
    "outputId": "0daa4301-57e8-43cc-f872-e172b2e1195f",
    "pycharm": {
     "name": "#%%\n"
    }
   },
   "outputs": [],
   "source": [
    "print(a[6::-2])"
   ]
  },
  {
   "cell_type": "markdown",
   "metadata": {
    "id": "8-l61DjDRZHv",
    "pycharm": {
     "name": "#%% md\n"
    }
   },
   "source": [
    "## Заполнение списков; генераторы"
   ]
  },
  {
   "cell_type": "markdown",
   "metadata": {
    "id": "tAspaJNrHvP2",
    "pycharm": {
     "name": "#%% md\n"
    }
   },
   "source": [
    "Еще раз напомним, как можно заполнять списки с помощью добавления элементов:"
   ]
  },
  {
   "cell_type": "code",
   "execution_count": 1,
   "metadata": {
    "colab": {
     "base_uri": "https://localhost:8080/"
    },
    "id": "GMwEkKTjQUhm",
    "outputId": "02494e52-e3c2-4186-b364-410da5cb262e",
    "pycharm": {
     "name": "#%%\n"
    }
   },
   "outputs": [
    {
     "name": "stdout",
     "output_type": "stream",
     "text": [
      "[5]\n"
     ]
    }
   ],
   "source": [
    "a = []\n",
    "a.append(5)\n",
    "print(a)"
   ]
  },
  {
   "cell_type": "code",
   "execution_count": null,
   "metadata": {
    "colab": {
     "base_uri": "https://localhost:8080/"
    },
    "id": "i_es7x0zRgax",
    "outputId": "0d816dc7-15fa-4157-d528-42e22f72bd0d",
    "pycharm": {
     "name": "#%%\n"
    }
   },
   "outputs": [],
   "source": [
    "a.append(10)\n",
    "print(a)"
   ]
  },
  {
   "cell_type": "code",
   "execution_count": null,
   "metadata": {
    "colab": {
     "base_uri": "https://localhost:8080/"
    },
    "id": "wDJg_lRjRhvk",
    "outputId": "d2f47940-28c0-4881-c601-ad3dccb87ed0",
    "pycharm": {
     "name": "#%%\n"
    }
   },
   "outputs": [],
   "source": [
    "a = []\n",
    "for x in range(2, 10, 2):\n",
    "    a.append(x)\n",
    "print(a)"
   ]
  },
  {
   "cell_type": "code",
   "execution_count": null,
   "metadata": {
    "colab": {
     "base_uri": "https://localhost:8080/"
    },
    "id": "J2CiXyzmRubU",
    "outputId": "3e2cd31b-9f78-43ec-c46c-7a195e4c5ccc",
    "pycharm": {
     "name": "#%%\n"
    }
   },
   "outputs": [],
   "source": [
    "print(a[2])"
   ]
  },
  {
   "cell_type": "markdown",
   "metadata": {
    "id": "sRK4flANH14C",
    "pycharm": {
     "name": "#%% md\n"
    }
   },
   "source": [
    "Очевидно, это не самый удобный способ, и хочется найти что-то проще. Решение - генераторы списков."
   ]
  },
  {
   "cell_type": "code",
   "execution_count": null,
   "metadata": {
    "colab": {
     "base_uri": "https://localhost:8080/"
    },
    "id": "BBTr4OfsRvxo",
    "outputId": "4c443968-a786-4d0f-bc55-c8fb4bd88b49",
    "pycharm": {
     "name": "#%%\n"
    }
   },
   "outputs": [],
   "source": [
    "a = [x for x in range(2, 10, 2)]\n",
    "print(a)"
   ]
  },
  {
   "cell_type": "code",
   "execution_count": null,
   "metadata": {
    "colab": {
     "base_uri": "https://localhost:8080/"
    },
    "id": "0MGBzpKlRzyb",
    "outputId": "2fe84962-a019-4502-f842-42362201bf88",
    "pycharm": {
     "name": "#%%\n"
    }
   },
   "outputs": [],
   "source": [
    "a = [2 * x for x in range(2, 10, 2)]\n",
    "print(a)"
   ]
  },
  {
   "cell_type": "markdown",
   "metadata": {
    "id": "J-8Q8hajR_GM",
    "pycharm": {
     "name": "#%% md\n"
    }
   },
   "source": [
    "#### Пример. Заполните массив квадратами однозначных чисел"
   ]
  },
  {
   "cell_type": "code",
   "execution_count": null,
   "metadata": {
    "colab": {
     "base_uri": "https://localhost:8080/"
    },
    "id": "90M9vQTHR9i9",
    "outputId": "ee1a368a-f0ab-427b-f2d1-174d3a742a71",
    "pycharm": {
     "name": "#%%\n"
    }
   },
   "outputs": [],
   "source": [
    "a = [i ** 2 for i in range(10)]\n",
    "print(a)"
   ]
  },
  {
   "cell_type": "markdown",
   "metadata": {
    "pycharm": {
     "name": "#%% md\n"
    }
   },
   "source": [
    "#### P.S считывание с клавиатуры чисел, введенных через пробел\n",
    "\n",
    "Делается это вот так:"
   ]
  },
  {
   "cell_type": "code",
   "execution_count": 2,
   "metadata": {
    "pycharm": {
     "name": "#%%\n"
    }
   },
   "outputs": [],
   "source": [
    "a, b = map(int, input().split())"
   ]
  },
  {
   "cell_type": "markdown",
   "metadata": {
    "pycharm": {
     "name": "#%% md\n"
    }
   },
   "source": [
    "`map` применяет функцию `int` к элементам списка, полученного из строки `input()` методом `split()`. Результат ложится в переменные `a` и `b`. Другие примеры присваивания в несколько переменных для лучшего понимания приведены ниже. Функцию `map` мы подробнее обсудим на следующих занятиях."
   ]
  },
  {
   "cell_type": "code",
   "execution_count": null,
   "metadata": {
    "pycharm": {
     "name": "#%%\n"
    }
   },
   "outputs": [],
   "source": [
    "a, b = [1, 2]\n",
    "print(a)\n",
    "print(b)"
   ]
  },
  {
   "cell_type": "code",
   "execution_count": null,
   "metadata": {
    "pycharm": {
     "name": "#%%\n"
    }
   },
   "outputs": [],
   "source": [
    "a, b = [1, 2], [3, 4]\n",
    "print(a)\n",
    "print(b)"
   ]
  },
  {
   "cell_type": "code",
   "execution_count": null,
   "metadata": {
    "pycharm": {
     "name": "#%%\n"
    }
   },
   "outputs": [],
   "source": [
    "a, b = [1, 2, 3, 4] # вызовет ошибку\n",
    "print(a)\n",
    "print(b)"
   ]
  },
  {
   "cell_type": "code",
   "execution_count": 1,
   "metadata": {
    "pycharm": {
     "name": "#%%\n"
    }
   },
   "outputs": [
    {
     "name": "stdout",
     "output_type": "stream",
     "text": [
      "a\n",
      "b\n"
     ]
    }
   ],
   "source": [
    "a, b = \"ab\"\n",
    "print(a)\n",
    "print(b)"
   ]
  },
  {
   "cell_type": "code",
   "execution_count": 2,
   "metadata": {
    "pycharm": {
     "name": "#%%\n"
    }
   },
   "outputs": [
    {
     "name": "stdout",
     "output_type": "stream",
     "text": [
      "abc\n",
      "def\n"
     ]
    }
   ],
   "source": [
    "a, b = \"abc def\".split()\n",
    "print(a)\n",
    "print(b)"
   ]
  }
 ],
 "metadata": {
  "colab": {
   "collapsed_sections": [
    "viR0K_njNBOi"
   ],
   "name": "Копия блокнота \"[draft] Программа ЛФИ Python.ipynb\"",
   "provenance": []
  },
  "kernelspec": {
   "display_name": "Python 3.10.6 64-bit",
   "language": "python",
   "name": "python3"
  },
  "language_info": {
   "codemirror_mode": {
    "name": "ipython",
    "version": 3
   },
   "file_extension": ".py",
   "mimetype": "text/x-python",
   "name": "python",
   "nbconvert_exporter": "python",
   "pygments_lexer": "ipython3",
   "version": "3.10.6"
  },
  "vscode": {
   "interpreter": {
    "hash": "1478d89b7ce4d3b24612d301a01f331022994c4fdda68a772376a30451b7fbfc"
   }
  }
 },
 "nbformat": 4,
 "nbformat_minor": 1
}